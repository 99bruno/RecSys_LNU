{
 "cells": [
  {
   "cell_type": "markdown",
   "id": "7bd64a28aa34e237",
   "metadata": {},
   "source": [
    "# Homework 1\n",
    "***\n",
    "## Importing Libraries"
   ]
  },
  {
   "cell_type": "code",
   "execution_count": 54,
   "id": "4e49a4bb",
   "metadata": {
    "ExecuteTime": {
     "end_time": "2024-09-19T12:16:21.403022Z",
     "start_time": "2024-09-19T12:16:21.284691Z"
    }
   },
   "outputs": [],
   "source": [
    "import pandas as pd\n",
    "import nltk\n",
    "from nltk.stem.porter import PorterStemmer\n",
    "from sklearn.feature_extraction.text import TfidfVectorizer\n",
    "from sklearn.metrics.pairwise import cosine_similarity"
   ]
  },
  {
   "cell_type": "markdown",
   "id": "3640a53821d8450a",
   "metadata": {},
   "source": [
    "## Reading Data"
   ]
  },
  {
   "cell_type": "code",
   "execution_count": 32,
   "id": "qqXSxfXUycU4",
   "metadata": {
    "ExecuteTime": {
     "end_time": "2024-09-19T09:31:09.602178Z",
     "start_time": "2024-09-19T09:31:09.549240Z"
    },
    "colab": {
     "base_uri": "https://localhost:8080/",
     "height": 204
    },
    "executionInfo": {
     "elapsed": 280,
     "status": "ok",
     "timestamp": 1726486025403,
     "user": {
      "displayName": "Ліда Харитон",
      "userId": "02460473005633257070"
     },
     "user_tz": -180
    },
    "id": "qqXSxfXUycU4",
    "outputId": "7ed5dec0-ef6e-4189-f4a8-3a14c4f4e2d5"
   },
   "outputs": [
    {
     "data": {
      "text/html": [
       "<div>\n",
       "<style scoped>\n",
       "    .dataframe tbody tr th:only-of-type {\n",
       "        vertical-align: middle;\n",
       "    }\n",
       "\n",
       "    .dataframe tbody tr th {\n",
       "        vertical-align: top;\n",
       "    }\n",
       "\n",
       "    .dataframe thead th {\n",
       "        text-align: right;\n",
       "    }\n",
       "</style>\n",
       "<table border=\"1\" class=\"dataframe\">\n",
       "  <thead>\n",
       "    <tr style=\"text-align: right;\">\n",
       "      <th></th>\n",
       "      <th>bookID</th>\n",
       "      <th>title</th>\n",
       "      <th>authors</th>\n",
       "      <th>average_rating</th>\n",
       "    </tr>\n",
       "  </thead>\n",
       "  <tbody>\n",
       "    <tr>\n",
       "      <th>0</th>\n",
       "      <td>1</td>\n",
       "      <td>Harry Potter and the Half-Blood Prince (Harry ...</td>\n",
       "      <td>J.K. Rowling/Mary GrandPré</td>\n",
       "      <td>4.57</td>\n",
       "    </tr>\n",
       "    <tr>\n",
       "      <th>1</th>\n",
       "      <td>2</td>\n",
       "      <td>Harry Potter and the Order of the Phoenix (Har...</td>\n",
       "      <td>J.K. Rowling/Mary GrandPré</td>\n",
       "      <td>4.49</td>\n",
       "    </tr>\n",
       "    <tr>\n",
       "      <th>2</th>\n",
       "      <td>4</td>\n",
       "      <td>Harry Potter and the Chamber of Secrets (Harry...</td>\n",
       "      <td>J.K. Rowling</td>\n",
       "      <td>4.42</td>\n",
       "    </tr>\n",
       "    <tr>\n",
       "      <th>3</th>\n",
       "      <td>5</td>\n",
       "      <td>Harry Potter and the Prisoner of Azkaban (Harr...</td>\n",
       "      <td>J.K. Rowling/Mary GrandPré</td>\n",
       "      <td>4.56</td>\n",
       "    </tr>\n",
       "    <tr>\n",
       "      <th>4</th>\n",
       "      <td>8</td>\n",
       "      <td>Harry Potter Boxed Set  Books 1-5 (Harry Potte...</td>\n",
       "      <td>J.K. Rowling/Mary GrandPré</td>\n",
       "      <td>4.78</td>\n",
       "    </tr>\n",
       "  </tbody>\n",
       "</table>\n",
       "</div>"
      ],
      "text/plain": [
       "   bookID                                              title  \\\n",
       "0       1  Harry Potter and the Half-Blood Prince (Harry ...   \n",
       "1       2  Harry Potter and the Order of the Phoenix (Har...   \n",
       "2       4  Harry Potter and the Chamber of Secrets (Harry...   \n",
       "3       5  Harry Potter and the Prisoner of Azkaban (Harr...   \n",
       "4       8  Harry Potter Boxed Set  Books 1-5 (Harry Potte...   \n",
       "\n",
       "                      authors average_rating  \n",
       "0  J.K. Rowling/Mary GrandPré           4.57  \n",
       "1  J.K. Rowling/Mary GrandPré           4.49  \n",
       "2                J.K. Rowling           4.42  \n",
       "3  J.K. Rowling/Mary GrandPré           4.56  \n",
       "4  J.K. Rowling/Mary GrandPré           4.78  "
      ]
     },
     "execution_count": 32,
     "metadata": {},
     "output_type": "execute_result"
    }
   ],
   "source": [
    "df = pd.read_csv('books_data.csv')\n",
    "df.head()"
   ]
  },
  {
   "cell_type": "markdown",
   "id": "5977fe9db49b8d65",
   "metadata": {},
   "source": [
    "## Data Exploration"
   ]
  },
  {
   "cell_type": "code",
   "execution_count": 33,
   "id": "k2sKfTQAoQZX",
   "metadata": {
    "ExecuteTime": {
     "end_time": "2024-09-19T09:31:09.948806Z",
     "start_time": "2024-09-19T09:31:09.943879Z"
    },
    "colab": {
     "base_uri": "https://localhost:8080/",
     "height": 204
    },
    "executionInfo": {
     "elapsed": 417,
     "status": "ok",
     "timestamp": 1726486793014,
     "user": {
      "displayName": "Ліда Харитон",
      "userId": "02460473005633257070"
     },
     "user_tz": -180
    },
    "id": "k2sKfTQAoQZX",
    "outputId": "a4bd3c9a-db8c-48a5-aaf9-bedf26db94ec"
   },
   "outputs": [
    {
     "data": {
      "text/html": [
       "<div>\n",
       "<style scoped>\n",
       "    .dataframe tbody tr th:only-of-type {\n",
       "        vertical-align: middle;\n",
       "    }\n",
       "\n",
       "    .dataframe tbody tr th {\n",
       "        vertical-align: top;\n",
       "    }\n",
       "\n",
       "    .dataframe thead th {\n",
       "        text-align: right;\n",
       "    }\n",
       "</style>\n",
       "<table border=\"1\" class=\"dataframe\">\n",
       "  <thead>\n",
       "    <tr style=\"text-align: right;\">\n",
       "      <th></th>\n",
       "      <th>bookID</th>\n",
       "      <th>title</th>\n",
       "      <th>authors</th>\n",
       "      <th>average_rating</th>\n",
       "    </tr>\n",
       "  </thead>\n",
       "  <tbody>\n",
       "    <tr>\n",
       "      <th>11122</th>\n",
       "      <td>45631</td>\n",
       "      <td>Expelled from Eden: A William T. Vollmann Reader</td>\n",
       "      <td>William T. Vollmann/Larry McCaffery/Michael He...</td>\n",
       "      <td>4.06</td>\n",
       "    </tr>\n",
       "    <tr>\n",
       "      <th>11123</th>\n",
       "      <td>45633</td>\n",
       "      <td>You Bright and Risen Angels</td>\n",
       "      <td>William T. Vollmann</td>\n",
       "      <td>4.08</td>\n",
       "    </tr>\n",
       "    <tr>\n",
       "      <th>11124</th>\n",
       "      <td>45634</td>\n",
       "      <td>The Ice-Shirt (Seven Dreams #1)</td>\n",
       "      <td>William T. Vollmann</td>\n",
       "      <td>3.96</td>\n",
       "    </tr>\n",
       "    <tr>\n",
       "      <th>11125</th>\n",
       "      <td>45639</td>\n",
       "      <td>Poor People</td>\n",
       "      <td>William T. Vollmann</td>\n",
       "      <td>3.72</td>\n",
       "    </tr>\n",
       "    <tr>\n",
       "      <th>11126</th>\n",
       "      <td>45641</td>\n",
       "      <td>Las aventuras de Tom Sawyer</td>\n",
       "      <td>Mark Twain</td>\n",
       "      <td>3.91</td>\n",
       "    </tr>\n",
       "  </tbody>\n",
       "</table>\n",
       "</div>"
      ],
      "text/plain": [
       "       bookID                                             title  \\\n",
       "11122   45631  Expelled from Eden: A William T. Vollmann Reader   \n",
       "11123   45633                       You Bright and Risen Angels   \n",
       "11124   45634                   The Ice-Shirt (Seven Dreams #1)   \n",
       "11125   45639                                       Poor People   \n",
       "11126   45641                       Las aventuras de Tom Sawyer   \n",
       "\n",
       "                                                 authors average_rating  \n",
       "11122  William T. Vollmann/Larry McCaffery/Michael He...           4.06  \n",
       "11123                                William T. Vollmann           4.08  \n",
       "11124                                William T. Vollmann           3.96  \n",
       "11125                                William T. Vollmann           3.72  \n",
       "11126                                         Mark Twain           3.91  "
      ]
     },
     "execution_count": 33,
     "metadata": {},
     "output_type": "execute_result"
    }
   ],
   "source": [
    "df.tail(5)"
   ]
  },
  {
   "cell_type": "markdown",
   "id": "61ce09a68047bfc1",
   "metadata": {},
   "source": [
    "## Data get shape information"
   ]
  },
  {
   "cell_type": "code",
   "execution_count": 34,
   "id": "268c15c975230376",
   "metadata": {
    "ExecuteTime": {
     "end_time": "2024-09-19T09:31:10.361619Z",
     "start_time": "2024-09-19T09:31:10.357352Z"
    }
   },
   "outputs": [
    {
     "data": {
      "text/plain": [
       "(11127, 4)"
      ]
     },
     "execution_count": 34,
     "metadata": {},
     "output_type": "execute_result"
    }
   ],
   "source": [
    "df.shape"
   ]
  },
  {
   "cell_type": "markdown",
   "id": "472797d1e193db78",
   "metadata": {},
   "source": [
    "## Data check for null values"
   ]
  },
  {
   "cell_type": "code",
   "execution_count": 35,
   "id": "6d4296caaf78d5a4",
   "metadata": {
    "ExecuteTime": {
     "end_time": "2024-09-19T09:31:10.759762Z",
     "start_time": "2024-09-19T09:31:10.751593Z"
    }
   },
   "outputs": [
    {
     "data": {
      "text/plain": [
       "bookID            0\n",
       "title             0\n",
       "authors           0\n",
       "average_rating    0\n",
       "dtype: int64"
      ]
     },
     "execution_count": 35,
     "metadata": {},
     "output_type": "execute_result"
    }
   ],
   "source": [
    "df.isnull().sum()"
   ]
  },
  {
   "cell_type": "markdown",
   "id": "5b9fe3e4c79d4641",
   "metadata": {},
   "source": [
    "## Get only 7000 samples and drop bookID column"
   ]
  },
  {
   "cell_type": "code",
   "execution_count": 36,
   "id": "a084e0bead811162",
   "metadata": {
    "ExecuteTime": {
     "end_time": "2024-09-19T09:31:11.408444Z",
     "start_time": "2024-09-19T09:31:11.395561Z"
    }
   },
   "outputs": [],
   "source": [
    "df =df.sample(7000).drop(['bookID', 'average_rating'], axis=1).reset_index(drop=True)"
   ]
  },
  {
   "cell_type": "code",
   "execution_count": 37,
   "id": "ff4dc59edc005667",
   "metadata": {
    "ExecuteTime": {
     "end_time": "2024-09-19T09:31:11.693509Z",
     "start_time": "2024-09-19T09:31:11.688354Z"
    }
   },
   "outputs": [
    {
     "name": "stdout",
     "output_type": "stream",
     "text": [
      "(7000, 2)\n"
     ]
    },
    {
     "data": {
      "text/html": [
       "<div>\n",
       "<style scoped>\n",
       "    .dataframe tbody tr th:only-of-type {\n",
       "        vertical-align: middle;\n",
       "    }\n",
       "\n",
       "    .dataframe tbody tr th {\n",
       "        vertical-align: top;\n",
       "    }\n",
       "\n",
       "    .dataframe thead th {\n",
       "        text-align: right;\n",
       "    }\n",
       "</style>\n",
       "<table border=\"1\" class=\"dataframe\">\n",
       "  <thead>\n",
       "    <tr style=\"text-align: right;\">\n",
       "      <th></th>\n",
       "      <th>title</th>\n",
       "      <th>authors</th>\n",
       "    </tr>\n",
       "  </thead>\n",
       "  <tbody>\n",
       "    <tr>\n",
       "      <th>0</th>\n",
       "      <td>The Names</td>\n",
       "      <td>Don DeLillo</td>\n",
       "    </tr>\n",
       "    <tr>\n",
       "      <th>1</th>\n",
       "      <td>The Awakening (Vampire Huntress  #2)</td>\n",
       "      <td>L.A. Banks</td>\n",
       "    </tr>\n",
       "    <tr>\n",
       "      <th>2</th>\n",
       "      <td>Relentless Desire</td>\n",
       "      <td>Sandra Brown</td>\n",
       "    </tr>\n",
       "    <tr>\n",
       "      <th>3</th>\n",
       "      <td>Sometimes a Great Notion</td>\n",
       "      <td>Ken Kesey/Charles Bowden</td>\n",
       "    </tr>\n",
       "    <tr>\n",
       "      <th>4</th>\n",
       "      <td>Jojo's Bizarre Adventure  Tome 6: Jojo contre ...</td>\n",
       "      <td>Hirohiko Araki</td>\n",
       "    </tr>\n",
       "  </tbody>\n",
       "</table>\n",
       "</div>"
      ],
      "text/plain": [
       "                                               title                   authors\n",
       "0                                          The Names               Don DeLillo\n",
       "1               The Awakening (Vampire Huntress  #2)                L.A. Banks\n",
       "2                                  Relentless Desire              Sandra Brown\n",
       "3                           Sometimes a Great Notion  Ken Kesey/Charles Bowden\n",
       "4  Jojo's Bizarre Adventure  Tome 6: Jojo contre ...            Hirohiko Araki"
      ]
     },
     "execution_count": 37,
     "metadata": {},
     "output_type": "execute_result"
    }
   ],
   "source": [
    "print(df.shape)\n",
    "df.head()"
   ]
  },
  {
   "cell_type": "markdown",
   "id": "7349feebd82fbb8b",
   "metadata": {},
   "source": [
    "## Text Preprocessing"
   ]
  },
  {
   "cell_type": "code",
   "execution_count": 38,
   "id": "b3d627adf05892bc",
   "metadata": {
    "ExecuteTime": {
     "end_time": "2024-09-19T09:31:14.810272Z",
     "start_time": "2024-09-19T09:31:14.785705Z"
    }
   },
   "outputs": [],
   "source": [
    "df['text'] = df['title'].str.lower().replace(r'^\\w\\s', ' ').replace(r'\\n', ' ', regex = True)"
   ]
  },
  {
   "cell_type": "markdown",
   "id": "262c6c27",
   "metadata": {},
   "source": [
    "## Create tokenizitation function"
   ]
  },
  {
   "cell_type": "code",
   "execution_count": 39,
   "id": "a5287079173db933",
   "metadata": {
    "ExecuteTime": {
     "end_time": "2024-09-19T09:34:37.400932Z",
     "start_time": "2024-09-19T09:34:37.393211Z"
    }
   },
   "outputs": [],
   "source": [
    "stemmer = PorterStemmer()\n",
    "\n",
    "def tokenization(txt):\n",
    "    tokens = nltk.word_tokenize(txt)\n",
    "    stemming = [stemmer.stem(w) for w in tokens]\n",
    "    return \" \".join(stemming)"
   ]
  },
  {
   "cell_type": "markdown",
   "id": "eb5498bc",
   "metadata": {},
   "source": [
    "## Tokenize titles"
   ]
  },
  {
   "cell_type": "code",
   "execution_count": 40,
   "id": "ef89177137f4a81a",
   "metadata": {
    "ExecuteTime": {
     "end_time": "2024-09-19T09:31:56.023902Z",
     "start_time": "2024-09-19T09:31:55.576918Z"
    }
   },
   "outputs": [],
   "source": [
    "df['text'] = df['text'].apply(lambda x: tokenization(x))"
   ]
  },
  {
   "cell_type": "markdown",
   "id": "b062e5c5",
   "metadata": {},
   "source": [
    "## Create TFIDF Matrix and calculate cosine similarity"
   ]
  },
  {
   "cell_type": "code",
   "execution_count": 42,
   "id": "d5964829",
   "metadata": {},
   "outputs": [],
   "source": [
    "tfidvector = TfidfVectorizer(analyzer='word',stop_words='english')\n",
    "matrix = tfidvector.fit_transform(df['text'])\n",
    "similarity = cosine_similarity(matrix)"
   ]
  },
  {
   "cell_type": "markdown",
   "id": "a0536b63",
   "metadata": {},
   "source": [
    "## Check first row\n"
   ]
  },
  {
   "cell_type": "code",
   "execution_count": 43,
   "id": "8e94e3fc",
   "metadata": {},
   "outputs": [
    {
     "data": {
      "text/plain": [
       "array([0., 0., 0., ..., 0., 0., 0.])"
      ]
     },
     "execution_count": 43,
     "metadata": {},
     "output_type": "execute_result"
    }
   ],
   "source": [
    "similarity[0]"
   ]
  },
  {
   "cell_type": "code",
   "execution_count": 47,
   "id": "45f9a229",
   "metadata": {
    "scrolled": true
   },
   "outputs": [
    {
     "data": {
      "text/html": [
       "<div>\n",
       "<style scoped>\n",
       "    .dataframe tbody tr th:only-of-type {\n",
       "        vertical-align: middle;\n",
       "    }\n",
       "\n",
       "    .dataframe tbody tr th {\n",
       "        vertical-align: top;\n",
       "    }\n",
       "\n",
       "    .dataframe thead th {\n",
       "        text-align: right;\n",
       "    }\n",
       "</style>\n",
       "<table border=\"1\" class=\"dataframe\">\n",
       "  <thead>\n",
       "    <tr style=\"text-align: right;\">\n",
       "      <th></th>\n",
       "      <th>title</th>\n",
       "      <th>authors</th>\n",
       "      <th>text</th>\n",
       "    </tr>\n",
       "  </thead>\n",
       "  <tbody>\n",
       "    <tr>\n",
       "      <th>3</th>\n",
       "      <td>Sometimes a Great Notion</td>\n",
       "      <td>Ken Kesey/Charles Bowden</td>\n",
       "      <td>sometim a great notion</td>\n",
       "    </tr>\n",
       "  </tbody>\n",
       "</table>\n",
       "</div>"
      ],
      "text/plain": [
       "                      title                   authors                    text\n",
       "3  Sometimes a Great Notion  Ken Kesey/Charles Bowden  sometim a great notion"
      ]
     },
     "execution_count": 47,
     "metadata": {},
     "output_type": "execute_result"
    }
   ],
   "source": [
    "df[df['title'] == \"Sometimes a Great Notion\"]"
   ]
  },
  {
   "cell_type": "markdown",
   "id": "d17126a8",
   "metadata": {},
   "source": [
    "## Create recomendation function"
   ]
  },
  {
   "cell_type": "code",
   "execution_count": 50,
   "id": "bc1cb2bd",
   "metadata": {},
   "outputs": [],
   "source": [
    "def recommendation(song_df):\n",
    "    idx = df[df['title'] == song_df].index[0]\n",
    "    distances = sorted(list(enumerate(similarity[idx])),reverse=True,key=lambda x:x[1])\n",
    "\n",
    "    songs = []\n",
    "    for m_id in distances[1:21]:\n",
    "        songs.append(df.iloc[m_id[0]].title)\n",
    "\n",
    "    return songs"
   ]
  },
  {
   "cell_type": "markdown",
   "id": "486bc973",
   "metadata": {},
   "source": "## Recommendation for 'Sometimes a Great Notion'"
  },
  {
   "cell_type": "code",
   "execution_count": 51,
   "id": "cb2da87a",
   "metadata": {},
   "outputs": [
    {
     "data": {
      "text/plain": [
       "['The Great World',\n",
       " 'The Alchemist’s Kitchen: Extraordinary Potions & Curious Notions',\n",
       " 'The Great Gatsby',\n",
       " 'The Great Gatsby',\n",
       " 'The Great Gatsby',\n",
       " 'The Great Gatsby',\n",
       " 'The Great Gatsby',\n",
       " 'The Great Gatsby',\n",
       " 'The Great American Novel',\n",
       " 'The Great House of God',\n",
       " 'Great Expectations',\n",
       " 'Great Expectations',\n",
       " 'Ten Great Works of Philosophy',\n",
       " 'Great Short Works',\n",
       " 'The Great Divorce',\n",
       " 'The Great and Secret Show (Book of the Art #1)',\n",
       " 'The Great And Secret Show (Book of the Art #1)',\n",
       " 'Discovering Great Artists: Hands-On Art for Children in the Styles of the Great Masters',\n",
       " 'Great Jones Street',\n",
       " 'Welcome to the Great Mysterious']"
      ]
     },
     "execution_count": 51,
     "metadata": {},
     "output_type": "execute_result"
    }
   ],
   "source": [
    "recommendation('Sometimes a Great Notion')"
   ]
  },
  {
   "cell_type": "code",
   "execution_count": null,
   "id": "8dded860",
   "metadata": {},
   "outputs": [],
   "source": []
  },
  {
   "cell_type": "code",
   "execution_count": null,
   "id": "d1a9af53",
   "metadata": {},
   "outputs": [],
   "source": []
  },
  {
   "cell_type": "code",
   "execution_count": null,
   "id": "9a1f4d5f",
   "metadata": {},
   "outputs": [],
   "source": []
  },
  {
   "cell_type": "code",
   "execution_count": null,
   "id": "1ccc9cc3",
   "metadata": {},
   "outputs": [],
   "source": []
  },
  {
   "cell_type": "code",
   "execution_count": null,
   "id": "d899ef93",
   "metadata": {},
   "outputs": [],
   "source": []
  },
  {
   "cell_type": "code",
   "execution_count": null,
   "id": "85ab2bba",
   "metadata": {},
   "outputs": [],
   "source": []
  }
 ],
 "metadata": {
  "colab": {
   "provenance": []
  },
  "kernelspec": {
   "display_name": "Python 3 (ipykernel)",
   "language": "python",
   "name": "python3"
  },
  "language_info": {
   "codemirror_mode": {
    "name": "ipython",
    "version": 3
   },
   "file_extension": ".py",
   "mimetype": "text/x-python",
   "name": "python",
   "nbconvert_exporter": "python",
   "pygments_lexer": "ipython3",
   "version": "3.11.4"
  }
 },
 "nbformat": 4,
 "nbformat_minor": 5
}
