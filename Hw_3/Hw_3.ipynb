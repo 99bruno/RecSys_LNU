{
  "cells": [
    {
      "cell_type": "markdown",
      "metadata": {
        "id": "QepR_UQJGa3U"
      },
      "source": [
        "### Лабораторна робота. Класичні методи побудови рекомендацій. Частина 1\n",
        "\n",
        "У лабораторній вам потрібно буде реалізувати кілька метрик, застосувати популярні моделі та оцінити вплив гіперпараметрів на якість рекомендацій.\n",
        "\n",
        "### Формат здачі завдання\n",
        "Кожне завдання має супроводжуватися текстом з висновками. Додайте візуалізації результатів, наприклад, у завданнях порівняння якості при різних гіперпараметрах. Постарайтеся робити код лаконічним та зрозумілим для тих, хто перевіряє.\n",
        "\n",
        "Фіксуйте random seed для відтворення результатів.\n",
        "\n",
        "\n",
        "### Оцінювання\n",
        "За лабораторну можна здобути максимум 20 балів. Передбачається, що обчислювальних ресурсів Google Colab вистачить для успішного виконання роботи.\n",
        "\n",
        "### Загальна інформація про завдання\n",
        "У лабораторній роботі використовуватиметься класичний датасет [MovieLens 1M](https://paperswithcode.com/sota/collaborative-filtering-on-movielens-1m), що містить оцінки фільмів користувачами та ознаки користувачів та фільмів.\n",
        "\n",
        "Для всіх завдань, що з генерацією рекомендацій, $K=20$, тобто. Вам необхідно підготувати 20 рекомендацій для кожного користувача.\n",
        "\n",
        "Так як датасет з області кіно, і нам дано інформацію про оцінки, необхідно виконувати фільтрацію переглянутих айтемів при генерації рекомендацій.\n",
        "\n",
        "Ми будемо розділяти датасет на 2 частини, train та validation, оскільки метою завдань є наочна оцінка впливу ключових гіперпараметрів (кількість сусідів/латентних факторів) на якість. Якщо ви підбиратимете інші гіперпараметри моделей (коефіцієнти регуляризації в als, коефіцієнти K1 і B bm25), відокремте самостійно частину train для підбору параметрів, а підсумкову якість оцінюйте після підбору параметрів на validation. Підбір гіперпараметрів можна реалізувати, наприклад за допомогою optuna."
      ]
    },
    {
      "cell_type": "code",
      "source": [
        "# !pip install seaborn"
      ],
      "metadata": {
        "colab": {
          "base_uri": "https://localhost:8080/"
        },
        "id": "yP1orrPWQxL8",
        "outputId": "c8af8cbc-b750-44f2-a70e-231eb3944084"
      },
      "execution_count": 11,
      "outputs": [
        {
          "output_type": "stream",
          "name": "stdout",
          "text": [
            "Requirement already satisfied: seaborn in /usr/local/lib/python3.10/dist-packages (0.13.2)\n",
            "Requirement already satisfied: numpy!=1.24.0,>=1.20 in /usr/local/lib/python3.10/dist-packages (from seaborn) (1.26.4)\n",
            "Requirement already satisfied: pandas>=1.2 in /usr/local/lib/python3.10/dist-packages (from seaborn) (2.2.2)\n",
            "Requirement already satisfied: matplotlib!=3.6.1,>=3.4 in /usr/local/lib/python3.10/dist-packages (from seaborn) (3.8.0)\n",
            "Requirement already satisfied: contourpy>=1.0.1 in /usr/local/lib/python3.10/dist-packages (from matplotlib!=3.6.1,>=3.4->seaborn) (1.3.0)\n",
            "Requirement already satisfied: cycler>=0.10 in /usr/local/lib/python3.10/dist-packages (from matplotlib!=3.6.1,>=3.4->seaborn) (0.12.1)\n",
            "Requirement already satisfied: fonttools>=4.22.0 in /usr/local/lib/python3.10/dist-packages (from matplotlib!=3.6.1,>=3.4->seaborn) (4.54.1)\n",
            "Requirement already satisfied: kiwisolver>=1.0.1 in /usr/local/lib/python3.10/dist-packages (from matplotlib!=3.6.1,>=3.4->seaborn) (1.4.7)\n",
            "Requirement already satisfied: packaging>=20.0 in /usr/local/lib/python3.10/dist-packages (from matplotlib!=3.6.1,>=3.4->seaborn) (24.1)\n",
            "Requirement already satisfied: pillow>=6.2.0 in /usr/local/lib/python3.10/dist-packages (from matplotlib!=3.6.1,>=3.4->seaborn) (10.4.0)\n",
            "Requirement already satisfied: pyparsing>=2.3.1 in /usr/local/lib/python3.10/dist-packages (from matplotlib!=3.6.1,>=3.4->seaborn) (3.2.0)\n",
            "Requirement already satisfied: python-dateutil>=2.7 in /usr/local/lib/python3.10/dist-packages (from matplotlib!=3.6.1,>=3.4->seaborn) (2.8.2)\n",
            "Requirement already satisfied: pytz>=2020.1 in /usr/local/lib/python3.10/dist-packages (from pandas>=1.2->seaborn) (2024.2)\n",
            "Requirement already satisfied: tzdata>=2022.7 in /usr/local/lib/python3.10/dist-packages (from pandas>=1.2->seaborn) (2024.2)\n",
            "Requirement already satisfied: six>=1.5 in /usr/local/lib/python3.10/dist-packages (from python-dateutil>=2.7->matplotlib!=3.6.1,>=3.4->seaborn) (1.16.0)\n"
          ]
        }
      ]
    },
    {
      "cell_type": "code",
      "metadata": {
        "id": "XF3hsKHDGa3X",
        "ExecuteTime": {
          "end_time": "2024-11-11T12:36:29.415673Z",
          "start_time": "2024-11-11T12:36:28.776422Z"
        }
      },
      "source": [
        "import matplotlib.pyplot as plt\n",
        "import seaborn as sns\n",
        "import numpy as np\n",
        "import pandas as pd\n",
        "from statsmodels.tsa.seasonal import seasonal_decompose\n",
        "import warnings\n",
        "warnings.filterwarnings(\"ignore\")"
      ],
      "outputs": [],
      "execution_count": 12
    },
    {
      "cell_type": "code",
      "metadata": {
        "id": "ch8TWW9Agrwj",
        "ExecuteTime": {
          "end_time": "2024-11-11T12:36:57.481001Z",
          "start_time": "2024-11-11T12:36:57.472064Z"
        }
      },
      "source": [
        "K = 20\n",
        "SEED = 666\n",
        "np.random.seed(SEED)"
      ],
      "outputs": [],
      "execution_count": 2
    },
    {
      "cell_type": "markdown",
      "metadata": {
        "id": "5CDKXxINGa3X"
      },
      "source": [
        "## Знайомство з даними"
      ]
    },
    {
      "cell_type": "markdown",
      "metadata": {
        "id": "11Vx3cqIGa3Y"
      },
      "source": [
        "## Завдання 1\n",
        "\n",
        "**(2 бали) Завдання 1.** Знайомство з даними.\n",
        "Проаналізуйте, наскільки активно користувачі залишають оцінки, наскільки активно фільми отримують оцінки, які переважають, як змінюється кількість оцінок у часі. Напишіть свої результати."
      ]
    },
    {
      "cell_type": "code",
      "metadata": {
        "colab": {
          "base_uri": "https://localhost:8080/"
        },
        "id": "3sAjB4bRHKFG",
        "outputId": "b7858b9a-a235-4179-8f9d-72d3642f6c40",
        "ExecuteTime": {
          "end_time": "2024-11-11T12:38:37.019997Z",
          "start_time": "2024-11-11T12:38:35.213564Z"
        }
      },
      "source": [
        "!pip install rs-datasets"
      ],
      "outputs": [
        {
          "output_type": "stream",
          "name": "stdout",
          "text": [
            "Collecting rs-datasets\n",
            "  Downloading rs_datasets-0.5.1-py3-none-any.whl.metadata (2.6 kB)\n",
            "Collecting datatable (from rs-datasets)\n",
            "  Downloading datatable-1.1.0-cp310-cp310-manylinux_2_35_x86_64.whl.metadata (1.8 kB)\n",
            "Requirement already satisfied: pandas in /usr/local/lib/python3.10/dist-packages (from rs-datasets) (2.2.2)\n",
            "Requirement already satisfied: gdown in /usr/local/lib/python3.10/dist-packages (from rs-datasets) (5.2.0)\n",
            "Requirement already satisfied: pyarrow in /usr/local/lib/python3.10/dist-packages (from rs-datasets) (17.0.0)\n",
            "Requirement already satisfied: tqdm in /usr/local/lib/python3.10/dist-packages (from rs-datasets) (4.66.6)\n",
            "Requirement already satisfied: xlrd in /usr/local/lib/python3.10/dist-packages (from rs-datasets) (2.0.1)\n",
            "Requirement already satisfied: kaggle in /usr/local/lib/python3.10/dist-packages (from rs-datasets) (1.6.17)\n",
            "Collecting py7zr (from rs-datasets)\n",
            "  Downloading py7zr-0.22.0-py3-none-any.whl.metadata (16 kB)\n",
            "Requirement already satisfied: openpyxl in /usr/local/lib/python3.10/dist-packages (from rs-datasets) (3.1.5)\n",
            "Requirement already satisfied: beautifulsoup4 in /usr/local/lib/python3.10/dist-packages (from gdown->rs-datasets) (4.12.3)\n",
            "Requirement already satisfied: filelock in /usr/local/lib/python3.10/dist-packages (from gdown->rs-datasets) (3.16.1)\n",
            "Requirement already satisfied: requests[socks] in /usr/local/lib/python3.10/dist-packages (from gdown->rs-datasets) (2.32.3)\n",
            "Requirement already satisfied: six>=1.10 in /usr/local/lib/python3.10/dist-packages (from kaggle->rs-datasets) (1.16.0)\n",
            "Requirement already satisfied: certifi>=2023.7.22 in /usr/local/lib/python3.10/dist-packages (from kaggle->rs-datasets) (2024.8.30)\n",
            "Requirement already satisfied: python-dateutil in /usr/local/lib/python3.10/dist-packages (from kaggle->rs-datasets) (2.8.2)\n",
            "Requirement already satisfied: python-slugify in /usr/local/lib/python3.10/dist-packages (from kaggle->rs-datasets) (8.0.4)\n",
            "Requirement already satisfied: urllib3 in /usr/local/lib/python3.10/dist-packages (from kaggle->rs-datasets) (2.2.3)\n",
            "Requirement already satisfied: bleach in /usr/local/lib/python3.10/dist-packages (from kaggle->rs-datasets) (6.2.0)\n",
            "Requirement already satisfied: et-xmlfile in /usr/local/lib/python3.10/dist-packages (from openpyxl->rs-datasets) (2.0.0)\n",
            "Requirement already satisfied: numpy>=1.22.4 in /usr/local/lib/python3.10/dist-packages (from pandas->rs-datasets) (1.26.4)\n",
            "Requirement already satisfied: pytz>=2020.1 in /usr/local/lib/python3.10/dist-packages (from pandas->rs-datasets) (2024.2)\n",
            "Requirement already satisfied: tzdata>=2022.7 in /usr/local/lib/python3.10/dist-packages (from pandas->rs-datasets) (2024.2)\n",
            "Collecting texttable (from py7zr->rs-datasets)\n",
            "  Downloading texttable-1.7.0-py2.py3-none-any.whl.metadata (9.8 kB)\n",
            "Collecting pycryptodomex>=3.16.0 (from py7zr->rs-datasets)\n",
            "  Downloading pycryptodomex-3.21.0-cp36-abi3-manylinux_2_17_x86_64.manylinux2014_x86_64.whl.metadata (3.4 kB)\n",
            "Collecting pyzstd>=0.15.9 (from py7zr->rs-datasets)\n",
            "  Downloading pyzstd-0.16.2-cp310-cp310-manylinux_2_17_x86_64.manylinux2014_x86_64.whl.metadata (2.4 kB)\n",
            "Collecting pyppmd<1.2.0,>=1.1.0 (from py7zr->rs-datasets)\n",
            "  Downloading pyppmd-1.1.0-cp310-cp310-manylinux_2_17_x86_64.manylinux2014_x86_64.whl.metadata (5.7 kB)\n",
            "Collecting pybcj<1.1.0,>=1.0.0 (from py7zr->rs-datasets)\n",
            "  Downloading pybcj-1.0.2-cp310-cp310-manylinux_2_17_x86_64.manylinux2014_x86_64.whl.metadata (4.0 kB)\n",
            "Collecting multivolumefile>=0.2.3 (from py7zr->rs-datasets)\n",
            "  Downloading multivolumefile-0.2.3-py3-none-any.whl.metadata (6.3 kB)\n",
            "Collecting inflate64<1.1.0,>=1.0.0 (from py7zr->rs-datasets)\n",
            "  Downloading inflate64-1.0.0-cp310-cp310-manylinux_2_17_x86_64.manylinux2014_x86_64.whl.metadata (4.0 kB)\n",
            "Collecting brotli>=1.1.0 (from py7zr->rs-datasets)\n",
            "  Downloading Brotli-1.1.0-cp310-cp310-manylinux_2_5_x86_64.manylinux1_x86_64.manylinux_2_12_x86_64.manylinux2010_x86_64.whl.metadata (5.5 kB)\n",
            "Requirement already satisfied: psutil in /usr/local/lib/python3.10/dist-packages (from py7zr->rs-datasets) (5.9.5)\n",
            "Requirement already satisfied: soupsieve>1.2 in /usr/local/lib/python3.10/dist-packages (from beautifulsoup4->gdown->rs-datasets) (2.6)\n",
            "Requirement already satisfied: webencodings in /usr/local/lib/python3.10/dist-packages (from bleach->kaggle->rs-datasets) (0.5.1)\n",
            "Requirement already satisfied: text-unidecode>=1.3 in /usr/local/lib/python3.10/dist-packages (from python-slugify->kaggle->rs-datasets) (1.3)\n",
            "Requirement already satisfied: charset-normalizer<4,>=2 in /usr/local/lib/python3.10/dist-packages (from requests[socks]->gdown->rs-datasets) (3.4.0)\n",
            "Requirement already satisfied: idna<4,>=2.5 in /usr/local/lib/python3.10/dist-packages (from requests[socks]->gdown->rs-datasets) (3.10)\n",
            "Requirement already satisfied: PySocks!=1.5.7,>=1.5.6 in /usr/local/lib/python3.10/dist-packages (from requests[socks]->gdown->rs-datasets) (1.7.1)\n",
            "Downloading rs_datasets-0.5.1-py3-none-any.whl (21 kB)\n",
            "Downloading datatable-1.1.0-cp310-cp310-manylinux_2_35_x86_64.whl (82.0 MB)\n",
            "\u001b[2K   \u001b[90m━━━━━━━━━━━━━━━━━━━━━━━━━━━━━━━━━━━━━━━━\u001b[0m \u001b[32m82.0/82.0 MB\u001b[0m \u001b[31m12.9 MB/s\u001b[0m eta \u001b[36m0:00:00\u001b[0m\n",
            "\u001b[?25hDownloading py7zr-0.22.0-py3-none-any.whl (67 kB)\n",
            "\u001b[2K   \u001b[90m━━━━━━━━━━━━━━━━━━━━━━━━━━━━━━━━━━━━━━━━\u001b[0m \u001b[32m67.9/67.9 kB\u001b[0m \u001b[31m5.9 MB/s\u001b[0m eta \u001b[36m0:00:00\u001b[0m\n",
            "\u001b[?25hDownloading Brotli-1.1.0-cp310-cp310-manylinux_2_5_x86_64.manylinux1_x86_64.manylinux_2_12_x86_64.manylinux2010_x86_64.whl (3.0 MB)\n",
            "\u001b[2K   \u001b[90m━━━━━━━━━━━━━━━━━━━━━━━━━━━━━━━━━━━━━━━━\u001b[0m \u001b[32m3.0/3.0 MB\u001b[0m \u001b[31m81.3 MB/s\u001b[0m eta \u001b[36m0:00:00\u001b[0m\n",
            "\u001b[?25hDownloading inflate64-1.0.0-cp310-cp310-manylinux_2_17_x86_64.manylinux2014_x86_64.whl (93 kB)\n",
            "\u001b[2K   \u001b[90m━━━━━━━━━━━━━━━━━━━━━━━━━━━━━━━━━━━━━━━━\u001b[0m \u001b[32m93.1/93.1 kB\u001b[0m \u001b[31m7.2 MB/s\u001b[0m eta \u001b[36m0:00:00\u001b[0m\n",
            "\u001b[?25hDownloading multivolumefile-0.2.3-py3-none-any.whl (17 kB)\n",
            "Downloading pybcj-1.0.2-cp310-cp310-manylinux_2_17_x86_64.manylinux2014_x86_64.whl (49 kB)\n",
            "\u001b[2K   \u001b[90m━━━━━━━━━━━━━━━━━━━━━━━━━━━━━━━━━━━━━━━━\u001b[0m \u001b[32m49.7/49.7 kB\u001b[0m \u001b[31m3.1 MB/s\u001b[0m eta \u001b[36m0:00:00\u001b[0m\n",
            "\u001b[?25hDownloading pycryptodomex-3.21.0-cp36-abi3-manylinux_2_17_x86_64.manylinux2014_x86_64.whl (2.3 MB)\n",
            "\u001b[2K   \u001b[90m━━━━━━━━━━━━━━━━━━━━━━━━━━━━━━━━━━━━━━━━\u001b[0m \u001b[32m2.3/2.3 MB\u001b[0m \u001b[31m75.4 MB/s\u001b[0m eta \u001b[36m0:00:00\u001b[0m\n",
            "\u001b[?25hDownloading pyppmd-1.1.0-cp310-cp310-manylinux_2_17_x86_64.manylinux2014_x86_64.whl (138 kB)\n",
            "\u001b[2K   \u001b[90m━━━━━━━━━━━━━━━━━━━━━━━━━━━━━━━━━━━━━━━━\u001b[0m \u001b[32m138.9/138.9 kB\u001b[0m \u001b[31m10.6 MB/s\u001b[0m eta \u001b[36m0:00:00\u001b[0m\n",
            "\u001b[?25hDownloading pyzstd-0.16.2-cp310-cp310-manylinux_2_17_x86_64.manylinux2014_x86_64.whl (413 kB)\n",
            "\u001b[2K   \u001b[90m━━━━━━━━━━━━━━━━━━━━━━━━━━━━━━━━━━━━━━━━\u001b[0m \u001b[32m413.7/413.7 kB\u001b[0m \u001b[31m29.3 MB/s\u001b[0m eta \u001b[36m0:00:00\u001b[0m\n",
            "\u001b[?25hDownloading texttable-1.7.0-py2.py3-none-any.whl (10 kB)\n",
            "Installing collected packages: texttable, brotli, pyzstd, pyppmd, pycryptodomex, pybcj, multivolumefile, inflate64, datatable, py7zr, rs-datasets\n",
            "Successfully installed brotli-1.1.0 datatable-1.1.0 inflate64-1.0.0 multivolumefile-0.2.3 py7zr-0.22.0 pybcj-1.0.2 pycryptodomex-3.21.0 pyppmd-1.1.0 pyzstd-0.16.2 rs-datasets-0.5.1 texttable-1.7.0\n"
          ]
        }
      ],
      "execution_count": 3
    },
    {
      "cell_type": "code",
      "metadata": {
        "colab": {
          "base_uri": "https://localhost:8080/",
          "height": 17
        },
        "id": "H_Kc_-ZAn0mv",
        "outputId": "07ab3457-4ef1-45fe-946f-21be73a8173d",
        "ExecuteTime": {
          "end_time": "2024-11-11T12:41:09.892947Z",
          "start_time": "2024-11-11T12:41:09.776654Z"
        }
      },
      "source": [
        "from rs_datasets import MovieLens"
      ],
      "outputs": [
        {
          "output_type": "display_data",
          "data": {
            "text/plain": [
              "<IPython.core.display.HTML object>"
            ],
            "text/html": [
              "<style type='text/css'>\n",
              ".datatable table.frame { margin-bottom: 0; }\n",
              ".datatable table.frame thead { border-bottom: none; }\n",
              ".datatable table.frame tr.coltypes td {  color: #FFFFFF;  line-height: 6px;  padding: 0 0.5em;}\n",
              ".datatable .bool    { background: #DDDD99; }\n",
              ".datatable .object  { background: #565656; }\n",
              ".datatable .int     { background: #5D9E5D; }\n",
              ".datatable .float   { background: #4040CC; }\n",
              ".datatable .str     { background: #CC4040; }\n",
              ".datatable .time    { background: #40CC40; }\n",
              ".datatable .row_index {  background: var(--jp-border-color3);  border-right: 1px solid var(--jp-border-color0);  color: var(--jp-ui-font-color3);  font-size: 9px;}\n",
              ".datatable .frame tbody td { text-align: left; }\n",
              ".datatable .frame tr.coltypes .row_index {  background: var(--jp-border-color0);}\n",
              ".datatable th:nth-child(2) { padding-left: 12px; }\n",
              ".datatable .hellipsis {  color: var(--jp-cell-editor-border-color);}\n",
              ".datatable .vellipsis {  background: var(--jp-layout-color0);  color: var(--jp-cell-editor-border-color);}\n",
              ".datatable .na {  color: var(--jp-cell-editor-border-color);  font-size: 80%;}\n",
              ".datatable .sp {  opacity: 0.25;}\n",
              ".datatable .footer { font-size: 9px; }\n",
              ".datatable .frame_dimensions {  background: var(--jp-border-color3);  border-top: 1px solid var(--jp-border-color0);  color: var(--jp-ui-font-color3);  display: inline-block;  opacity: 0.6;  padding: 1px 10px 1px 5px;}\n",
              "</style>\n"
            ]
          },
          "metadata": {}
        }
      ],
      "execution_count": 4
    },
    {
      "cell_type": "code",
      "execution_count": 5,
      "metadata": {
        "ExecuteTime": {
          "end_time": "2024-11-10T23:27:33.455169Z",
          "start_time": "2024-11-10T23:27:33.254648Z"
        },
        "colab": {
          "base_uri": "https://localhost:8080/",
          "height": 535
        },
        "id": "X2wCtbukn5KH",
        "outputId": "1d3b2db2-afc8-494a-edf6-f6454b6e5e5d"
      },
      "outputs": [
        {
          "output_type": "stream",
          "name": "stderr",
          "text": [
            "INFO:rs_datasets:Downloading ml-1m from grouplens...\n",
            "5.93MB [00:00, 17.3MB/s]                            \n"
          ]
        },
        {
          "output_type": "stream",
          "name": "stdout",
          "text": [
            "ratings\n"
          ]
        },
        {
          "output_type": "display_data",
          "data": {
            "text/plain": [
              "   user_id  item_id  rating  timestamp\n",
              "0        1     1193       5  978300760\n",
              "1        1      661       3  978302109\n",
              "2        1      914       3  978301968"
            ],
            "text/html": [
              "\n",
              "  <div id=\"df-cbff03eb-c73c-4c72-8554-8e28524944ad\" class=\"colab-df-container\">\n",
              "    <div>\n",
              "<style scoped>\n",
              "    .dataframe tbody tr th:only-of-type {\n",
              "        vertical-align: middle;\n",
              "    }\n",
              "\n",
              "    .dataframe tbody tr th {\n",
              "        vertical-align: top;\n",
              "    }\n",
              "\n",
              "    .dataframe thead th {\n",
              "        text-align: right;\n",
              "    }\n",
              "</style>\n",
              "<table border=\"1\" class=\"dataframe\">\n",
              "  <thead>\n",
              "    <tr style=\"text-align: right;\">\n",
              "      <th></th>\n",
              "      <th>user_id</th>\n",
              "      <th>item_id</th>\n",
              "      <th>rating</th>\n",
              "      <th>timestamp</th>\n",
              "    </tr>\n",
              "  </thead>\n",
              "  <tbody>\n",
              "    <tr>\n",
              "      <th>0</th>\n",
              "      <td>1</td>\n",
              "      <td>1193</td>\n",
              "      <td>5</td>\n",
              "      <td>978300760</td>\n",
              "    </tr>\n",
              "    <tr>\n",
              "      <th>1</th>\n",
              "      <td>1</td>\n",
              "      <td>661</td>\n",
              "      <td>3</td>\n",
              "      <td>978302109</td>\n",
              "    </tr>\n",
              "    <tr>\n",
              "      <th>2</th>\n",
              "      <td>1</td>\n",
              "      <td>914</td>\n",
              "      <td>3</td>\n",
              "      <td>978301968</td>\n",
              "    </tr>\n",
              "  </tbody>\n",
              "</table>\n",
              "</div>\n",
              "    <div class=\"colab-df-buttons\">\n",
              "\n",
              "  <div class=\"colab-df-container\">\n",
              "    <button class=\"colab-df-convert\" onclick=\"convertToInteractive('df-cbff03eb-c73c-4c72-8554-8e28524944ad')\"\n",
              "            title=\"Convert this dataframe to an interactive table.\"\n",
              "            style=\"display:none;\">\n",
              "\n",
              "  <svg xmlns=\"http://www.w3.org/2000/svg\" height=\"24px\" viewBox=\"0 -960 960 960\">\n",
              "    <path d=\"M120-120v-720h720v720H120Zm60-500h600v-160H180v160Zm220 220h160v-160H400v160Zm0 220h160v-160H400v160ZM180-400h160v-160H180v160Zm440 0h160v-160H620v160ZM180-180h160v-160H180v160Zm440 0h160v-160H620v160Z\"/>\n",
              "  </svg>\n",
              "    </button>\n",
              "\n",
              "  <style>\n",
              "    .colab-df-container {\n",
              "      display:flex;\n",
              "      gap: 12px;\n",
              "    }\n",
              "\n",
              "    .colab-df-convert {\n",
              "      background-color: #E8F0FE;\n",
              "      border: none;\n",
              "      border-radius: 50%;\n",
              "      cursor: pointer;\n",
              "      display: none;\n",
              "      fill: #1967D2;\n",
              "      height: 32px;\n",
              "      padding: 0 0 0 0;\n",
              "      width: 32px;\n",
              "    }\n",
              "\n",
              "    .colab-df-convert:hover {\n",
              "      background-color: #E2EBFA;\n",
              "      box-shadow: 0px 1px 2px rgba(60, 64, 67, 0.3), 0px 1px 3px 1px rgba(60, 64, 67, 0.15);\n",
              "      fill: #174EA6;\n",
              "    }\n",
              "\n",
              "    .colab-df-buttons div {\n",
              "      margin-bottom: 4px;\n",
              "    }\n",
              "\n",
              "    [theme=dark] .colab-df-convert {\n",
              "      background-color: #3B4455;\n",
              "      fill: #D2E3FC;\n",
              "    }\n",
              "\n",
              "    [theme=dark] .colab-df-convert:hover {\n",
              "      background-color: #434B5C;\n",
              "      box-shadow: 0px 1px 3px 1px rgba(0, 0, 0, 0.15);\n",
              "      filter: drop-shadow(0px 1px 2px rgba(0, 0, 0, 0.3));\n",
              "      fill: #FFFFFF;\n",
              "    }\n",
              "  </style>\n",
              "\n",
              "    <script>\n",
              "      const buttonEl =\n",
              "        document.querySelector('#df-cbff03eb-c73c-4c72-8554-8e28524944ad button.colab-df-convert');\n",
              "      buttonEl.style.display =\n",
              "        google.colab.kernel.accessAllowed ? 'block' : 'none';\n",
              "\n",
              "      async function convertToInteractive(key) {\n",
              "        const element = document.querySelector('#df-cbff03eb-c73c-4c72-8554-8e28524944ad');\n",
              "        const dataTable =\n",
              "          await google.colab.kernel.invokeFunction('convertToInteractive',\n",
              "                                                    [key], {});\n",
              "        if (!dataTable) return;\n",
              "\n",
              "        const docLinkHtml = 'Like what you see? Visit the ' +\n",
              "          '<a target=\"_blank\" href=https://colab.research.google.com/notebooks/data_table.ipynb>data table notebook</a>'\n",
              "          + ' to learn more about interactive tables.';\n",
              "        element.innerHTML = '';\n",
              "        dataTable['output_type'] = 'display_data';\n",
              "        await google.colab.output.renderOutput(dataTable, element);\n",
              "        const docLink = document.createElement('div');\n",
              "        docLink.innerHTML = docLinkHtml;\n",
              "        element.appendChild(docLink);\n",
              "      }\n",
              "    </script>\n",
              "  </div>\n",
              "\n",
              "\n",
              "<div id=\"df-94734a75-2755-4198-8227-971ff3cea0fd\">\n",
              "  <button class=\"colab-df-quickchart\" onclick=\"quickchart('df-94734a75-2755-4198-8227-971ff3cea0fd')\"\n",
              "            title=\"Suggest charts\"\n",
              "            style=\"display:none;\">\n",
              "\n",
              "<svg xmlns=\"http://www.w3.org/2000/svg\" height=\"24px\"viewBox=\"0 0 24 24\"\n",
              "     width=\"24px\">\n",
              "    <g>\n",
              "        <path d=\"M19 3H5c-1.1 0-2 .9-2 2v14c0 1.1.9 2 2 2h14c1.1 0 2-.9 2-2V5c0-1.1-.9-2-2-2zM9 17H7v-7h2v7zm4 0h-2V7h2v10zm4 0h-2v-4h2v4z\"/>\n",
              "    </g>\n",
              "</svg>\n",
              "  </button>\n",
              "\n",
              "<style>\n",
              "  .colab-df-quickchart {\n",
              "      --bg-color: #E8F0FE;\n",
              "      --fill-color: #1967D2;\n",
              "      --hover-bg-color: #E2EBFA;\n",
              "      --hover-fill-color: #174EA6;\n",
              "      --disabled-fill-color: #AAA;\n",
              "      --disabled-bg-color: #DDD;\n",
              "  }\n",
              "\n",
              "  [theme=dark] .colab-df-quickchart {\n",
              "      --bg-color: #3B4455;\n",
              "      --fill-color: #D2E3FC;\n",
              "      --hover-bg-color: #434B5C;\n",
              "      --hover-fill-color: #FFFFFF;\n",
              "      --disabled-bg-color: #3B4455;\n",
              "      --disabled-fill-color: #666;\n",
              "  }\n",
              "\n",
              "  .colab-df-quickchart {\n",
              "    background-color: var(--bg-color);\n",
              "    border: none;\n",
              "    border-radius: 50%;\n",
              "    cursor: pointer;\n",
              "    display: none;\n",
              "    fill: var(--fill-color);\n",
              "    height: 32px;\n",
              "    padding: 0;\n",
              "    width: 32px;\n",
              "  }\n",
              "\n",
              "  .colab-df-quickchart:hover {\n",
              "    background-color: var(--hover-bg-color);\n",
              "    box-shadow: 0 1px 2px rgba(60, 64, 67, 0.3), 0 1px 3px 1px rgba(60, 64, 67, 0.15);\n",
              "    fill: var(--button-hover-fill-color);\n",
              "  }\n",
              "\n",
              "  .colab-df-quickchart-complete:disabled,\n",
              "  .colab-df-quickchart-complete:disabled:hover {\n",
              "    background-color: var(--disabled-bg-color);\n",
              "    fill: var(--disabled-fill-color);\n",
              "    box-shadow: none;\n",
              "  }\n",
              "\n",
              "  .colab-df-spinner {\n",
              "    border: 2px solid var(--fill-color);\n",
              "    border-color: transparent;\n",
              "    border-bottom-color: var(--fill-color);\n",
              "    animation:\n",
              "      spin 1s steps(1) infinite;\n",
              "  }\n",
              "\n",
              "  @keyframes spin {\n",
              "    0% {\n",
              "      border-color: transparent;\n",
              "      border-bottom-color: var(--fill-color);\n",
              "      border-left-color: var(--fill-color);\n",
              "    }\n",
              "    20% {\n",
              "      border-color: transparent;\n",
              "      border-left-color: var(--fill-color);\n",
              "      border-top-color: var(--fill-color);\n",
              "    }\n",
              "    30% {\n",
              "      border-color: transparent;\n",
              "      border-left-color: var(--fill-color);\n",
              "      border-top-color: var(--fill-color);\n",
              "      border-right-color: var(--fill-color);\n",
              "    }\n",
              "    40% {\n",
              "      border-color: transparent;\n",
              "      border-right-color: var(--fill-color);\n",
              "      border-top-color: var(--fill-color);\n",
              "    }\n",
              "    60% {\n",
              "      border-color: transparent;\n",
              "      border-right-color: var(--fill-color);\n",
              "    }\n",
              "    80% {\n",
              "      border-color: transparent;\n",
              "      border-right-color: var(--fill-color);\n",
              "      border-bottom-color: var(--fill-color);\n",
              "    }\n",
              "    90% {\n",
              "      border-color: transparent;\n",
              "      border-bottom-color: var(--fill-color);\n",
              "    }\n",
              "  }\n",
              "</style>\n",
              "\n",
              "  <script>\n",
              "    async function quickchart(key) {\n",
              "      const quickchartButtonEl =\n",
              "        document.querySelector('#' + key + ' button');\n",
              "      quickchartButtonEl.disabled = true;  // To prevent multiple clicks.\n",
              "      quickchartButtonEl.classList.add('colab-df-spinner');\n",
              "      try {\n",
              "        const charts = await google.colab.kernel.invokeFunction(\n",
              "            'suggestCharts', [key], {});\n",
              "      } catch (error) {\n",
              "        console.error('Error during call to suggestCharts:', error);\n",
              "      }\n",
              "      quickchartButtonEl.classList.remove('colab-df-spinner');\n",
              "      quickchartButtonEl.classList.add('colab-df-quickchart-complete');\n",
              "    }\n",
              "    (() => {\n",
              "      let quickchartButtonEl =\n",
              "        document.querySelector('#df-94734a75-2755-4198-8227-971ff3cea0fd button');\n",
              "      quickchartButtonEl.style.display =\n",
              "        google.colab.kernel.accessAllowed ? 'block' : 'none';\n",
              "    })();\n",
              "  </script>\n",
              "</div>\n",
              "    </div>\n",
              "  </div>\n"
            ],
            "application/vnd.google.colaboratory.intrinsic+json": {
              "type": "dataframe",
              "summary": "{\n  \"name\": \"data\",\n  \"rows\": 3,\n  \"fields\": [\n    {\n      \"column\": \"user_id\",\n      \"properties\": {\n        \"dtype\": \"int32\",\n        \"num_unique_values\": 1,\n        \"samples\": [\n          1\n        ],\n        \"semantic_type\": \"\",\n        \"description\": \"\"\n      }\n    },\n    {\n      \"column\": \"item_id\",\n      \"properties\": {\n        \"dtype\": \"int32\",\n        \"num_unique_values\": 3,\n        \"samples\": [\n          1193\n        ],\n        \"semantic_type\": \"\",\n        \"description\": \"\"\n      }\n    },\n    {\n      \"column\": \"rating\",\n      \"properties\": {\n        \"dtype\": \"int32\",\n        \"num_unique_values\": 2,\n        \"samples\": [\n          3\n        ],\n        \"semantic_type\": \"\",\n        \"description\": \"\"\n      }\n    },\n    {\n      \"column\": \"timestamp\",\n      \"properties\": {\n        \"dtype\": \"int32\",\n        \"num_unique_values\": 3,\n        \"samples\": [\n          978300760\n        ],\n        \"semantic_type\": \"\",\n        \"description\": \"\"\n      }\n    }\n  ]\n}"
            }
          },
          "metadata": {}
        },
        {
          "output_type": "stream",
          "name": "stdout",
          "text": [
            "\n",
            "users\n"
          ]
        },
        {
          "output_type": "display_data",
          "data": {
            "text/plain": [
              "   user_id gender  age  occupation zip_code\n",
              "0        1      F    1          10    48067\n",
              "1        2      M   56          16    70072\n",
              "2        3      M   25          15    55117"
            ],
            "text/html": [
              "\n",
              "  <div id=\"df-ebd1319d-0998-40d5-8166-cfd21b83bcf9\" class=\"colab-df-container\">\n",
              "    <div>\n",
              "<style scoped>\n",
              "    .dataframe tbody tr th:only-of-type {\n",
              "        vertical-align: middle;\n",
              "    }\n",
              "\n",
              "    .dataframe tbody tr th {\n",
              "        vertical-align: top;\n",
              "    }\n",
              "\n",
              "    .dataframe thead th {\n",
              "        text-align: right;\n",
              "    }\n",
              "</style>\n",
              "<table border=\"1\" class=\"dataframe\">\n",
              "  <thead>\n",
              "    <tr style=\"text-align: right;\">\n",
              "      <th></th>\n",
              "      <th>user_id</th>\n",
              "      <th>gender</th>\n",
              "      <th>age</th>\n",
              "      <th>occupation</th>\n",
              "      <th>zip_code</th>\n",
              "    </tr>\n",
              "  </thead>\n",
              "  <tbody>\n",
              "    <tr>\n",
              "      <th>0</th>\n",
              "      <td>1</td>\n",
              "      <td>F</td>\n",
              "      <td>1</td>\n",
              "      <td>10</td>\n",
              "      <td>48067</td>\n",
              "    </tr>\n",
              "    <tr>\n",
              "      <th>1</th>\n",
              "      <td>2</td>\n",
              "      <td>M</td>\n",
              "      <td>56</td>\n",
              "      <td>16</td>\n",
              "      <td>70072</td>\n",
              "    </tr>\n",
              "    <tr>\n",
              "      <th>2</th>\n",
              "      <td>3</td>\n",
              "      <td>M</td>\n",
              "      <td>25</td>\n",
              "      <td>15</td>\n",
              "      <td>55117</td>\n",
              "    </tr>\n",
              "  </tbody>\n",
              "</table>\n",
              "</div>\n",
              "    <div class=\"colab-df-buttons\">\n",
              "\n",
              "  <div class=\"colab-df-container\">\n",
              "    <button class=\"colab-df-convert\" onclick=\"convertToInteractive('df-ebd1319d-0998-40d5-8166-cfd21b83bcf9')\"\n",
              "            title=\"Convert this dataframe to an interactive table.\"\n",
              "            style=\"display:none;\">\n",
              "\n",
              "  <svg xmlns=\"http://www.w3.org/2000/svg\" height=\"24px\" viewBox=\"0 -960 960 960\">\n",
              "    <path d=\"M120-120v-720h720v720H120Zm60-500h600v-160H180v160Zm220 220h160v-160H400v160Zm0 220h160v-160H400v160ZM180-400h160v-160H180v160Zm440 0h160v-160H620v160ZM180-180h160v-160H180v160Zm440 0h160v-160H620v160Z\"/>\n",
              "  </svg>\n",
              "    </button>\n",
              "\n",
              "  <style>\n",
              "    .colab-df-container {\n",
              "      display:flex;\n",
              "      gap: 12px;\n",
              "    }\n",
              "\n",
              "    .colab-df-convert {\n",
              "      background-color: #E8F0FE;\n",
              "      border: none;\n",
              "      border-radius: 50%;\n",
              "      cursor: pointer;\n",
              "      display: none;\n",
              "      fill: #1967D2;\n",
              "      height: 32px;\n",
              "      padding: 0 0 0 0;\n",
              "      width: 32px;\n",
              "    }\n",
              "\n",
              "    .colab-df-convert:hover {\n",
              "      background-color: #E2EBFA;\n",
              "      box-shadow: 0px 1px 2px rgba(60, 64, 67, 0.3), 0px 1px 3px 1px rgba(60, 64, 67, 0.15);\n",
              "      fill: #174EA6;\n",
              "    }\n",
              "\n",
              "    .colab-df-buttons div {\n",
              "      margin-bottom: 4px;\n",
              "    }\n",
              "\n",
              "    [theme=dark] .colab-df-convert {\n",
              "      background-color: #3B4455;\n",
              "      fill: #D2E3FC;\n",
              "    }\n",
              "\n",
              "    [theme=dark] .colab-df-convert:hover {\n",
              "      background-color: #434B5C;\n",
              "      box-shadow: 0px 1px 3px 1px rgba(0, 0, 0, 0.15);\n",
              "      filter: drop-shadow(0px 1px 2px rgba(0, 0, 0, 0.3));\n",
              "      fill: #FFFFFF;\n",
              "    }\n",
              "  </style>\n",
              "\n",
              "    <script>\n",
              "      const buttonEl =\n",
              "        document.querySelector('#df-ebd1319d-0998-40d5-8166-cfd21b83bcf9 button.colab-df-convert');\n",
              "      buttonEl.style.display =\n",
              "        google.colab.kernel.accessAllowed ? 'block' : 'none';\n",
              "\n",
              "      async function convertToInteractive(key) {\n",
              "        const element = document.querySelector('#df-ebd1319d-0998-40d5-8166-cfd21b83bcf9');\n",
              "        const dataTable =\n",
              "          await google.colab.kernel.invokeFunction('convertToInteractive',\n",
              "                                                    [key], {});\n",
              "        if (!dataTable) return;\n",
              "\n",
              "        const docLinkHtml = 'Like what you see? Visit the ' +\n",
              "          '<a target=\"_blank\" href=https://colab.research.google.com/notebooks/data_table.ipynb>data table notebook</a>'\n",
              "          + ' to learn more about interactive tables.';\n",
              "        element.innerHTML = '';\n",
              "        dataTable['output_type'] = 'display_data';\n",
              "        await google.colab.output.renderOutput(dataTable, element);\n",
              "        const docLink = document.createElement('div');\n",
              "        docLink.innerHTML = docLinkHtml;\n",
              "        element.appendChild(docLink);\n",
              "      }\n",
              "    </script>\n",
              "  </div>\n",
              "\n",
              "\n",
              "<div id=\"df-b3f52973-bafc-4865-b576-c5552667bf89\">\n",
              "  <button class=\"colab-df-quickchart\" onclick=\"quickchart('df-b3f52973-bafc-4865-b576-c5552667bf89')\"\n",
              "            title=\"Suggest charts\"\n",
              "            style=\"display:none;\">\n",
              "\n",
              "<svg xmlns=\"http://www.w3.org/2000/svg\" height=\"24px\"viewBox=\"0 0 24 24\"\n",
              "     width=\"24px\">\n",
              "    <g>\n",
              "        <path d=\"M19 3H5c-1.1 0-2 .9-2 2v14c0 1.1.9 2 2 2h14c1.1 0 2-.9 2-2V5c0-1.1-.9-2-2-2zM9 17H7v-7h2v7zm4 0h-2V7h2v10zm4 0h-2v-4h2v4z\"/>\n",
              "    </g>\n",
              "</svg>\n",
              "  </button>\n",
              "\n",
              "<style>\n",
              "  .colab-df-quickchart {\n",
              "      --bg-color: #E8F0FE;\n",
              "      --fill-color: #1967D2;\n",
              "      --hover-bg-color: #E2EBFA;\n",
              "      --hover-fill-color: #174EA6;\n",
              "      --disabled-fill-color: #AAA;\n",
              "      --disabled-bg-color: #DDD;\n",
              "  }\n",
              "\n",
              "  [theme=dark] .colab-df-quickchart {\n",
              "      --bg-color: #3B4455;\n",
              "      --fill-color: #D2E3FC;\n",
              "      --hover-bg-color: #434B5C;\n",
              "      --hover-fill-color: #FFFFFF;\n",
              "      --disabled-bg-color: #3B4455;\n",
              "      --disabled-fill-color: #666;\n",
              "  }\n",
              "\n",
              "  .colab-df-quickchart {\n",
              "    background-color: var(--bg-color);\n",
              "    border: none;\n",
              "    border-radius: 50%;\n",
              "    cursor: pointer;\n",
              "    display: none;\n",
              "    fill: var(--fill-color);\n",
              "    height: 32px;\n",
              "    padding: 0;\n",
              "    width: 32px;\n",
              "  }\n",
              "\n",
              "  .colab-df-quickchart:hover {\n",
              "    background-color: var(--hover-bg-color);\n",
              "    box-shadow: 0 1px 2px rgba(60, 64, 67, 0.3), 0 1px 3px 1px rgba(60, 64, 67, 0.15);\n",
              "    fill: var(--button-hover-fill-color);\n",
              "  }\n",
              "\n",
              "  .colab-df-quickchart-complete:disabled,\n",
              "  .colab-df-quickchart-complete:disabled:hover {\n",
              "    background-color: var(--disabled-bg-color);\n",
              "    fill: var(--disabled-fill-color);\n",
              "    box-shadow: none;\n",
              "  }\n",
              "\n",
              "  .colab-df-spinner {\n",
              "    border: 2px solid var(--fill-color);\n",
              "    border-color: transparent;\n",
              "    border-bottom-color: var(--fill-color);\n",
              "    animation:\n",
              "      spin 1s steps(1) infinite;\n",
              "  }\n",
              "\n",
              "  @keyframes spin {\n",
              "    0% {\n",
              "      border-color: transparent;\n",
              "      border-bottom-color: var(--fill-color);\n",
              "      border-left-color: var(--fill-color);\n",
              "    }\n",
              "    20% {\n",
              "      border-color: transparent;\n",
              "      border-left-color: var(--fill-color);\n",
              "      border-top-color: var(--fill-color);\n",
              "    }\n",
              "    30% {\n",
              "      border-color: transparent;\n",
              "      border-left-color: var(--fill-color);\n",
              "      border-top-color: var(--fill-color);\n",
              "      border-right-color: var(--fill-color);\n",
              "    }\n",
              "    40% {\n",
              "      border-color: transparent;\n",
              "      border-right-color: var(--fill-color);\n",
              "      border-top-color: var(--fill-color);\n",
              "    }\n",
              "    60% {\n",
              "      border-color: transparent;\n",
              "      border-right-color: var(--fill-color);\n",
              "    }\n",
              "    80% {\n",
              "      border-color: transparent;\n",
              "      border-right-color: var(--fill-color);\n",
              "      border-bottom-color: var(--fill-color);\n",
              "    }\n",
              "    90% {\n",
              "      border-color: transparent;\n",
              "      border-bottom-color: var(--fill-color);\n",
              "    }\n",
              "  }\n",
              "</style>\n",
              "\n",
              "  <script>\n",
              "    async function quickchart(key) {\n",
              "      const quickchartButtonEl =\n",
              "        document.querySelector('#' + key + ' button');\n",
              "      quickchartButtonEl.disabled = true;  // To prevent multiple clicks.\n",
              "      quickchartButtonEl.classList.add('colab-df-spinner');\n",
              "      try {\n",
              "        const charts = await google.colab.kernel.invokeFunction(\n",
              "            'suggestCharts', [key], {});\n",
              "      } catch (error) {\n",
              "        console.error('Error during call to suggestCharts:', error);\n",
              "      }\n",
              "      quickchartButtonEl.classList.remove('colab-df-spinner');\n",
              "      quickchartButtonEl.classList.add('colab-df-quickchart-complete');\n",
              "    }\n",
              "    (() => {\n",
              "      let quickchartButtonEl =\n",
              "        document.querySelector('#df-b3f52973-bafc-4865-b576-c5552667bf89 button');\n",
              "      quickchartButtonEl.style.display =\n",
              "        google.colab.kernel.accessAllowed ? 'block' : 'none';\n",
              "    })();\n",
              "  </script>\n",
              "</div>\n",
              "    </div>\n",
              "  </div>\n"
            ],
            "application/vnd.google.colaboratory.intrinsic+json": {
              "type": "dataframe",
              "summary": "{\n  \"name\": \"data\",\n  \"rows\": 3,\n  \"fields\": [\n    {\n      \"column\": \"user_id\",\n      \"properties\": {\n        \"dtype\": \"int32\",\n        \"num_unique_values\": 3,\n        \"samples\": [\n          1,\n          2,\n          3\n        ],\n        \"semantic_type\": \"\",\n        \"description\": \"\"\n      }\n    },\n    {\n      \"column\": \"gender\",\n      \"properties\": {\n        \"dtype\": \"string\",\n        \"num_unique_values\": 2,\n        \"samples\": [\n          \"M\",\n          \"F\"\n        ],\n        \"semantic_type\": \"\",\n        \"description\": \"\"\n      }\n    },\n    {\n      \"column\": \"age\",\n      \"properties\": {\n        \"dtype\": \"int32\",\n        \"num_unique_values\": 3,\n        \"samples\": [\n          1,\n          56\n        ],\n        \"semantic_type\": \"\",\n        \"description\": \"\"\n      }\n    },\n    {\n      \"column\": \"occupation\",\n      \"properties\": {\n        \"dtype\": \"int32\",\n        \"num_unique_values\": 3,\n        \"samples\": [\n          10,\n          16\n        ],\n        \"semantic_type\": \"\",\n        \"description\": \"\"\n      }\n    },\n    {\n      \"column\": \"zip_code\",\n      \"properties\": {\n        \"dtype\": \"string\",\n        \"num_unique_values\": 3,\n        \"samples\": [\n          \"48067\",\n          \"70072\"\n        ],\n        \"semantic_type\": \"\",\n        \"description\": \"\"\n      }\n    }\n  ]\n}"
            }
          },
          "metadata": {}
        },
        {
          "output_type": "stream",
          "name": "stdout",
          "text": [
            "\n",
            "items\n"
          ]
        },
        {
          "output_type": "display_data",
          "data": {
            "text/plain": [
              "   item_id                    title                        genres\n",
              "0        1         Toy Story (1995)   Animation|Children's|Comedy\n",
              "1        2           Jumanji (1995)  Adventure|Children's|Fantasy\n",
              "2        3  Grumpier Old Men (1995)                Comedy|Romance"
            ],
            "text/html": [
              "\n",
              "  <div id=\"df-ae04aee0-cb03-4bb8-a928-b3cfa5138513\" class=\"colab-df-container\">\n",
              "    <div>\n",
              "<style scoped>\n",
              "    .dataframe tbody tr th:only-of-type {\n",
              "        vertical-align: middle;\n",
              "    }\n",
              "\n",
              "    .dataframe tbody tr th {\n",
              "        vertical-align: top;\n",
              "    }\n",
              "\n",
              "    .dataframe thead th {\n",
              "        text-align: right;\n",
              "    }\n",
              "</style>\n",
              "<table border=\"1\" class=\"dataframe\">\n",
              "  <thead>\n",
              "    <tr style=\"text-align: right;\">\n",
              "      <th></th>\n",
              "      <th>item_id</th>\n",
              "      <th>title</th>\n",
              "      <th>genres</th>\n",
              "    </tr>\n",
              "  </thead>\n",
              "  <tbody>\n",
              "    <tr>\n",
              "      <th>0</th>\n",
              "      <td>1</td>\n",
              "      <td>Toy Story (1995)</td>\n",
              "      <td>Animation|Children's|Comedy</td>\n",
              "    </tr>\n",
              "    <tr>\n",
              "      <th>1</th>\n",
              "      <td>2</td>\n",
              "      <td>Jumanji (1995)</td>\n",
              "      <td>Adventure|Children's|Fantasy</td>\n",
              "    </tr>\n",
              "    <tr>\n",
              "      <th>2</th>\n",
              "      <td>3</td>\n",
              "      <td>Grumpier Old Men (1995)</td>\n",
              "      <td>Comedy|Romance</td>\n",
              "    </tr>\n",
              "  </tbody>\n",
              "</table>\n",
              "</div>\n",
              "    <div class=\"colab-df-buttons\">\n",
              "\n",
              "  <div class=\"colab-df-container\">\n",
              "    <button class=\"colab-df-convert\" onclick=\"convertToInteractive('df-ae04aee0-cb03-4bb8-a928-b3cfa5138513')\"\n",
              "            title=\"Convert this dataframe to an interactive table.\"\n",
              "            style=\"display:none;\">\n",
              "\n",
              "  <svg xmlns=\"http://www.w3.org/2000/svg\" height=\"24px\" viewBox=\"0 -960 960 960\">\n",
              "    <path d=\"M120-120v-720h720v720H120Zm60-500h600v-160H180v160Zm220 220h160v-160H400v160Zm0 220h160v-160H400v160ZM180-400h160v-160H180v160Zm440 0h160v-160H620v160ZM180-180h160v-160H180v160Zm440 0h160v-160H620v160Z\"/>\n",
              "  </svg>\n",
              "    </button>\n",
              "\n",
              "  <style>\n",
              "    .colab-df-container {\n",
              "      display:flex;\n",
              "      gap: 12px;\n",
              "    }\n",
              "\n",
              "    .colab-df-convert {\n",
              "      background-color: #E8F0FE;\n",
              "      border: none;\n",
              "      border-radius: 50%;\n",
              "      cursor: pointer;\n",
              "      display: none;\n",
              "      fill: #1967D2;\n",
              "      height: 32px;\n",
              "      padding: 0 0 0 0;\n",
              "      width: 32px;\n",
              "    }\n",
              "\n",
              "    .colab-df-convert:hover {\n",
              "      background-color: #E2EBFA;\n",
              "      box-shadow: 0px 1px 2px rgba(60, 64, 67, 0.3), 0px 1px 3px 1px rgba(60, 64, 67, 0.15);\n",
              "      fill: #174EA6;\n",
              "    }\n",
              "\n",
              "    .colab-df-buttons div {\n",
              "      margin-bottom: 4px;\n",
              "    }\n",
              "\n",
              "    [theme=dark] .colab-df-convert {\n",
              "      background-color: #3B4455;\n",
              "      fill: #D2E3FC;\n",
              "    }\n",
              "\n",
              "    [theme=dark] .colab-df-convert:hover {\n",
              "      background-color: #434B5C;\n",
              "      box-shadow: 0px 1px 3px 1px rgba(0, 0, 0, 0.15);\n",
              "      filter: drop-shadow(0px 1px 2px rgba(0, 0, 0, 0.3));\n",
              "      fill: #FFFFFF;\n",
              "    }\n",
              "  </style>\n",
              "\n",
              "    <script>\n",
              "      const buttonEl =\n",
              "        document.querySelector('#df-ae04aee0-cb03-4bb8-a928-b3cfa5138513 button.colab-df-convert');\n",
              "      buttonEl.style.display =\n",
              "        google.colab.kernel.accessAllowed ? 'block' : 'none';\n",
              "\n",
              "      async function convertToInteractive(key) {\n",
              "        const element = document.querySelector('#df-ae04aee0-cb03-4bb8-a928-b3cfa5138513');\n",
              "        const dataTable =\n",
              "          await google.colab.kernel.invokeFunction('convertToInteractive',\n",
              "                                                    [key], {});\n",
              "        if (!dataTable) return;\n",
              "\n",
              "        const docLinkHtml = 'Like what you see? Visit the ' +\n",
              "          '<a target=\"_blank\" href=https://colab.research.google.com/notebooks/data_table.ipynb>data table notebook</a>'\n",
              "          + ' to learn more about interactive tables.';\n",
              "        element.innerHTML = '';\n",
              "        dataTable['output_type'] = 'display_data';\n",
              "        await google.colab.output.renderOutput(dataTable, element);\n",
              "        const docLink = document.createElement('div');\n",
              "        docLink.innerHTML = docLinkHtml;\n",
              "        element.appendChild(docLink);\n",
              "      }\n",
              "    </script>\n",
              "  </div>\n",
              "\n",
              "\n",
              "<div id=\"df-f31a9a71-8de6-48df-b906-be43a75daa69\">\n",
              "  <button class=\"colab-df-quickchart\" onclick=\"quickchart('df-f31a9a71-8de6-48df-b906-be43a75daa69')\"\n",
              "            title=\"Suggest charts\"\n",
              "            style=\"display:none;\">\n",
              "\n",
              "<svg xmlns=\"http://www.w3.org/2000/svg\" height=\"24px\"viewBox=\"0 0 24 24\"\n",
              "     width=\"24px\">\n",
              "    <g>\n",
              "        <path d=\"M19 3H5c-1.1 0-2 .9-2 2v14c0 1.1.9 2 2 2h14c1.1 0 2-.9 2-2V5c0-1.1-.9-2-2-2zM9 17H7v-7h2v7zm4 0h-2V7h2v10zm4 0h-2v-4h2v4z\"/>\n",
              "    </g>\n",
              "</svg>\n",
              "  </button>\n",
              "\n",
              "<style>\n",
              "  .colab-df-quickchart {\n",
              "      --bg-color: #E8F0FE;\n",
              "      --fill-color: #1967D2;\n",
              "      --hover-bg-color: #E2EBFA;\n",
              "      --hover-fill-color: #174EA6;\n",
              "      --disabled-fill-color: #AAA;\n",
              "      --disabled-bg-color: #DDD;\n",
              "  }\n",
              "\n",
              "  [theme=dark] .colab-df-quickchart {\n",
              "      --bg-color: #3B4455;\n",
              "      --fill-color: #D2E3FC;\n",
              "      --hover-bg-color: #434B5C;\n",
              "      --hover-fill-color: #FFFFFF;\n",
              "      --disabled-bg-color: #3B4455;\n",
              "      --disabled-fill-color: #666;\n",
              "  }\n",
              "\n",
              "  .colab-df-quickchart {\n",
              "    background-color: var(--bg-color);\n",
              "    border: none;\n",
              "    border-radius: 50%;\n",
              "    cursor: pointer;\n",
              "    display: none;\n",
              "    fill: var(--fill-color);\n",
              "    height: 32px;\n",
              "    padding: 0;\n",
              "    width: 32px;\n",
              "  }\n",
              "\n",
              "  .colab-df-quickchart:hover {\n",
              "    background-color: var(--hover-bg-color);\n",
              "    box-shadow: 0 1px 2px rgba(60, 64, 67, 0.3), 0 1px 3px 1px rgba(60, 64, 67, 0.15);\n",
              "    fill: var(--button-hover-fill-color);\n",
              "  }\n",
              "\n",
              "  .colab-df-quickchart-complete:disabled,\n",
              "  .colab-df-quickchart-complete:disabled:hover {\n",
              "    background-color: var(--disabled-bg-color);\n",
              "    fill: var(--disabled-fill-color);\n",
              "    box-shadow: none;\n",
              "  }\n",
              "\n",
              "  .colab-df-spinner {\n",
              "    border: 2px solid var(--fill-color);\n",
              "    border-color: transparent;\n",
              "    border-bottom-color: var(--fill-color);\n",
              "    animation:\n",
              "      spin 1s steps(1) infinite;\n",
              "  }\n",
              "\n",
              "  @keyframes spin {\n",
              "    0% {\n",
              "      border-color: transparent;\n",
              "      border-bottom-color: var(--fill-color);\n",
              "      border-left-color: var(--fill-color);\n",
              "    }\n",
              "    20% {\n",
              "      border-color: transparent;\n",
              "      border-left-color: var(--fill-color);\n",
              "      border-top-color: var(--fill-color);\n",
              "    }\n",
              "    30% {\n",
              "      border-color: transparent;\n",
              "      border-left-color: var(--fill-color);\n",
              "      border-top-color: var(--fill-color);\n",
              "      border-right-color: var(--fill-color);\n",
              "    }\n",
              "    40% {\n",
              "      border-color: transparent;\n",
              "      border-right-color: var(--fill-color);\n",
              "      border-top-color: var(--fill-color);\n",
              "    }\n",
              "    60% {\n",
              "      border-color: transparent;\n",
              "      border-right-color: var(--fill-color);\n",
              "    }\n",
              "    80% {\n",
              "      border-color: transparent;\n",
              "      border-right-color: var(--fill-color);\n",
              "      border-bottom-color: var(--fill-color);\n",
              "    }\n",
              "    90% {\n",
              "      border-color: transparent;\n",
              "      border-bottom-color: var(--fill-color);\n",
              "    }\n",
              "  }\n",
              "</style>\n",
              "\n",
              "  <script>\n",
              "    async function quickchart(key) {\n",
              "      const quickchartButtonEl =\n",
              "        document.querySelector('#' + key + ' button');\n",
              "      quickchartButtonEl.disabled = true;  // To prevent multiple clicks.\n",
              "      quickchartButtonEl.classList.add('colab-df-spinner');\n",
              "      try {\n",
              "        const charts = await google.colab.kernel.invokeFunction(\n",
              "            'suggestCharts', [key], {});\n",
              "      } catch (error) {\n",
              "        console.error('Error during call to suggestCharts:', error);\n",
              "      }\n",
              "      quickchartButtonEl.classList.remove('colab-df-spinner');\n",
              "      quickchartButtonEl.classList.add('colab-df-quickchart-complete');\n",
              "    }\n",
              "    (() => {\n",
              "      let quickchartButtonEl =\n",
              "        document.querySelector('#df-f31a9a71-8de6-48df-b906-be43a75daa69 button');\n",
              "      quickchartButtonEl.style.display =\n",
              "        google.colab.kernel.accessAllowed ? 'block' : 'none';\n",
              "    })();\n",
              "  </script>\n",
              "</div>\n",
              "    </div>\n",
              "  </div>\n"
            ],
            "application/vnd.google.colaboratory.intrinsic+json": {
              "type": "dataframe",
              "summary": "{\n  \"name\": \"data\",\n  \"rows\": 3,\n  \"fields\": [\n    {\n      \"column\": \"item_id\",\n      \"properties\": {\n        \"dtype\": \"int32\",\n        \"num_unique_values\": 3,\n        \"samples\": [\n          1,\n          2,\n          3\n        ],\n        \"semantic_type\": \"\",\n        \"description\": \"\"\n      }\n    },\n    {\n      \"column\": \"title\",\n      \"properties\": {\n        \"dtype\": \"string\",\n        \"num_unique_values\": 3,\n        \"samples\": [\n          \"Toy Story (1995)\",\n          \"Jumanji (1995)\",\n          \"Grumpier Old Men (1995)\"\n        ],\n        \"semantic_type\": \"\",\n        \"description\": \"\"\n      }\n    },\n    {\n      \"column\": \"genres\",\n      \"properties\": {\n        \"dtype\": \"string\",\n        \"num_unique_values\": 3,\n        \"samples\": [\n          \"Animation|Children's|Comedy\",\n          \"Adventure|Children's|Fantasy\",\n          \"Comedy|Romance\"\n        ],\n        \"semantic_type\": \"\",\n        \"description\": \"\"\n      }\n    }\n  ]\n}"
            }
          },
          "metadata": {}
        },
        {
          "output_type": "stream",
          "name": "stdout",
          "text": [
            "\n"
          ]
        }
      ],
      "source": [
        "data = MovieLens(\"1m\")\n",
        "data.info()"
      ]
    },
    {
      "cell_type": "code",
      "execution_count": 22,
      "metadata": {
        "ExecuteTime": {
          "end_time": "2024-11-10T23:27:33.646998Z",
          "start_time": "2024-11-10T23:27:33.467422Z"
        },
        "colab": {
          "base_uri": "https://localhost:8080/",
          "height": 520
        },
        "id": "Q0e1K7MMIqTN",
        "outputId": "3ee0a411-9b69-4055-a7e2-d1cf3d5c4dd9"
      },
      "outputs": [
        {
          "output_type": "execute_result",
          "data": {
            "text/plain": [
              "    user_id  item_id  relevance           timestamp\n",
              "0         1     1193          5 2000-12-31 22:12:40\n",
              "1         1      661          3 2000-12-31 22:35:09\n",
              "2         1      914          3 2000-12-31 22:32:48\n",
              "3         1     3408          4 2000-12-31 22:04:35\n",
              "4         1     2355          5 2001-01-06 23:38:11\n",
              "5         1     1197          3 2000-12-31 22:37:48\n",
              "6         1     1287          5 2000-12-31 22:33:59\n",
              "7         1     2804          5 2000-12-31 22:11:59\n",
              "8         1      594          4 2000-12-31 22:37:48\n",
              "9         1      919          4 2000-12-31 22:22:48\n",
              "10        1      595          5 2001-01-06 23:37:48\n",
              "11        1      938          4 2000-12-31 22:29:12\n",
              "12        1     2398          4 2000-12-31 22:38:01\n",
              "13        1     2918          4 2000-12-31 22:35:24\n",
              "14        1     1035          5 2000-12-31 22:29:13"
            ],
            "text/html": [
              "\n",
              "  <div id=\"df-4240e1ca-4bf5-4db9-9669-f3e919f3939d\" class=\"colab-df-container\">\n",
              "    <div>\n",
              "<style scoped>\n",
              "    .dataframe tbody tr th:only-of-type {\n",
              "        vertical-align: middle;\n",
              "    }\n",
              "\n",
              "    .dataframe tbody tr th {\n",
              "        vertical-align: top;\n",
              "    }\n",
              "\n",
              "    .dataframe thead th {\n",
              "        text-align: right;\n",
              "    }\n",
              "</style>\n",
              "<table border=\"1\" class=\"dataframe\">\n",
              "  <thead>\n",
              "    <tr style=\"text-align: right;\">\n",
              "      <th></th>\n",
              "      <th>user_id</th>\n",
              "      <th>item_id</th>\n",
              "      <th>relevance</th>\n",
              "      <th>timestamp</th>\n",
              "    </tr>\n",
              "  </thead>\n",
              "  <tbody>\n",
              "    <tr>\n",
              "      <th>0</th>\n",
              "      <td>1</td>\n",
              "      <td>1193</td>\n",
              "      <td>5</td>\n",
              "      <td>2000-12-31 22:12:40</td>\n",
              "    </tr>\n",
              "    <tr>\n",
              "      <th>1</th>\n",
              "      <td>1</td>\n",
              "      <td>661</td>\n",
              "      <td>3</td>\n",
              "      <td>2000-12-31 22:35:09</td>\n",
              "    </tr>\n",
              "    <tr>\n",
              "      <th>2</th>\n",
              "      <td>1</td>\n",
              "      <td>914</td>\n",
              "      <td>3</td>\n",
              "      <td>2000-12-31 22:32:48</td>\n",
              "    </tr>\n",
              "    <tr>\n",
              "      <th>3</th>\n",
              "      <td>1</td>\n",
              "      <td>3408</td>\n",
              "      <td>4</td>\n",
              "      <td>2000-12-31 22:04:35</td>\n",
              "    </tr>\n",
              "    <tr>\n",
              "      <th>4</th>\n",
              "      <td>1</td>\n",
              "      <td>2355</td>\n",
              "      <td>5</td>\n",
              "      <td>2001-01-06 23:38:11</td>\n",
              "    </tr>\n",
              "    <tr>\n",
              "      <th>5</th>\n",
              "      <td>1</td>\n",
              "      <td>1197</td>\n",
              "      <td>3</td>\n",
              "      <td>2000-12-31 22:37:48</td>\n",
              "    </tr>\n",
              "    <tr>\n",
              "      <th>6</th>\n",
              "      <td>1</td>\n",
              "      <td>1287</td>\n",
              "      <td>5</td>\n",
              "      <td>2000-12-31 22:33:59</td>\n",
              "    </tr>\n",
              "    <tr>\n",
              "      <th>7</th>\n",
              "      <td>1</td>\n",
              "      <td>2804</td>\n",
              "      <td>5</td>\n",
              "      <td>2000-12-31 22:11:59</td>\n",
              "    </tr>\n",
              "    <tr>\n",
              "      <th>8</th>\n",
              "      <td>1</td>\n",
              "      <td>594</td>\n",
              "      <td>4</td>\n",
              "      <td>2000-12-31 22:37:48</td>\n",
              "    </tr>\n",
              "    <tr>\n",
              "      <th>9</th>\n",
              "      <td>1</td>\n",
              "      <td>919</td>\n",
              "      <td>4</td>\n",
              "      <td>2000-12-31 22:22:48</td>\n",
              "    </tr>\n",
              "    <tr>\n",
              "      <th>10</th>\n",
              "      <td>1</td>\n",
              "      <td>595</td>\n",
              "      <td>5</td>\n",
              "      <td>2001-01-06 23:37:48</td>\n",
              "    </tr>\n",
              "    <tr>\n",
              "      <th>11</th>\n",
              "      <td>1</td>\n",
              "      <td>938</td>\n",
              "      <td>4</td>\n",
              "      <td>2000-12-31 22:29:12</td>\n",
              "    </tr>\n",
              "    <tr>\n",
              "      <th>12</th>\n",
              "      <td>1</td>\n",
              "      <td>2398</td>\n",
              "      <td>4</td>\n",
              "      <td>2000-12-31 22:38:01</td>\n",
              "    </tr>\n",
              "    <tr>\n",
              "      <th>13</th>\n",
              "      <td>1</td>\n",
              "      <td>2918</td>\n",
              "      <td>4</td>\n",
              "      <td>2000-12-31 22:35:24</td>\n",
              "    </tr>\n",
              "    <tr>\n",
              "      <th>14</th>\n",
              "      <td>1</td>\n",
              "      <td>1035</td>\n",
              "      <td>5</td>\n",
              "      <td>2000-12-31 22:29:13</td>\n",
              "    </tr>\n",
              "  </tbody>\n",
              "</table>\n",
              "</div>\n",
              "    <div class=\"colab-df-buttons\">\n",
              "\n",
              "  <div class=\"colab-df-container\">\n",
              "    <button class=\"colab-df-convert\" onclick=\"convertToInteractive('df-4240e1ca-4bf5-4db9-9669-f3e919f3939d')\"\n",
              "            title=\"Convert this dataframe to an interactive table.\"\n",
              "            style=\"display:none;\">\n",
              "\n",
              "  <svg xmlns=\"http://www.w3.org/2000/svg\" height=\"24px\" viewBox=\"0 -960 960 960\">\n",
              "    <path d=\"M120-120v-720h720v720H120Zm60-500h600v-160H180v160Zm220 220h160v-160H400v160Zm0 220h160v-160H400v160ZM180-400h160v-160H180v160Zm440 0h160v-160H620v160ZM180-180h160v-160H180v160Zm440 0h160v-160H620v160Z\"/>\n",
              "  </svg>\n",
              "    </button>\n",
              "\n",
              "  <style>\n",
              "    .colab-df-container {\n",
              "      display:flex;\n",
              "      gap: 12px;\n",
              "    }\n",
              "\n",
              "    .colab-df-convert {\n",
              "      background-color: #E8F0FE;\n",
              "      border: none;\n",
              "      border-radius: 50%;\n",
              "      cursor: pointer;\n",
              "      display: none;\n",
              "      fill: #1967D2;\n",
              "      height: 32px;\n",
              "      padding: 0 0 0 0;\n",
              "      width: 32px;\n",
              "    }\n",
              "\n",
              "    .colab-df-convert:hover {\n",
              "      background-color: #E2EBFA;\n",
              "      box-shadow: 0px 1px 2px rgba(60, 64, 67, 0.3), 0px 1px 3px 1px rgba(60, 64, 67, 0.15);\n",
              "      fill: #174EA6;\n",
              "    }\n",
              "\n",
              "    .colab-df-buttons div {\n",
              "      margin-bottom: 4px;\n",
              "    }\n",
              "\n",
              "    [theme=dark] .colab-df-convert {\n",
              "      background-color: #3B4455;\n",
              "      fill: #D2E3FC;\n",
              "    }\n",
              "\n",
              "    [theme=dark] .colab-df-convert:hover {\n",
              "      background-color: #434B5C;\n",
              "      box-shadow: 0px 1px 3px 1px rgba(0, 0, 0, 0.15);\n",
              "      filter: drop-shadow(0px 1px 2px rgba(0, 0, 0, 0.3));\n",
              "      fill: #FFFFFF;\n",
              "    }\n",
              "  </style>\n",
              "\n",
              "    <script>\n",
              "      const buttonEl =\n",
              "        document.querySelector('#df-4240e1ca-4bf5-4db9-9669-f3e919f3939d button.colab-df-convert');\n",
              "      buttonEl.style.display =\n",
              "        google.colab.kernel.accessAllowed ? 'block' : 'none';\n",
              "\n",
              "      async function convertToInteractive(key) {\n",
              "        const element = document.querySelector('#df-4240e1ca-4bf5-4db9-9669-f3e919f3939d');\n",
              "        const dataTable =\n",
              "          await google.colab.kernel.invokeFunction('convertToInteractive',\n",
              "                                                    [key], {});\n",
              "        if (!dataTable) return;\n",
              "\n",
              "        const docLinkHtml = 'Like what you see? Visit the ' +\n",
              "          '<a target=\"_blank\" href=https://colab.research.google.com/notebooks/data_table.ipynb>data table notebook</a>'\n",
              "          + ' to learn more about interactive tables.';\n",
              "        element.innerHTML = '';\n",
              "        dataTable['output_type'] = 'display_data';\n",
              "        await google.colab.output.renderOutput(dataTable, element);\n",
              "        const docLink = document.createElement('div');\n",
              "        docLink.innerHTML = docLinkHtml;\n",
              "        element.appendChild(docLink);\n",
              "      }\n",
              "    </script>\n",
              "  </div>\n",
              "\n",
              "\n",
              "<div id=\"df-cb43bb0d-b959-4db4-ae51-1e7169773ad5\">\n",
              "  <button class=\"colab-df-quickchart\" onclick=\"quickchart('df-cb43bb0d-b959-4db4-ae51-1e7169773ad5')\"\n",
              "            title=\"Suggest charts\"\n",
              "            style=\"display:none;\">\n",
              "\n",
              "<svg xmlns=\"http://www.w3.org/2000/svg\" height=\"24px\"viewBox=\"0 0 24 24\"\n",
              "     width=\"24px\">\n",
              "    <g>\n",
              "        <path d=\"M19 3H5c-1.1 0-2 .9-2 2v14c0 1.1.9 2 2 2h14c1.1 0 2-.9 2-2V5c0-1.1-.9-2-2-2zM9 17H7v-7h2v7zm4 0h-2V7h2v10zm4 0h-2v-4h2v4z\"/>\n",
              "    </g>\n",
              "</svg>\n",
              "  </button>\n",
              "\n",
              "<style>\n",
              "  .colab-df-quickchart {\n",
              "      --bg-color: #E8F0FE;\n",
              "      --fill-color: #1967D2;\n",
              "      --hover-bg-color: #E2EBFA;\n",
              "      --hover-fill-color: #174EA6;\n",
              "      --disabled-fill-color: #AAA;\n",
              "      --disabled-bg-color: #DDD;\n",
              "  }\n",
              "\n",
              "  [theme=dark] .colab-df-quickchart {\n",
              "      --bg-color: #3B4455;\n",
              "      --fill-color: #D2E3FC;\n",
              "      --hover-bg-color: #434B5C;\n",
              "      --hover-fill-color: #FFFFFF;\n",
              "      --disabled-bg-color: #3B4455;\n",
              "      --disabled-fill-color: #666;\n",
              "  }\n",
              "\n",
              "  .colab-df-quickchart {\n",
              "    background-color: var(--bg-color);\n",
              "    border: none;\n",
              "    border-radius: 50%;\n",
              "    cursor: pointer;\n",
              "    display: none;\n",
              "    fill: var(--fill-color);\n",
              "    height: 32px;\n",
              "    padding: 0;\n",
              "    width: 32px;\n",
              "  }\n",
              "\n",
              "  .colab-df-quickchart:hover {\n",
              "    background-color: var(--hover-bg-color);\n",
              "    box-shadow: 0 1px 2px rgba(60, 64, 67, 0.3), 0 1px 3px 1px rgba(60, 64, 67, 0.15);\n",
              "    fill: var(--button-hover-fill-color);\n",
              "  }\n",
              "\n",
              "  .colab-df-quickchart-complete:disabled,\n",
              "  .colab-df-quickchart-complete:disabled:hover {\n",
              "    background-color: var(--disabled-bg-color);\n",
              "    fill: var(--disabled-fill-color);\n",
              "    box-shadow: none;\n",
              "  }\n",
              "\n",
              "  .colab-df-spinner {\n",
              "    border: 2px solid var(--fill-color);\n",
              "    border-color: transparent;\n",
              "    border-bottom-color: var(--fill-color);\n",
              "    animation:\n",
              "      spin 1s steps(1) infinite;\n",
              "  }\n",
              "\n",
              "  @keyframes spin {\n",
              "    0% {\n",
              "      border-color: transparent;\n",
              "      border-bottom-color: var(--fill-color);\n",
              "      border-left-color: var(--fill-color);\n",
              "    }\n",
              "    20% {\n",
              "      border-color: transparent;\n",
              "      border-left-color: var(--fill-color);\n",
              "      border-top-color: var(--fill-color);\n",
              "    }\n",
              "    30% {\n",
              "      border-color: transparent;\n",
              "      border-left-color: var(--fill-color);\n",
              "      border-top-color: var(--fill-color);\n",
              "      border-right-color: var(--fill-color);\n",
              "    }\n",
              "    40% {\n",
              "      border-color: transparent;\n",
              "      border-right-color: var(--fill-color);\n",
              "      border-top-color: var(--fill-color);\n",
              "    }\n",
              "    60% {\n",
              "      border-color: transparent;\n",
              "      border-right-color: var(--fill-color);\n",
              "    }\n",
              "    80% {\n",
              "      border-color: transparent;\n",
              "      border-right-color: var(--fill-color);\n",
              "      border-bottom-color: var(--fill-color);\n",
              "    }\n",
              "    90% {\n",
              "      border-color: transparent;\n",
              "      border-bottom-color: var(--fill-color);\n",
              "    }\n",
              "  }\n",
              "</style>\n",
              "\n",
              "  <script>\n",
              "    async function quickchart(key) {\n",
              "      const quickchartButtonEl =\n",
              "        document.querySelector('#' + key + ' button');\n",
              "      quickchartButtonEl.disabled = true;  // To prevent multiple clicks.\n",
              "      quickchartButtonEl.classList.add('colab-df-spinner');\n",
              "      try {\n",
              "        const charts = await google.colab.kernel.invokeFunction(\n",
              "            'suggestCharts', [key], {});\n",
              "      } catch (error) {\n",
              "        console.error('Error during call to suggestCharts:', error);\n",
              "      }\n",
              "      quickchartButtonEl.classList.remove('colab-df-spinner');\n",
              "      quickchartButtonEl.classList.add('colab-df-quickchart-complete');\n",
              "    }\n",
              "    (() => {\n",
              "      let quickchartButtonEl =\n",
              "        document.querySelector('#df-cb43bb0d-b959-4db4-ae51-1e7169773ad5 button');\n",
              "      quickchartButtonEl.style.display =\n",
              "        google.colab.kernel.accessAllowed ? 'block' : 'none';\n",
              "    })();\n",
              "  </script>\n",
              "</div>\n",
              "    </div>\n",
              "  </div>\n"
            ],
            "application/vnd.google.colaboratory.intrinsic+json": {
              "type": "dataframe",
              "variable_name": "reviews"
            }
          },
          "metadata": {},
          "execution_count": 22
        }
      ],
      "source": [
        "reviews = data.ratings\n",
        "reviews.rename(columns={\"rating\": \"relevance\"}, inplace=True)\n",
        "reviews['timestamp'] = pd.to_datetime(reviews['timestamp'], unit='s')\n",
        "reviews.head(15)"
      ]
    },
    {
      "cell_type": "code",
      "execution_count": 21,
      "metadata": {
        "ExecuteTime": {
          "end_time": "2024-11-10T23:27:34.152126Z",
          "start_time": "2024-11-10T23:27:33.649487Z"
        },
        "colab": {
          "base_uri": "https://localhost:8080/",
          "height": 564
        },
        "id": "8ua81q_79-oD",
        "outputId": "77ab80cc-8034-4609-fc23-edf9dd54ffa3"
      },
      "outputs": [
        {
          "output_type": "display_data",
          "data": {
            "text/plain": [
              "<Figure size 1000x600 with 1 Axes>"
            ],
            "image/png": "[encoded data removed]"
          },
          "metadata": {}
        }
      ],
      "source": [
        "user_counts = reviews['user_id'].value_counts()\n",
        "plt.figure(figsize=(10, 6))\n",
        "sns.histplot(user_counts, bins=50)\n",
        "plt.title('Distribution of Ratings per User')\n",
        "plt.xlabel('Number of Ratings')\n",
        "plt.ylabel('Number of Users')\n",
        "plt.show()"
      ]
    },
    {
      "cell_type": "markdown",
      "metadata": {
        "id": "W5rprg6yQAMO"
      },
      "source": [
        "Бачимо що зі збільшенням кількості оцінок для одного користувача, зменшується кількість користувачів. Іншими словами, дуже багато користувачів залишили менше 250 відгуків на фільми."
      ]
    },
    {
      "cell_type": "code",
      "execution_count": 20,
      "metadata": {
        "ExecuteTime": {
          "end_time": "2024-11-10T23:27:34.620232Z",
          "start_time": "2024-11-10T23:27:34.154418Z"
        },
        "colab": {
          "base_uri": "https://localhost:8080/",
          "height": 564
        },
        "id": "Ohpwt6cOkj-H",
        "outputId": "70234a21-6273-48a2-9807-64758aef4331"
      },
      "outputs": [
        {
          "output_type": "display_data",
          "data": {
            "text/plain": [
              "<Figure size 1000x600 with 1 Axes>"
            ],
            "image/png": "[encoded data removed]"
          },
          "metadata": {}
        }
      ],
      "source": [
        "movie_counts = reviews['item_id'].value_counts()\n",
        "plt.figure(figsize=(10, 6))\n",
        "sns.histplot(movie_counts, bins=50)\n",
        "plt.title('Distribution of Ratings per Movie')\n",
        "plt.xlabel('Number of Ratings')\n",
        "plt.ylabel('Number of Movies')\n",
        "plt.show()"
      ]
    },
    {
      "cell_type": "markdown",
      "metadata": {
        "id": "Q6LFc8lUQAMP"
      },
      "source": [
        "Більшість фільмів має мало оцінок."
      ]
    },
    {
      "cell_type": "code",
      "execution_count": 19,
      "metadata": {
        "ExecuteTime": {
          "end_time": "2024-11-10T23:27:41.962984Z",
          "start_time": "2024-11-10T23:27:37.561141Z"
        },
        "colab": {
          "base_uri": "https://localhost:8080/",
          "height": 1000
        },
        "id": "TrGb9ozMlSaW",
        "outputId": "399fb619-dc52-4299-a230-7b1244dcd9f6"
      },
      "outputs": [
        {
          "output_type": "display_data",
          "data": {
            "text/plain": [
              "<Figure size 1200x600 with 1 Axes>"
            ],
            "image/png": "[encoded data removed]"
          },
          "metadata": {}
        },
        {
          "output_type": "display_data",
          "data": {
            "text/plain": [
              "<Figure size 640x480 with 4 Axes>"
            ],
            "image/png": "[encoded data removed]"
          },
          "metadata": {}
        }
      ],
      "source": [
        "# Ratings over time analysis\n",
        "reviews['timestamp'] = pd.to_datetime(reviews['timestamp'], unit='s')\n",
        "monthly_ratings = reviews.groupby(pd.Grouper(key='timestamp', freq='ME')).size()\n",
        "\n",
        "plt.figure(figsize=(12, 6))\n",
        "plt.plot(monthly_ratings)\n",
        "plt.title('Number of Ratings per Month')\n",
        "plt.xlabel('Month')\n",
        "plt.ylabel('Number of Ratings')\n",
        "plt.grid(True)\n",
        "plt.show()\n",
        "\n",
        "# Decompose time series\n",
        "decomposition = seasonal_decompose(monthly_ratings)\n",
        "fig = decomposition.plot()\n",
        "plt.show()"
      ]
    },
    {
      "cell_type": "markdown",
      "metadata": {
        "id": "TCcY72XbQAMP"
      },
      "source": [
        "Бачимо із першого графіка, що кількість відгуків ближче до зимових канікул (грудень-січень місяць).\n",
        "\n",
        "Використовуючи `seasonal_decompose(...)` ми \"розбираємо\" наш часовий ряд на такі атрибути: Трендовий, Сезоннний та Залишковий.\n",
        "Де\n",
        "- трендовий атрибут, розказує нам про закономірність часового ряду,\n",
        "- сезонний атрибут, розказує про періодичність часового ряду,\n",
        "- залишковий атрибут, розказує про ті моменти часового ряду, які не можуть пояснити перші два атрибути (трендовий та сезонний). Це можуть бути певні коливання, шуми, зміни які не мають періодичності або закономірності."
      ]
    },
    {
      "cell_type": "markdown",
      "metadata": {
        "id": "ASw6z_Y_Ga3Y"
      },
      "source": [
        "## Завдання 2\n",
        "**(2 бали) Завдання 2.**\n",
        "Фільтрування та розбиття даних\n",
        "\n",
        "Використовуватимемо global time split, тобто. відокремимо train та validation за обраною датою."
      ]
    },
    {
      "cell_type": "markdown",
      "metadata": {
        "id": "Wyj4vdLOrxrg"
      },
      "source": [
        "Реалізуйте таке розбиття:\n",
        "\n",
        "1) дані до 1 грудня 2000 року не включаючи - дані train\n",
        "\n",
        "2) дані з 1 грудня 2000 року включно до 31 грудня 2000 року включно – валідаційні дані.\n",
        "\n",
        "У валідаційних даних повинні залишитися лише позитивні оцінки (хочемо передбачити, що сподобається користувачеві). Будемо вважати позитивними оцінки > 3. Видалимо з валідаційної вибірки холодних користувачів, оскільки більшість алгоритмів, що розглядаються, не генерують рекомендації для холодних користувачів."
      ]
    },
    {
      "cell_type": "code",
      "source": [
        "def get_log_info(log, user_id='user_id', item_id='item_id'):\n",
        "    data_length = log.shape[0]\n",
        "    num_users = log[user_id].nunique()\n",
        "    num_items = log[item_id].nunique()\n",
        "\n",
        "    print(f\"DataSet length = {data_length},\\nNumber of users = {num_users},\\nNumber of items = {num_items}\")"
      ],
      "metadata": {
        "id": "P1zSEp6zTvTj"
      },
      "execution_count": 28,
      "outputs": []
    },
    {
      "cell_type": "code",
      "execution_count": 29,
      "metadata": {
        "ExecuteTime": {
          "end_time": "2024-11-10T23:27:46.594974Z",
          "start_time": "2024-11-10T23:27:41.966392Z"
        },
        "id": "WpkuAMwbAVOi"
      },
      "outputs": [],
      "source": [
        "# YOUR CODE HERE\n",
        "import pandas as pd\n",
        "\n",
        "data.ratings['timestamp'] = pd.to_datetime(data.ratings['timestamp'], unit='s')\n",
        "\n",
        "train_end_date = pd.to_datetime('2000-12-01')\n",
        "validation_end_date = pd.to_datetime('2000-12-31')\n",
        "\n",
        "train_data = data.ratings[data.ratings['timestamp'] < train_end_date]\n",
        "\n",
        "validation_data = data.ratings[\n",
        "    (data.ratings['timestamp'] >= train_end_date) & (data.ratings['timestamp'] <= validation_end_date) & (\n",
        "            data.ratings['relevance'] > 3)]\n",
        "\n",
        "cold_users = set(validation_data['user_id']) - set(train_data['user_id'])\n",
        "\n",
        "validation_data = validation_data[~validation_data['user_id'].isin(cold_users)]\n",
        "\n",
        "train_data.to_csv('train_data.csv', index=False)\n",
        "validation_data.to_csv('validation_data.csv', index=False)"
      ]
    },
    {
      "cell_type": "code",
      "execution_count": 31,
      "metadata": {
        "ExecuteTime": {
          "end_time": "2024-11-10T23:27:46.607799Z",
          "start_time": "2024-11-10T23:27:46.600023Z"
        },
        "id": "7qNWgSOyv-Eh"
      },
      "outputs": [],
      "source": [
        "assert train_data.shape[0] == 791270\n",
        "assert validation_data.shape[0] == 14790"
      ]
    },
    {
      "cell_type": "code",
      "execution_count": 32,
      "metadata": {
        "ExecuteTime": {
          "end_time": "2024-11-10T23:27:46.640781Z",
          "start_time": "2024-11-10T23:27:46.611828Z"
        },
        "colab": {
          "base_uri": "https://localhost:8080/"
        },
        "id": "ZAi0W00r3XnS",
        "outputId": "18870ede-3636-4c35-99c2-f2a272db0f0d"
      },
      "outputs": [
        {
          "output_type": "stream",
          "name": "stdout",
          "text": [
            "DataSet length = 791270,\n",
            "Number of users = 5365,\n",
            "Number of items = 3662\n"
          ]
        }
      ],
      "source": [
        "get_log_info(train_data)"
      ]
    },
    {
      "cell_type": "code",
      "execution_count": 33,
      "metadata": {
        "ExecuteTime": {
          "end_time": "2024-11-10T23:27:46.652011Z",
          "start_time": "2024-11-10T23:27:46.642834Z"
        },
        "colab": {
          "base_uri": "https://localhost:8080/"
        },
        "id": "gkU70z8j7Dfn",
        "outputId": "76737164-ebd6-4f98-b824-bf513e914d67"
      },
      "outputs": [
        {
          "output_type": "stream",
          "name": "stdout",
          "text": [
            "DataSet length = 14790,\n",
            "Number of users = 522,\n",
            "Number of items = 2341\n"
          ]
        }
      ],
      "source": [
        "get_log_info(validation_data)"
      ]
    },
    {
      "cell_type": "markdown",
      "metadata": {
        "id": "S6iypsb6Ga3Z"
      },
      "source": [
        "## Завдання 3\n",
        "**(2 бали) Завдання 3.** Базове рішення.\n",
        "\n",
        "Рекомендуємо для кожного користувача з val 20 випадкових фільмів. Датасет з рекомендаціями повинен містити колонки user_id, item_id, relevance."
      ]
    },
    {
      "cell_type": "code",
      "execution_count": 34,
      "metadata": {
        "ExecuteTime": {
          "end_time": "2024-11-10T23:27:47.202966Z",
          "start_time": "2024-11-10T23:27:46.655524Z"
        },
        "colab": {
          "base_uri": "https://localhost:8080/"
        },
        "id": "oU8vFUwfP4rR",
        "outputId": "42497dd4-a760-4c23-ffac-4bdd1c43f258"
      },
      "outputs": [
        {
          "output_type": "stream",
          "name": "stdout",
          "text": [
            "CPU times: user 251 ms, sys: 0 ns, total: 251 ms\n",
            "Wall time: 253 ms\n"
          ]
        }
      ],
      "source": [
        "%%time\n",
        "# YOUR CODE HERE\n",
        "K = 20\n",
        "\n",
        "unique_users = validation_data['user_id'].unique()\n",
        "\n",
        "np.random.seed(666)\n",
        "random_recommendations = []\n",
        "for user in unique_users:\n",
        "    random_items = np.random.choice(validation_data['item_id'].unique(), size=K, replace=False)\n",
        "    user_recs = [(user, item, 1) for item in random_items]\n",
        "    random_recommendations.extend(user_recs)\n",
        "\n",
        "random_pred = pd.DataFrame(random_recommendations, columns=['user_id', 'item_id', 'relevance'])"
      ]
    },
    {
      "cell_type": "code",
      "execution_count": 35,
      "metadata": {
        "ExecuteTime": {
          "end_time": "2024-11-10T23:27:47.214548Z",
          "start_time": "2024-11-10T23:27:47.205971Z"
        },
        "id": "dNoEtNz2_g3N"
      },
      "outputs": [],
      "source": [
        "assert random_pred.shape[0] == validation_data['user_id'].nunique() * K"
      ]
    },
    {
      "cell_type": "code",
      "execution_count": 36,
      "metadata": {
        "ExecuteTime": {
          "end_time": "2024-11-10T23:27:47.232745Z",
          "start_time": "2024-11-10T23:27:47.217280Z"
        },
        "colab": {
          "base_uri": "https://localhost:8080/",
          "height": 81
        },
        "id": "ttcKuJID_-mU",
        "outputId": "6c4fb19a-85ed-4193-c39e-a020a86ec704"
      },
      "outputs": [
        {
          "output_type": "execute_result",
          "data": {
            "text/plain": [
              "   user_id  item_id  relevance\n",
              "0      670      314          1"
            ],
            "text/html": [
              "\n",
              "  <div id=\"df-2cc495d1-f25e-4469-a402-e657976e3673\" class=\"colab-df-container\">\n",
              "    <div>\n",
              "<style scoped>\n",
              "    .dataframe tbody tr th:only-of-type {\n",
              "        vertical-align: middle;\n",
              "    }\n",
              "\n",
              "    .dataframe tbody tr th {\n",
              "        vertical-align: top;\n",
              "    }\n",
              "\n",
              "    .dataframe thead th {\n",
              "        text-align: right;\n",
              "    }\n",
              "</style>\n",
              "<table border=\"1\" class=\"dataframe\">\n",
              "  <thead>\n",
              "    <tr style=\"text-align: right;\">\n",
              "      <th></th>\n",
              "      <th>user_id</th>\n",
              "      <th>item_id</th>\n",
              "      <th>relevance</th>\n",
              "    </tr>\n",
              "  </thead>\n",
              "  <tbody>\n",
              "    <tr>\n",
              "      <th>0</th>\n",
              "      <td>670</td>\n",
              "      <td>314</td>\n",
              "      <td>1</td>\n",
              "    </tr>\n",
              "  </tbody>\n",
              "</table>\n",
              "</div>\n",
              "    <div class=\"colab-df-buttons\">\n",
              "\n",
              "  <div class=\"colab-df-container\">\n",
              "    <button class=\"colab-df-convert\" onclick=\"convertToInteractive('df-2cc495d1-f25e-4469-a402-e657976e3673')\"\n",
              "            title=\"Convert this dataframe to an interactive table.\"\n",
              "            style=\"display:none;\">\n",
              "\n",
              "  <svg xmlns=\"http://www.w3.org/2000/svg\" height=\"24px\" viewBox=\"0 -960 960 960\">\n",
              "    <path d=\"M120-120v-720h720v720H120Zm60-500h600v-160H180v160Zm220 220h160v-160H400v160Zm0 220h160v-160H400v160ZM180-400h160v-160H180v160Zm440 0h160v-160H620v160ZM180-180h160v-160H180v160Zm440 0h160v-160H620v160Z\"/>\n",
              "  </svg>\n",
              "    </button>\n",
              "\n",
              "  <style>\n",
              "    .colab-df-container {\n",
              "      display:flex;\n",
              "      gap: 12px;\n",
              "    }\n",
              "\n",
              "    .colab-df-convert {\n",
              "      background-color: #E8F0FE;\n",
              "      border: none;\n",
              "      border-radius: 50%;\n",
              "      cursor: pointer;\n",
              "      display: none;\n",
              "      fill: #1967D2;\n",
              "      height: 32px;\n",
              "      padding: 0 0 0 0;\n",
              "      width: 32px;\n",
              "    }\n",
              "\n",
              "    .colab-df-convert:hover {\n",
              "      background-color: #E2EBFA;\n",
              "      box-shadow: 0px 1px 2px rgba(60, 64, 67, 0.3), 0px 1px 3px 1px rgba(60, 64, 67, 0.15);\n",
              "      fill: #174EA6;\n",
              "    }\n",
              "\n",
              "    .colab-df-buttons div {\n",
              "      margin-bottom: 4px;\n",
              "    }\n",
              "\n",
              "    [theme=dark] .colab-df-convert {\n",
              "      background-color: #3B4455;\n",
              "      fill: #D2E3FC;\n",
              "    }\n",
              "\n",
              "    [theme=dark] .colab-df-convert:hover {\n",
              "      background-color: #434B5C;\n",
              "      box-shadow: 0px 1px 3px 1px rgba(0, 0, 0, 0.15);\n",
              "      filter: drop-shadow(0px 1px 2px rgba(0, 0, 0, 0.3));\n",
              "      fill: #FFFFFF;\n",
              "    }\n",
              "  </style>\n",
              "\n",
              "    <script>\n",
              "      const buttonEl =\n",
              "        document.querySelector('#df-2cc495d1-f25e-4469-a402-e657976e3673 button.colab-df-convert');\n",
              "      buttonEl.style.display =\n",
              "        google.colab.kernel.accessAllowed ? 'block' : 'none';\n",
              "\n",
              "      async function convertToInteractive(key) {\n",
              "        const element = document.querySelector('#df-2cc495d1-f25e-4469-a402-e657976e3673');\n",
              "        const dataTable =\n",
              "          await google.colab.kernel.invokeFunction('convertToInteractive',\n",
              "                                                    [key], {});\n",
              "        if (!dataTable) return;\n",
              "\n",
              "        const docLinkHtml = 'Like what you see? Visit the ' +\n",
              "          '<a target=\"_blank\" href=https://colab.research.google.com/notebooks/data_table.ipynb>data table notebook</a>'\n",
              "          + ' to learn more about interactive tables.';\n",
              "        element.innerHTML = '';\n",
              "        dataTable['output_type'] = 'display_data';\n",
              "        await google.colab.output.renderOutput(dataTable, element);\n",
              "        const docLink = document.createElement('div');\n",
              "        docLink.innerHTML = docLinkHtml;\n",
              "        element.appendChild(docLink);\n",
              "      }\n",
              "    </script>\n",
              "  </div>\n",
              "\n",
              "    </div>\n",
              "  </div>\n"
            ],
            "application/vnd.google.colaboratory.intrinsic+json": {
              "type": "dataframe",
              "variable_name": "random_pred",
              "summary": "{\n  \"name\": \"random_pred\",\n  \"rows\": 10440,\n  \"fields\": [\n    {\n      \"column\": \"user_id\",\n      \"properties\": {\n        \"dtype\": \"int32\",\n        \"num_unique_values\": 522,\n        \"samples\": [\n          4030,\n          4169,\n          687\n        ],\n        \"semantic_type\": \"\",\n        \"description\": \"\"\n      }\n    },\n    {\n      \"column\": \"item_id\",\n      \"properties\": {\n        \"dtype\": \"int32\",\n        \"num_unique_values\": 2315,\n        \"samples\": [\n          3861,\n          45,\n          1445\n        ],\n        \"semantic_type\": \"\",\n        \"description\": \"\"\n      }\n    },\n    {\n      \"column\": \"relevance\",\n      \"properties\": {\n        \"dtype\": \"number\",\n        \"std\": 0,\n        \"min\": 1,\n        \"max\": 1,\n        \"num_unique_values\": 1,\n        \"samples\": [\n          1\n        ],\n        \"semantic_type\": \"\",\n        \"description\": \"\"\n      }\n    }\n  ]\n}"
            }
          },
          "metadata": {},
          "execution_count": 36
        }
      ],
      "source": [
        "random_pred.head(1)"
      ]
    },
    {
      "source": [
        "# @title user_id\n",
        "\n",
        "from matplotlib import pyplot as plt\n",
        "random_pred['user_id'].plot(kind='hist', bins=20, title='user_id')\n",
        "plt.gca().spines[['top', 'right',]].set_visible(False)"
      ],
      "cell_type": "code",
      "execution_count": 37,
      "outputs": [
        {
          "output_type": "display_data",
          "data": {
            "text/plain": [
              "<Figure size 640x480 with 1 Axes>"
            ],
            "image/png": "[encoded data removed]"
          },
          "metadata": {}
        }
      ],
      "metadata": {
        "cellView": "form",
        "colab": {
          "base_uri": "https://localhost:8080/",
          "height": 452
        },
        "id": "T-cDOFdCUJMr",
        "outputId": "f77494e1-6abd-4f29-ccac-13a04dad89db"
      }
    },
    {
      "cell_type": "markdown",
      "metadata": {
        "id": "O62EfLM9QAMQ"
      },
      "source": [
        "## Завдання 4\n",
        "**(5 бал) Завдання 4.** Метрики якості.\n",
        "\n",
        "\n",
        "Використовуйте наступний набір метрик якості:\n",
        "- NDCG@K (необхідно реалізувати)\n",
        "- HitRate@K (можна взяти з семінару або використати готову реалізацію)\n",
        "- Coverage@K (можна взяти з семінару або використати готову реалізацію)\n",
        "- Surprisal@K (необхідно реалізувати)\n",
        "\n",
        "1) Реалізуйте метрики NDCG@K, Surprisal@K **(2 бали)**\n",
        "\n",
        "2) **(1 бал)** Створіть функцію, яка генерує словник/dataframe з 4 метриками за наданим рішенням. Оцініть baseline-рішення на валідації\n",
        "\n",
        "\n",
        "Не забудьте, що ми можемо рахувати метрику для різних значень k (наприклад, спочатку підготували 10 рекомендацій, а вважаємо метрику для k = 1, 5, 10). У цьому випадку при підрахунку метрики використовуються перші top-k рекомендації та всі релевантні айтеми з ground truth.\n",
        "\n",
        "Будемо використовувати такі позначення у формулах:\n",
        "- $i$ – ідентифікатор користувача, ціле число від 1 до N\n",
        "- $j$ – позиція товару у списку рекомендацій для користувача $i$, ціле число від 1 до K\n",
        "- $N$ – кількість користувачів\n",
        "- $K$ – кількість айтемів у списку рекомендацій, для якого розраховується метрика\n",
        "- $\\mathbb{1}_{r_{ij}}$ - індикаторна функція, факт придбання користувачем i продукту на позиції j у списку рекомендацій\n",
        "- $|Rel_i|$ - кількість айтемів, з якими були позитивні взаємодії у користувача $i$ у тестовому періоді"
      ]
    },
    {
      "cell_type": "markdown",
      "metadata": {
        "id": "-Y_g2qIohNz2"
      },
      "source": [
        "### NDCG\n",
        "\n",
        "Реалізуйте бінарну версію метрики NDCG (Normalized Discounted Cumulative Gain) з метою оцінки якості ранжування. У банірній версії фактичні значення релевантності у ground truth ігноруються, використовується лише інофрація про факт позитивної взаємодії.\n",
        "\n",
        "1) Порахуємо DCG\n",
        "\n",
        "$$DCG\\@K(i) = \\sum_{j=1}^{K}\\frac{\\mathbb{1}_{r_{ij}}}{\\log_2 (j+1)}$$\n",
        "\n",
        "2) Щоб отримати Normalized метрику, обчислимо максимально можливе для цього користувача значення $DCG\\@K$, $IDCG\\@K$.\n",
        "\n",
        "$$IDCG\\@K(i) = max(DCG\\@K(i)) = \\sum_{j=1}^{K}\\frac{\\mathbb{1}_{j\\le|Rel_i|}}{\\ log_2 (j+1)}$$\n",
        "\n",
        "$$nDCG\\@K(i) = \\frac{DCG\\@K(i)}{IDCG\\@K(i)}$$\n",
        "\n",
        "3) Результат середнім користувачам.\n",
        "\n",
        "$$ nDCG\\@K = \\frac{\\sum_{i=1}^{N}nDCG\\@K(i)}{N}$$"
      ]
    },
    {
      "cell_type": "markdown",
      "metadata": {
        "id": "YCVdKfKqGa3a"
      },
      "source": [
        "#### NDCG для одного користувача"
      ]
    },
    {
      "cell_type": "code",
      "execution_count": 38,
      "metadata": {
        "ExecuteTime": {
          "end_time": "2024-11-10T23:27:47.242629Z",
          "start_time": "2024-11-10T23:27:47.235749Z"
        },
        "id": "OXerY4KSAtHZ"
      },
      "outputs": [],
      "source": [
        "import math\n",
        "import numpy as np"
      ]
    },
    {
      "cell_type": "code",
      "execution_count": 39,
      "metadata": {
        "ExecuteTime": {
          "end_time": "2024-11-10T23:27:47.255316Z",
          "start_time": "2024-11-10T23:27:47.245066Z"
        },
        "id": "H_OV2Gl7QAMR"
      },
      "outputs": [],
      "source": [
        "def ndcg_user(row, k):\n",
        "    \"\"\"\n",
        "    Calculates NDCG@K for a single user.\n",
        "\n",
        "    Args:\n",
        "        row: Row of DataFrame with columns 'pred_list' (predictions) and 'gt_list' (ground truth ratings).\n",
        "        k: Number of recommendations to consider.\n",
        "\n",
        "    Returns:\n",
        "        float: NDCG@K value.\n",
        "    \"\"\"\n",
        "    pred_list = row['pred_list'][:k]  # Take top-k predictions\n",
        "    gt_list = set(row['gt_list'])  # Transform ground truth into a set for fast lookup\n",
        "\n",
        "    # Calculate DCG using the indicator function\n",
        "    dcg = sum((1 if pred in gt_list else 0) / np.log2(j + 2) for j, pred in enumerate(pred_list))\n",
        "\n",
        "    # Calculate IDCG (maximum DCG)\n",
        "    idcg = sum(1 / np.log2(j + 2) for j in range(min(k, len(gt_list))))\n",
        "\n",
        "    # Calculate nDCG\n",
        "    ndcg = dcg / idcg if idcg > 0 else 0\n",
        "    return ndcg"
      ]
    },
    {
      "cell_type": "code",
      "execution_count": 40,
      "metadata": {
        "ExecuteTime": {
          "end_time": "2024-11-10T23:27:47.272054Z",
          "start_time": "2024-11-10T23:27:47.258448Z"
        },
        "id": "lFU-S9Tlq9xI"
      },
      "outputs": [],
      "source": [
        "assert math.isclose(ndcg_user(pd.Series({'user_id': 1, 'pred_list': [1, 2, 3], 'gt_list': [4, 5, 2, 6]}), k=3), 0.296,\n",
        "                    abs_tol=1e-3)\n",
        "assert math.isclose(ndcg_user(pd.Series({'user_id': 1, 'pred_list': [1, 2, 3], 'gt_list': [4, 5, 2, 6]}), k=5), 0.246,\n",
        "                    abs_tol=1e-3)\n",
        "assert math.isclose(ndcg_user(pd.Series({'user_id': 1, 'pred_list': [1, 2, 3], 'gt_list': [4, 5, 2, 6]}), k=1), 0.,\n",
        "                    abs_tol=1e-3)\n",
        "assert math.isclose(ndcg_user(pd.Series({'user_id': 1, 'pred_list': [], 'gt_list': [4, 5, 2, 6]}), k=10), 0)\n",
        "assert math.isclose(ndcg_user(pd.Series({'user_id': 1, 'pred_list': [1, 3], 'gt_list': []}), k=10), 0)"
      ]
    },
    {
      "cell_type": "markdown",
      "metadata": {
        "id": "DYMf6BUcQAMR"
      },
      "source": [
        "#### NDCG для всіх користувачів"
      ]
    },
    {
      "cell_type": "code",
      "execution_count": 41,
      "metadata": {
        "ExecuteTime": {
          "end_time": "2024-11-10T23:27:47.283909Z",
          "start_time": "2024-11-10T23:27:47.275572Z"
        },
        "id": "SeT0Fwi1BZEt"
      },
      "outputs": [],
      "source": [
        "# YOUR CODE HERE: оцінка NDCG для всіх користувачів. На вхід приходять рекомендації у форматі як у завданні 3\n",
        "def average_ndcg(df, k):\n",
        "    ndcgs = df.apply(lambda row: ndcg_user(row, k), axis=1)\n",
        "    return ndcgs.mean()"
      ]
    },
    {
      "cell_type": "code",
      "execution_count": 48,
      "metadata": {
        "ExecuteTime": {
          "end_time": "2024-11-10T23:27:47.300400Z",
          "start_time": "2024-11-10T23:27:47.288420Z"
        },
        "colab": {
          "base_uri": "https://localhost:8080/"
        },
        "id": "McFX-aEFQAMR",
        "outputId": "bd84842b-384d-4f0d-b802-0e8fb737c8c1"
      },
      "outputs": [
        {
          "output_type": "stream",
          "name": "stdout",
          "text": [
            "Average NDCG@K for all users: 0.3333\n"
          ]
        }
      ],
      "source": [
        "df = pd.DataFrame([\n",
        "    {'user_id': 4, 'pred_list': [2, 3, 4], 'gt_list': [1, 2, 3, 5]},\n",
        "    {'user_id': 5, 'pred_list': [5, 6, 1], 'gt_list': [2, 3, 4]},\n",
        "    {'user_id': 6, 'pred_list': [2, 4, 6], 'gt_list': [1, 3, 5, 6]}\n",
        "])\n",
        "\n",
        "average_ndcg_score = average_ndcg(df, k=3)\n",
        "print(f\"Average NDCG@K for all users: {average_ndcg_score:.4f}\")"
      ]
    },
    {
      "cell_type": "markdown",
      "metadata": {
        "id": "Cli_6-O6tYD1"
      },
      "source": [
        "#### Surprisal\n",
        "Подивимося, наскільки наші рекомендації є гарними з погляду новизни для користувача. Як новизну розглядатимемо \"непопулярність\" айтемів у рекомендаціях.\n",
        "\n",
        "1. Розглянемо власну інформацію item-а як міру його новизни для користувачів.\n",
        "\n",
        " $$selfInformation(i) = -\\log_2 \\frac{|u_i|}{N}, $$\n",
        " де $i$ - об'єкт (item), $N$ - кількість користувачів в навчальній вибірці, $|u_i|$ - кількість користувачів, що взаємодіяли з об'єктом $i$ в навчальній вибірці.\n",
        "\n",
        "\n",
        "2. Власна інформація визначається для item-а, а значення метрики ми хочемо вважати для користувача $k$ - кількості рекомендацій. Для підрахунку Surprisal користувача є середнім значення власної інформації в топ-k рекомендаціях цього користувача.\n",
        "\n",
        " Щоб отримати значення від 0 до 1, розділимо значення метрики для користувача максимально можливо значення метрики дорівнює $log_2 N$.\n",
        "\n",
        "$$Surprisal(u, k) = \\frac{1}{k log_2 N} \\sum_{i}^{k}selfInformation(i)$$\n",
        "\n",
        "\n",
        "3. Результат середнім користувачам.\n",
        "\n",
        "Що робити з холодними елементами при підрахунку $selfInformation$? Найпростіший варіант — вважати, що для них була взаємодія з одним користувачем.\n",
        "\n",
        "Зауважте, що self information можна розрахувати один раз при ініціалізації метрики. Можливо, цю метрику варто зробити класом."
      ]
    },
    {
      "cell_type": "code",
      "execution_count": 50,
      "metadata": {
        "ExecuteTime": {
          "end_time": "2024-11-10T23:27:47.315911Z",
          "start_time": "2024-11-10T23:27:47.304485Z"
        },
        "id": "ARiKCIhdtWvR"
      },
      "outputs": [],
      "source": [
        "class Surprisal:\n",
        "    def __init__(self, log: pd.DataFrame):\n",
        "        self.N = log['user_id'].nunique()\n",
        "\n",
        "        item_interaction_counts = log.groupby('item_id')['user_id'].nunique()\n",
        "\n",
        "        self.self_information = {}\n",
        "        for item, count in item_interaction_counts.items():\n",
        "            self.self_information[item] = -np.log2(count / self.N)\n",
        "\n",
        "    def __call__(self, pred, k):\n",
        "        top_k_items = pred['item_id'].values[:k]\n",
        "        total_self_info = 0\n",
        "\n",
        "        for item in top_k_items:\n",
        "            item_self_info = self.self_information.get(item, -np.log2(1 / self.N))\n",
        "            total_self_info += item_self_info\n",
        "\n",
        "        surprisal_value = total_self_info / (k * np.log2(self.N))\n",
        "\n",
        "        return surprisal_value"
      ]
    },
    {
      "cell_type": "code",
      "execution_count": 51,
      "metadata": {
        "ExecuteTime": {
          "end_time": "2024-11-10T23:27:47.335043Z",
          "start_time": "2024-11-10T23:27:47.318449Z"
        },
        "id": "ohDN2k-ztz-z"
      },
      "outputs": [],
      "source": [
        "surp = Surprisal(pd.DataFrame({'user_id': [1, 2, 3, 3], 'item_id': [1, 2, 2, 3], 'relevance': [0.5, 0.1, 1., 0.1]}))\n",
        "\n",
        "assert math.isclose(surp(pd.DataFrame({'user_id': [1], 'item_id': [4], 'relevance': [0.5]}), k=1), 1)\n",
        "assert math.isclose(surp(pd.DataFrame({'user_id': [1], 'item_id': [4], 'relevance': [0.5]}), k=2), 0.5)\n",
        "assert math.isclose(surp(pd.DataFrame({'user_id': [2, 2], 'item_id': [3, 2], 'relevance': [0.1, 1]}), k=2), 0.685,\n",
        "                    abs_tol=1e-3)\n",
        "assert math.isclose(surp(pd.DataFrame({'user_id': [1, 2, 2], 'item_id': [4, 3, 2], 'relevance': [0.5, 0.1, 1]}), k=4),\n",
        "                    # k=2: !=\n",
        "                    (0.684 + 0.5) / 2, abs_tol=1e-3)"
      ]
    },
    {
      "cell_type": "code",
      "execution_count": null,
      "metadata": {
        "ExecuteTime": {
          "end_time": "2024-11-10T23:27:47.346509Z",
          "start_time": "2024-11-10T23:27:47.339594Z"
        },
        "id": "Wp6f5myWBObw"
      },
      "outputs": [],
      "source": [
        "# YOUR CODE HERE:\n"
      ]
    },
    {
      "cell_type": "markdown",
      "metadata": {
        "id": "1OyIB6MdQAMS"
      },
      "source": [
        " оцінка 4 метрик для рекомендацій із завдання 3"
      ]
    },
    {
      "cell_type": "markdown",
      "metadata": {
        "id": "RLKtYMZgQAMS"
      },
      "source": [
        "## Create a function that generate DS"
      ]
    },
    {
      "cell_type": "code",
      "execution_count": 52,
      "metadata": {
        "ExecuteTime": {
          "end_time": "2024-11-10T23:27:47.359890Z",
          "start_time": "2024-11-10T23:27:47.349574Z"
        },
        "id": "6h7XlgBXQAMS"
      },
      "outputs": [],
      "source": [
        "def generate_dataset(num_users=5, num_items=10):\n",
        "    np.random.seed(666)\n",
        "    user_ids = np.arange(num_users)\n",
        "    item_ids = np.arange(num_items)\n",
        "\n",
        "    interactions = []\n",
        "    for user in user_ids:\n",
        "        interacted_items = np.random.choice(item_ids, size=np.random.randint(1, 6), replace=False)\n",
        "        for item in interacted_items:\n",
        "            interactions.append({'user_id': user, 'item_id': item})\n",
        "\n",
        "    interactions_df = pd.DataFrame(interactions)\n",
        "\n",
        "    recommendations = []\n",
        "    for user in user_ids:\n",
        "        recommended_items = np.random.choice(item_ids, size=3, replace=False)\n",
        "        recommendations.append({'user_id': user, 'pred_list': recommended_items.tolist(),\n",
        "                                'gt_list': interactions_df[interactions_df['user_id'] == user]['item_id'].tolist()})\n",
        "\n",
        "    recommendations_df = pd.DataFrame(recommendations)\n",
        "\n",
        "    return recommendations_df, interactions_df"
      ]
    },
    {
      "cell_type": "code",
      "execution_count": 66,
      "metadata": {
        "ExecuteTime": {
          "end_time": "2024-11-10T23:27:47.377299Z",
          "start_time": "2024-11-10T23:27:47.362942Z"
        },
        "colab": {
          "base_uri": "https://localhost:8080/",
          "height": 772
        },
        "id": "bZQzCLcvQAMS",
        "outputId": "852d5ff8-e572-43b6-be32-600c61dfb9eb"
      },
      "outputs": [
        {
          "output_type": "display_data",
          "data": {
            "text/plain": [
              "   user_id  pred_list          gt_list\n",
              "0        0  [0, 7, 1]  [0, 3, 7, 6, 4]\n",
              "1        1  [1, 5, 4]  [3, 5, 6, 2, 0]\n",
              "2        2  [7, 5, 1]        [1, 2, 0]\n",
              "3        3  [5, 1, 4]  [5, 1, 6, 3, 2]"
            ],
            "text/html": [
              "\n",
              "  <div id=\"df-38fa6d8d-1929-4cd3-9bab-2a7ebc9d7d93\" class=\"colab-df-container\">\n",
              "    <div>\n",
              "<style scoped>\n",
              "    .dataframe tbody tr th:only-of-type {\n",
              "        vertical-align: middle;\n",
              "    }\n",
              "\n",
              "    .dataframe tbody tr th {\n",
              "        vertical-align: top;\n",
              "    }\n",
              "\n",
              "    .dataframe thead th {\n",
              "        text-align: right;\n",
              "    }\n",
              "</style>\n",
              "<table border=\"1\" class=\"dataframe\">\n",
              "  <thead>\n",
              "    <tr style=\"text-align: right;\">\n",
              "      <th></th>\n",
              "      <th>user_id</th>\n",
              "      <th>pred_list</th>\n",
              "      <th>gt_list</th>\n",
              "    </tr>\n",
              "  </thead>\n",
              "  <tbody>\n",
              "    <tr>\n",
              "      <th>0</th>\n",
              "      <td>0</td>\n",
              "      <td>[0, 7, 1]</td>\n",
              "      <td>[0, 3, 7, 6, 4]</td>\n",
              "    </tr>\n",
              "    <tr>\n",
              "      <th>1</th>\n",
              "      <td>1</td>\n",
              "      <td>[1, 5, 4]</td>\n",
              "      <td>[3, 5, 6, 2, 0]</td>\n",
              "    </tr>\n",
              "    <tr>\n",
              "      <th>2</th>\n",
              "      <td>2</td>\n",
              "      <td>[7, 5, 1]</td>\n",
              "      <td>[1, 2, 0]</td>\n",
              "    </tr>\n",
              "    <tr>\n",
              "      <th>3</th>\n",
              "      <td>3</td>\n",
              "      <td>[5, 1, 4]</td>\n",
              "      <td>[5, 1, 6, 3, 2]</td>\n",
              "    </tr>\n",
              "  </tbody>\n",
              "</table>\n",
              "</div>\n",
              "    <div class=\"colab-df-buttons\">\n",
              "\n",
              "  <div class=\"colab-df-container\">\n",
              "    <button class=\"colab-df-convert\" onclick=\"convertToInteractive('df-38fa6d8d-1929-4cd3-9bab-2a7ebc9d7d93')\"\n",
              "            title=\"Convert this dataframe to an interactive table.\"\n",
              "            style=\"display:none;\">\n",
              "\n",
              "  <svg xmlns=\"http://www.w3.org/2000/svg\" height=\"24px\" viewBox=\"0 -960 960 960\">\n",
              "    <path d=\"M120-120v-720h720v720H120Zm60-500h600v-160H180v160Zm220 220h160v-160H400v160Zm0 220h160v-160H400v160ZM180-400h160v-160H180v160Zm440 0h160v-160H620v160ZM180-180h160v-160H180v160Zm440 0h160v-160H620v160Z\"/>\n",
              "  </svg>\n",
              "    </button>\n",
              "\n",
              "  <style>\n",
              "    .colab-df-container {\n",
              "      display:flex;\n",
              "      gap: 12px;\n",
              "    }\n",
              "\n",
              "    .colab-df-convert {\n",
              "      background-color: #E8F0FE;\n",
              "      border: none;\n",
              "      border-radius: 50%;\n",
              "      cursor: pointer;\n",
              "      display: none;\n",
              "      fill: #1967D2;\n",
              "      height: 32px;\n",
              "      padding: 0 0 0 0;\n",
              "      width: 32px;\n",
              "    }\n",
              "\n",
              "    .colab-df-convert:hover {\n",
              "      background-color: #E2EBFA;\n",
              "      box-shadow: 0px 1px 2px rgba(60, 64, 67, 0.3), 0px 1px 3px 1px rgba(60, 64, 67, 0.15);\n",
              "      fill: #174EA6;\n",
              "    }\n",
              "\n",
              "    .colab-df-buttons div {\n",
              "      margin-bottom: 4px;\n",
              "    }\n",
              "\n",
              "    [theme=dark] .colab-df-convert {\n",
              "      background-color: #3B4455;\n",
              "      fill: #D2E3FC;\n",
              "    }\n",
              "\n",
              "    [theme=dark] .colab-df-convert:hover {\n",
              "      background-color: #434B5C;\n",
              "      box-shadow: 0px 1px 3px 1px rgba(0, 0, 0, 0.15);\n",
              "      filter: drop-shadow(0px 1px 2px rgba(0, 0, 0, 0.3));\n",
              "      fill: #FFFFFF;\n",
              "    }\n",
              "  </style>\n",
              "\n",
              "    <script>\n",
              "      const buttonEl =\n",
              "        document.querySelector('#df-38fa6d8d-1929-4cd3-9bab-2a7ebc9d7d93 button.colab-df-convert');\n",
              "      buttonEl.style.display =\n",
              "        google.colab.kernel.accessAllowed ? 'block' : 'none';\n",
              "\n",
              "      async function convertToInteractive(key) {\n",
              "        const element = document.querySelector('#df-38fa6d8d-1929-4cd3-9bab-2a7ebc9d7d93');\n",
              "        const dataTable =\n",
              "          await google.colab.kernel.invokeFunction('convertToInteractive',\n",
              "                                                    [key], {});\n",
              "        if (!dataTable) return;\n",
              "\n",
              "        const docLinkHtml = 'Like what you see? Visit the ' +\n",
              "          '<a target=\"_blank\" href=https://colab.research.google.com/notebooks/data_table.ipynb>data table notebook</a>'\n",
              "          + ' to learn more about interactive tables.';\n",
              "        element.innerHTML = '';\n",
              "        dataTable['output_type'] = 'display_data';\n",
              "        await google.colab.output.renderOutput(dataTable, element);\n",
              "        const docLink = document.createElement('div');\n",
              "        docLink.innerHTML = docLinkHtml;\n",
              "        element.appendChild(docLink);\n",
              "      }\n",
              "    </script>\n",
              "  </div>\n",
              "\n",
              "\n",
              "<div id=\"df-979f084f-12ce-4a05-aee8-fd94c343d852\">\n",
              "  <button class=\"colab-df-quickchart\" onclick=\"quickchart('df-979f084f-12ce-4a05-aee8-fd94c343d852')\"\n",
              "            title=\"Suggest charts\"\n",
              "            style=\"display:none;\">\n",
              "\n",
              "<svg xmlns=\"http://www.w3.org/2000/svg\" height=\"24px\"viewBox=\"0 0 24 24\"\n",
              "     width=\"24px\">\n",
              "    <g>\n",
              "        <path d=\"M19 3H5c-1.1 0-2 .9-2 2v14c0 1.1.9 2 2 2h14c1.1 0 2-.9 2-2V5c0-1.1-.9-2-2-2zM9 17H7v-7h2v7zm4 0h-2V7h2v10zm4 0h-2v-4h2v4z\"/>\n",
              "    </g>\n",
              "</svg>\n",
              "  </button>\n",
              "\n",
              "<style>\n",
              "  .colab-df-quickchart {\n",
              "      --bg-color: #E8F0FE;\n",
              "      --fill-color: #1967D2;\n",
              "      --hover-bg-color: #E2EBFA;\n",
              "      --hover-fill-color: #174EA6;\n",
              "      --disabled-fill-color: #AAA;\n",
              "      --disabled-bg-color: #DDD;\n",
              "  }\n",
              "\n",
              "  [theme=dark] .colab-df-quickchart {\n",
              "      --bg-color: #3B4455;\n",
              "      --fill-color: #D2E3FC;\n",
              "      --hover-bg-color: #434B5C;\n",
              "      --hover-fill-color: #FFFFFF;\n",
              "      --disabled-bg-color: #3B4455;\n",
              "      --disabled-fill-color: #666;\n",
              "  }\n",
              "\n",
              "  .colab-df-quickchart {\n",
              "    background-color: var(--bg-color);\n",
              "    border: none;\n",
              "    border-radius: 50%;\n",
              "    cursor: pointer;\n",
              "    display: none;\n",
              "    fill: var(--fill-color);\n",
              "    height: 32px;\n",
              "    padding: 0;\n",
              "    width: 32px;\n",
              "  }\n",
              "\n",
              "  .colab-df-quickchart:hover {\n",
              "    background-color: var(--hover-bg-color);\n",
              "    box-shadow: 0 1px 2px rgba(60, 64, 67, 0.3), 0 1px 3px 1px rgba(60, 64, 67, 0.15);\n",
              "    fill: var(--button-hover-fill-color);\n",
              "  }\n",
              "\n",
              "  .colab-df-quickchart-complete:disabled,\n",
              "  .colab-df-quickchart-complete:disabled:hover {\n",
              "    background-color: var(--disabled-bg-color);\n",
              "    fill: var(--disabled-fill-color);\n",
              "    box-shadow: none;\n",
              "  }\n",
              "\n",
              "  .colab-df-spinner {\n",
              "    border: 2px solid var(--fill-color);\n",
              "    border-color: transparent;\n",
              "    border-bottom-color: var(--fill-color);\n",
              "    animation:\n",
              "      spin 1s steps(1) infinite;\n",
              "  }\n",
              "\n",
              "  @keyframes spin {\n",
              "    0% {\n",
              "      border-color: transparent;\n",
              "      border-bottom-color: var(--fill-color);\n",
              "      border-left-color: var(--fill-color);\n",
              "    }\n",
              "    20% {\n",
              "      border-color: transparent;\n",
              "      border-left-color: var(--fill-color);\n",
              "      border-top-color: var(--fill-color);\n",
              "    }\n",
              "    30% {\n",
              "      border-color: transparent;\n",
              "      border-left-color: var(--fill-color);\n",
              "      border-top-color: var(--fill-color);\n",
              "      border-right-color: var(--fill-color);\n",
              "    }\n",
              "    40% {\n",
              "      border-color: transparent;\n",
              "      border-right-color: var(--fill-color);\n",
              "      border-top-color: var(--fill-color);\n",
              "    }\n",
              "    60% {\n",
              "      border-color: transparent;\n",
              "      border-right-color: var(--fill-color);\n",
              "    }\n",
              "    80% {\n",
              "      border-color: transparent;\n",
              "      border-right-color: var(--fill-color);\n",
              "      border-bottom-color: var(--fill-color);\n",
              "    }\n",
              "    90% {\n",
              "      border-color: transparent;\n",
              "      border-bottom-color: var(--fill-color);\n",
              "    }\n",
              "  }\n",
              "</style>\n",
              "\n",
              "  <script>\n",
              "    async function quickchart(key) {\n",
              "      const quickchartButtonEl =\n",
              "        document.querySelector('#' + key + ' button');\n",
              "      quickchartButtonEl.disabled = true;  // To prevent multiple clicks.\n",
              "      quickchartButtonEl.classList.add('colab-df-spinner');\n",
              "      try {\n",
              "        const charts = await google.colab.kernel.invokeFunction(\n",
              "            'suggestCharts', [key], {});\n",
              "      } catch (error) {\n",
              "        console.error('Error during call to suggestCharts:', error);\n",
              "      }\n",
              "      quickchartButtonEl.classList.remove('colab-df-spinner');\n",
              "      quickchartButtonEl.classList.add('colab-df-quickchart-complete');\n",
              "    }\n",
              "    (() => {\n",
              "      let quickchartButtonEl =\n",
              "        document.querySelector('#df-979f084f-12ce-4a05-aee8-fd94c343d852 button');\n",
              "      quickchartButtonEl.style.display =\n",
              "        google.colab.kernel.accessAllowed ? 'block' : 'none';\n",
              "    })();\n",
              "  </script>\n",
              "</div>\n",
              "    </div>\n",
              "  </div>\n"
            ],
            "application/vnd.google.colaboratory.intrinsic+json": {
              "type": "dataframe",
              "variable_name": "random_pred",
              "summary": "{\n  \"name\": \"random_pred\",\n  \"rows\": 4,\n  \"fields\": [\n    {\n      \"column\": \"user_id\",\n      \"properties\": {\n        \"dtype\": \"number\",\n        \"std\": 1,\n        \"min\": 0,\n        \"max\": 3,\n        \"num_unique_values\": 4,\n        \"samples\": [\n          1,\n          3,\n          0\n        ],\n        \"semantic_type\": \"\",\n        \"description\": \"\"\n      }\n    },\n    {\n      \"column\": \"pred_list\",\n      \"properties\": {\n        \"dtype\": \"object\",\n        \"semantic_type\": \"\",\n        \"description\": \"\"\n      }\n    },\n    {\n      \"column\": \"gt_list\",\n      \"properties\": {\n        \"dtype\": \"object\",\n        \"semantic_type\": \"\",\n        \"description\": \"\"\n      }\n    }\n  ]\n}"
            }
          },
          "metadata": {}
        },
        {
          "output_type": "execute_result",
          "data": {
            "text/plain": [
              "    user_id  item_id\n",
              "0         0        0\n",
              "1         0        3\n",
              "2         0        7\n",
              "3         0        6\n",
              "4         0        4\n",
              "5         1        3\n",
              "6         1        5\n",
              "7         1        6\n",
              "8         1        2\n",
              "9         1        0\n",
              "10        2        1\n",
              "11        2        2\n",
              "12        2        0\n",
              "13        3        5\n",
              "14        3        1\n",
              "15        3        6\n",
              "16        3        3\n",
              "17        3        2"
            ],
            "text/html": [
              "\n",
              "  <div id=\"df-284df6bd-bfcb-458f-938a-701ee760caa7\" class=\"colab-df-container\">\n",
              "    <div>\n",
              "<style scoped>\n",
              "    .dataframe tbody tr th:only-of-type {\n",
              "        vertical-align: middle;\n",
              "    }\n",
              "\n",
              "    .dataframe tbody tr th {\n",
              "        vertical-align: top;\n",
              "    }\n",
              "\n",
              "    .dataframe thead th {\n",
              "        text-align: right;\n",
              "    }\n",
              "</style>\n",
              "<table border=\"1\" class=\"dataframe\">\n",
              "  <thead>\n",
              "    <tr style=\"text-align: right;\">\n",
              "      <th></th>\n",
              "      <th>user_id</th>\n",
              "      <th>item_id</th>\n",
              "    </tr>\n",
              "  </thead>\n",
              "  <tbody>\n",
              "    <tr>\n",
              "      <th>0</th>\n",
              "      <td>0</td>\n",
              "      <td>0</td>\n",
              "    </tr>\n",
              "    <tr>\n",
              "      <th>1</th>\n",
              "      <td>0</td>\n",
              "      <td>3</td>\n",
              "    </tr>\n",
              "    <tr>\n",
              "      <th>2</th>\n",
              "      <td>0</td>\n",
              "      <td>7</td>\n",
              "    </tr>\n",
              "    <tr>\n",
              "      <th>3</th>\n",
              "      <td>0</td>\n",
              "      <td>6</td>\n",
              "    </tr>\n",
              "    <tr>\n",
              "      <th>4</th>\n",
              "      <td>0</td>\n",
              "      <td>4</td>\n",
              "    </tr>\n",
              "    <tr>\n",
              "      <th>5</th>\n",
              "      <td>1</td>\n",
              "      <td>3</td>\n",
              "    </tr>\n",
              "    <tr>\n",
              "      <th>6</th>\n",
              "      <td>1</td>\n",
              "      <td>5</td>\n",
              "    </tr>\n",
              "    <tr>\n",
              "      <th>7</th>\n",
              "      <td>1</td>\n",
              "      <td>6</td>\n",
              "    </tr>\n",
              "    <tr>\n",
              "      <th>8</th>\n",
              "      <td>1</td>\n",
              "      <td>2</td>\n",
              "    </tr>\n",
              "    <tr>\n",
              "      <th>9</th>\n",
              "      <td>1</td>\n",
              "      <td>0</td>\n",
              "    </tr>\n",
              "    <tr>\n",
              "      <th>10</th>\n",
              "      <td>2</td>\n",
              "      <td>1</td>\n",
              "    </tr>\n",
              "    <tr>\n",
              "      <th>11</th>\n",
              "      <td>2</td>\n",
              "      <td>2</td>\n",
              "    </tr>\n",
              "    <tr>\n",
              "      <th>12</th>\n",
              "      <td>2</td>\n",
              "      <td>0</td>\n",
              "    </tr>\n",
              "    <tr>\n",
              "      <th>13</th>\n",
              "      <td>3</td>\n",
              "      <td>5</td>\n",
              "    </tr>\n",
              "    <tr>\n",
              "      <th>14</th>\n",
              "      <td>3</td>\n",
              "      <td>1</td>\n",
              "    </tr>\n",
              "    <tr>\n",
              "      <th>15</th>\n",
              "      <td>3</td>\n",
              "      <td>6</td>\n",
              "    </tr>\n",
              "    <tr>\n",
              "      <th>16</th>\n",
              "      <td>3</td>\n",
              "      <td>3</td>\n",
              "    </tr>\n",
              "    <tr>\n",
              "      <th>17</th>\n",
              "      <td>3</td>\n",
              "      <td>2</td>\n",
              "    </tr>\n",
              "  </tbody>\n",
              "</table>\n",
              "</div>\n",
              "    <div class=\"colab-df-buttons\">\n",
              "\n",
              "  <div class=\"colab-df-container\">\n",
              "    <button class=\"colab-df-convert\" onclick=\"convertToInteractive('df-284df6bd-bfcb-458f-938a-701ee760caa7')\"\n",
              "            title=\"Convert this dataframe to an interactive table.\"\n",
              "            style=\"display:none;\">\n",
              "\n",
              "  <svg xmlns=\"http://www.w3.org/2000/svg\" height=\"24px\" viewBox=\"0 -960 960 960\">\n",
              "    <path d=\"M120-120v-720h720v720H120Zm60-500h600v-160H180v160Zm220 220h160v-160H400v160Zm0 220h160v-160H400v160ZM180-400h160v-160H180v160Zm440 0h160v-160H620v160ZM180-180h160v-160H180v160Zm440 0h160v-160H620v160Z\"/>\n",
              "  </svg>\n",
              "    </button>\n",
              "\n",
              "  <style>\n",
              "    .colab-df-container {\n",
              "      display:flex;\n",
              "      gap: 12px;\n",
              "    }\n",
              "\n",
              "    .colab-df-convert {\n",
              "      background-color: #E8F0FE;\n",
              "      border: none;\n",
              "      border-radius: 50%;\n",
              "      cursor: pointer;\n",
              "      display: none;\n",
              "      fill: #1967D2;\n",
              "      height: 32px;\n",
              "      padding: 0 0 0 0;\n",
              "      width: 32px;\n",
              "    }\n",
              "\n",
              "    .colab-df-convert:hover {\n",
              "      background-color: #E2EBFA;\n",
              "      box-shadow: 0px 1px 2px rgba(60, 64, 67, 0.3), 0px 1px 3px 1px rgba(60, 64, 67, 0.15);\n",
              "      fill: #174EA6;\n",
              "    }\n",
              "\n",
              "    .colab-df-buttons div {\n",
              "      margin-bottom: 4px;\n",
              "    }\n",
              "\n",
              "    [theme=dark] .colab-df-convert {\n",
              "      background-color: #3B4455;\n",
              "      fill: #D2E3FC;\n",
              "    }\n",
              "\n",
              "    [theme=dark] .colab-df-convert:hover {\n",
              "      background-color: #434B5C;\n",
              "      box-shadow: 0px 1px 3px 1px rgba(0, 0, 0, 0.15);\n",
              "      filter: drop-shadow(0px 1px 2px rgba(0, 0, 0, 0.3));\n",
              "      fill: #FFFFFF;\n",
              "    }\n",
              "  </style>\n",
              "\n",
              "    <script>\n",
              "      const buttonEl =\n",
              "        document.querySelector('#df-284df6bd-bfcb-458f-938a-701ee760caa7 button.colab-df-convert');\n",
              "      buttonEl.style.display =\n",
              "        google.colab.kernel.accessAllowed ? 'block' : 'none';\n",
              "\n",
              "      async function convertToInteractive(key) {\n",
              "        const element = document.querySelector('#df-284df6bd-bfcb-458f-938a-701ee760caa7');\n",
              "        const dataTable =\n",
              "          await google.colab.kernel.invokeFunction('convertToInteractive',\n",
              "                                                    [key], {});\n",
              "        if (!dataTable) return;\n",
              "\n",
              "        const docLinkHtml = 'Like what you see? Visit the ' +\n",
              "          '<a target=\"_blank\" href=https://colab.research.google.com/notebooks/data_table.ipynb>data table notebook</a>'\n",
              "          + ' to learn more about interactive tables.';\n",
              "        element.innerHTML = '';\n",
              "        dataTable['output_type'] = 'display_data';\n",
              "        await google.colab.output.renderOutput(dataTable, element);\n",
              "        const docLink = document.createElement('div');\n",
              "        docLink.innerHTML = docLinkHtml;\n",
              "        element.appendChild(docLink);\n",
              "      }\n",
              "    </script>\n",
              "  </div>\n",
              "\n",
              "\n",
              "<div id=\"df-e5692eb6-5df9-47d2-9ef3-3f21f5d4064d\">\n",
              "  <button class=\"colab-df-quickchart\" onclick=\"quickchart('df-e5692eb6-5df9-47d2-9ef3-3f21f5d4064d')\"\n",
              "            title=\"Suggest charts\"\n",
              "            style=\"display:none;\">\n",
              "\n",
              "<svg xmlns=\"http://www.w3.org/2000/svg\" height=\"24px\"viewBox=\"0 0 24 24\"\n",
              "     width=\"24px\">\n",
              "    <g>\n",
              "        <path d=\"M19 3H5c-1.1 0-2 .9-2 2v14c0 1.1.9 2 2 2h14c1.1 0 2-.9 2-2V5c0-1.1-.9-2-2-2zM9 17H7v-7h2v7zm4 0h-2V7h2v10zm4 0h-2v-4h2v4z\"/>\n",
              "    </g>\n",
              "</svg>\n",
              "  </button>\n",
              "\n",
              "<style>\n",
              "  .colab-df-quickchart {\n",
              "      --bg-color: #E8F0FE;\n",
              "      --fill-color: #1967D2;\n",
              "      --hover-bg-color: #E2EBFA;\n",
              "      --hover-fill-color: #174EA6;\n",
              "      --disabled-fill-color: #AAA;\n",
              "      --disabled-bg-color: #DDD;\n",
              "  }\n",
              "\n",
              "  [theme=dark] .colab-df-quickchart {\n",
              "      --bg-color: #3B4455;\n",
              "      --fill-color: #D2E3FC;\n",
              "      --hover-bg-color: #434B5C;\n",
              "      --hover-fill-color: #FFFFFF;\n",
              "      --disabled-bg-color: #3B4455;\n",
              "      --disabled-fill-color: #666;\n",
              "  }\n",
              "\n",
              "  .colab-df-quickchart {\n",
              "    background-color: var(--bg-color);\n",
              "    border: none;\n",
              "    border-radius: 50%;\n",
              "    cursor: pointer;\n",
              "    display: none;\n",
              "    fill: var(--fill-color);\n",
              "    height: 32px;\n",
              "    padding: 0;\n",
              "    width: 32px;\n",
              "  }\n",
              "\n",
              "  .colab-df-quickchart:hover {\n",
              "    background-color: var(--hover-bg-color);\n",
              "    box-shadow: 0 1px 2px rgba(60, 64, 67, 0.3), 0 1px 3px 1px rgba(60, 64, 67, 0.15);\n",
              "    fill: var(--button-hover-fill-color);\n",
              "  }\n",
              "\n",
              "  .colab-df-quickchart-complete:disabled,\n",
              "  .colab-df-quickchart-complete:disabled:hover {\n",
              "    background-color: var(--disabled-bg-color);\n",
              "    fill: var(--disabled-fill-color);\n",
              "    box-shadow: none;\n",
              "  }\n",
              "\n",
              "  .colab-df-spinner {\n",
              "    border: 2px solid var(--fill-color);\n",
              "    border-color: transparent;\n",
              "    border-bottom-color: var(--fill-color);\n",
              "    animation:\n",
              "      spin 1s steps(1) infinite;\n",
              "  }\n",
              "\n",
              "  @keyframes spin {\n",
              "    0% {\n",
              "      border-color: transparent;\n",
              "      border-bottom-color: var(--fill-color);\n",
              "      border-left-color: var(--fill-color);\n",
              "    }\n",
              "    20% {\n",
              "      border-color: transparent;\n",
              "      border-left-color: var(--fill-color);\n",
              "      border-top-color: var(--fill-color);\n",
              "    }\n",
              "    30% {\n",
              "      border-color: transparent;\n",
              "      border-left-color: var(--fill-color);\n",
              "      border-top-color: var(--fill-color);\n",
              "      border-right-color: var(--fill-color);\n",
              "    }\n",
              "    40% {\n",
              "      border-color: transparent;\n",
              "      border-right-color: var(--fill-color);\n",
              "      border-top-color: var(--fill-color);\n",
              "    }\n",
              "    60% {\n",
              "      border-color: transparent;\n",
              "      border-right-color: var(--fill-color);\n",
              "    }\n",
              "    80% {\n",
              "      border-color: transparent;\n",
              "      border-right-color: var(--fill-color);\n",
              "      border-bottom-color: var(--fill-color);\n",
              "    }\n",
              "    90% {\n",
              "      border-color: transparent;\n",
              "      border-bottom-color: var(--fill-color);\n",
              "    }\n",
              "  }\n",
              "</style>\n",
              "\n",
              "  <script>\n",
              "    async function quickchart(key) {\n",
              "      const quickchartButtonEl =\n",
              "        document.querySelector('#' + key + ' button');\n",
              "      quickchartButtonEl.disabled = true;  // To prevent multiple clicks.\n",
              "      quickchartButtonEl.classList.add('colab-df-spinner');\n",
              "      try {\n",
              "        const charts = await google.colab.kernel.invokeFunction(\n",
              "            'suggestCharts', [key], {});\n",
              "      } catch (error) {\n",
              "        console.error('Error during call to suggestCharts:', error);\n",
              "      }\n",
              "      quickchartButtonEl.classList.remove('colab-df-spinner');\n",
              "      quickchartButtonEl.classList.add('colab-df-quickchart-complete');\n",
              "    }\n",
              "    (() => {\n",
              "      let quickchartButtonEl =\n",
              "        document.querySelector('#df-e5692eb6-5df9-47d2-9ef3-3f21f5d4064d button');\n",
              "      quickchartButtonEl.style.display =\n",
              "        google.colab.kernel.accessAllowed ? 'block' : 'none';\n",
              "    })();\n",
              "  </script>\n",
              "</div>\n",
              "    </div>\n",
              "  </div>\n"
            ],
            "application/vnd.google.colaboratory.intrinsic+json": {
              "type": "dataframe",
              "variable_name": "reviews",
              "summary": "{\n  \"name\": \"reviews\",\n  \"rows\": 18,\n  \"fields\": [\n    {\n      \"column\": \"user_id\",\n      \"properties\": {\n        \"dtype\": \"number\",\n        \"std\": 1,\n        \"min\": 0,\n        \"max\": 3,\n        \"num_unique_values\": 4,\n        \"samples\": [\n          1,\n          3,\n          0\n        ],\n        \"semantic_type\": \"\",\n        \"description\": \"\"\n      }\n    },\n    {\n      \"column\": \"item_id\",\n      \"properties\": {\n        \"dtype\": \"number\",\n        \"std\": 2,\n        \"min\": 0,\n        \"max\": 7,\n        \"num_unique_values\": 8,\n        \"samples\": [\n          3,\n          5,\n          0\n        ],\n        \"semantic_type\": \"\",\n        \"description\": \"\"\n      }\n    }\n  ]\n}"
            }
          },
          "metadata": {},
          "execution_count": 66
        }
      ],
      "source": [
        "random_pred, reviews = generate_dataset(4, 8)\n",
        "display(random_pred)\n",
        "reviews"
      ]
    },
    {
      "cell_type": "markdown",
      "metadata": {
        "id": "44Pmh8AsQAMS"
      },
      "source": [
        "## DCG\n",
        "\n",
        "$$DCG@K(i) = \\sum_{j=1}^{K}\\frac{\\mathbb{1}_{r_{ij}}}{\\log_2 (j+1)}$$"
      ]
    },
    {
      "cell_type": "code",
      "execution_count": 62,
      "metadata": {
        "ExecuteTime": {
          "end_time": "2024-11-10T23:27:47.429289Z",
          "start_time": "2024-11-10T23:27:47.418890Z"
        },
        "id": "vQiEC9JGQAMS"
      },
      "outputs": [],
      "source": [
        "def hit_rate_at_k(predictions_df, k):\n",
        "    hits = 0\n",
        "    total = 0\n",
        "\n",
        "    for _, row in predictions_df.iterrows():\n",
        "        hits += len(set(row['pred_list'][:k]) & set(row['gt_list']))\n",
        "        total += k\n",
        "\n",
        "    return hits / total"
      ]
    },
    {
      "cell_type": "code",
      "source": [
        "def coverage_at_k(predictions_df, k, all_items):\n",
        "    recommended_items = set()\n",
        "\n",
        "    for _, row in predictions_df.iterrows():\n",
        "        recommended_items.update(row['pred_list'][:k])\n",
        "\n",
        "    return len(recommended_items) / len(all_items)"
      ],
      "metadata": {
        "id": "WXIfNzjeXdej"
      },
      "execution_count": 63,
      "outputs": []
    },
    {
      "cell_type": "code",
      "execution_count": 64,
      "metadata": {
        "ExecuteTime": {
          "end_time": "2024-11-10T23:27:47.442838Z",
          "start_time": "2024-11-10T23:27:47.431317Z"
        },
        "id": "dwwqxVF5QAMS"
      },
      "outputs": [],
      "source": [
        "def evaluate_metrics(predictions_df, log_df, k):\n",
        "    results = []\n",
        "\n",
        "    surprisal_calculator = Surprisal(log_df)\n",
        "    all_items = set(log_df['item_id'].unique())\n",
        "\n",
        "    for _, row in predictions_df.iterrows():\n",
        "        user_id = row['user_id']\n",
        "        ndcg_value = ndcg_user(row, k)\n",
        "        hit_rate = hit_rate_at_k(predictions_df, k)\n",
        "        pred_df = pd.DataFrame({'item_id': row['pred_list']})\n",
        "        surprisal_value = surprisal_calculator(pred_df, k)\n",
        "        coverage_value = coverage_at_k(predictions_df, k, all_items)\n",
        "\n",
        "        results.append({\n",
        "            'NDCG@K': ndcg_value,\n",
        "            'HitRate@K': hit_rate,\n",
        "            'Coverage@K': coverage_value,\n",
        "            'Surprisal@K': surprisal_value\n",
        "        })\n",
        "\n",
        "    return pd.DataFrame(results).mean()"
      ]
    },
    {
      "cell_type": "code",
      "execution_count": 68,
      "metadata": {
        "ExecuteTime": {
          "end_time": "2024-11-10T23:27:47.470435Z",
          "start_time": "2024-11-10T23:27:47.445893Z"
        },
        "colab": {
          "base_uri": "https://localhost:8080/",
          "height": 210
        },
        "id": "6wIBuK3yQAMS",
        "outputId": "a4c37582-f3b4-44ea-972e-f4b2c593efe7"
      },
      "outputs": [
        {
          "output_type": "execute_result",
          "data": {
            "text/plain": [
              "NDCG@K         0.388730\n",
              "HitRate@K      0.075000\n",
              "Coverage@K     0.625000\n",
              "Surprisal@K    0.096344\n",
              "dtype: float64"
            ],
            "text/html": [
              "<div>\n",
              "<style scoped>\n",
              "    .dataframe tbody tr th:only-of-type {\n",
              "        vertical-align: middle;\n",
              "    }\n",
              "\n",
              "    .dataframe tbody tr th {\n",
              "        vertical-align: top;\n",
              "    }\n",
              "\n",
              "    .dataframe thead th {\n",
              "        text-align: right;\n",
              "    }\n",
              "</style>\n",
              "<table border=\"1\" class=\"dataframe\">\n",
              "  <thead>\n",
              "    <tr style=\"text-align: right;\">\n",
              "      <th></th>\n",
              "      <th>0</th>\n",
              "    </tr>\n",
              "  </thead>\n",
              "  <tbody>\n",
              "    <tr>\n",
              "      <th>NDCG@K</th>\n",
              "      <td>0.388730</td>\n",
              "    </tr>\n",
              "    <tr>\n",
              "      <th>HitRate@K</th>\n",
              "      <td>0.075000</td>\n",
              "    </tr>\n",
              "    <tr>\n",
              "      <th>Coverage@K</th>\n",
              "      <td>0.625000</td>\n",
              "    </tr>\n",
              "    <tr>\n",
              "      <th>Surprisal@K</th>\n",
              "      <td>0.096344</td>\n",
              "    </tr>\n",
              "  </tbody>\n",
              "</table>\n",
              "</div><br><label><b>dtype:</b> float64</label>"
            ]
          },
          "metadata": {},
          "execution_count": 68
        }
      ],
      "source": [
        "metrics_df = evaluate_metrics(random_pred, reviews, k=20)\n",
        "metrics_df"
      ]
    },
    {
      "cell_type": "markdown",
      "metadata": {
        "id": "tDWZDgFhGa3a"
      },
      "source": [
        "## Завдання 5\n",
        "**(5 балів) Завдання 5.** item-based knn\n",
        "\n",
        "1) **(2 бали)** Застосуйте [CosineRecommender](https://benfred.github.io/implicit/api/models/cpu/knn.html) з бібліотеки [implicit](https://github.com/benfred/implicit). Оцініть вплив кількості сусідів (параметр K) на якість рекомендацій (за 4 реалізованими метриками). Побудуйте графік залежності NDCG@20 від сусідів.\n",
        "\n",
        "2) **(2 бали)** Розберіться, в чому полягає ідея використання ваг tfidf і bm25, наприклад, за цією статтею(https://www.benfrederickson.com/distance-metrics/). Виберіть один із способів (tfidf або bm25) зважування, опишіть основну ідею текстом. Застосуйте обрану модель, підберіть гіперпараметри на відкладених даних (розбийте самостійно) та оцініть якість на val-датасеті.\n",
        "\n",
        "3) **(1 бал)** Повторіть експеримент, використовуючи для навчання тільки позитивні оцінки (> 3). Не забудьте при фільтрації переглянутих врахувати всі взаємодії (не лише позитивні). Як це вплинуло на якість?\n",
        "\n",
        "Чи вдалось досягти кращої якості, ніж з використанням Cosine?"
      ]
    },
    {
      "cell_type": "code",
      "execution_count": 69,
      "metadata": {
        "ExecuteTime": {
          "end_time": "2024-11-10T23:27:47.481091Z",
          "start_time": "2024-11-10T23:27:47.473662Z"
        },
        "colab": {
          "base_uri": "https://localhost:8080/"
        },
        "id": "O596ZisJQAMT",
        "outputId": "198d0542-ccb4-4863-b58b-34d4b3c49fef"
      },
      "outputs": [
        {
          "output_type": "stream",
          "name": "stdout",
          "text": [
            "Collecting implicit\n",
            "  Downloading implicit-0.7.2-cp310-cp310-manylinux2014_x86_64.whl.metadata (6.1 kB)\n",
            "Requirement already satisfied: numpy>=1.17.0 in /usr/local/lib/python3.10/dist-packages (from implicit) (1.26.4)\n",
            "Requirement already satisfied: scipy>=0.16 in /usr/local/lib/python3.10/dist-packages (from implicit) (1.13.1)\n",
            "Requirement already satisfied: tqdm>=4.27 in /usr/local/lib/python3.10/dist-packages (from implicit) (4.66.6)\n",
            "Requirement already satisfied: threadpoolctl in /usr/local/lib/python3.10/dist-packages (from implicit) (3.5.0)\n",
            "Downloading implicit-0.7.2-cp310-cp310-manylinux2014_x86_64.whl (8.9 MB)\n",
            "\u001b[2K   \u001b[90m━━━━━━━━━━━━━━━━━━━━━━━━━━━━━━━━━━━━━━━━\u001b[0m \u001b[32m8.9/8.9 MB\u001b[0m \u001b[31m28.5 MB/s\u001b[0m eta \u001b[36m0:00:00\u001b[0m\n",
            "\u001b[?25hInstalling collected packages: implicit\n",
            "Successfully installed implicit-0.7.2\n"
          ]
        }
      ],
      "source": [
        "!pip install implicit"
      ]
    },
    {
      "cell_type": "code",
      "execution_count": 70,
      "metadata": {
        "ExecuteTime": {
          "end_time": "2024-11-10T23:27:47.764072Z",
          "start_time": "2024-11-10T23:27:47.484256Z"
        },
        "id": "xbGjCSELQAMT"
      },
      "outputs": [],
      "source": [
        "from implicit.nearest_neighbours import CosineRecommender\n",
        "from scipy.sparse import csr_matrix"
      ]
    },
    {
      "cell_type": "code",
      "execution_count": 71,
      "metadata": {
        "ExecuteTime": {
          "end_time": "2024-11-10T23:27:47.778018Z",
          "start_time": "2024-11-10T23:27:47.767102Z"
        },
        "id": "dI30PZ1TQAMT"
      },
      "outputs": [],
      "source": [
        "def cosine_recommender(train_data, k):\n",
        "    user_item_matrix = pd.pivot_table(train_data, values='relevance', index='user_id', columns='item_id').fillna(0)\n",
        "    user_item_matrix = csr_matrix(user_item_matrix.values)\n",
        "\n",
        "    model = CosineRecommender(K=k)\n",
        "    model.fit(user_item_matrix, show_progress=False)\n",
        "\n",
        "    user_ids = train_data['user_id'].unique()\n",
        "    recommendations = []\n",
        "\n",
        "    for user_id in user_ids:\n",
        "        user_index = np.where(user_ids == user_id)[0][0]\n",
        "        recommended_items, scores = model.recommend(user_index, user_item_matrix[user_index], N=20)\n",
        "        recommendations.extend([(user_id, item, score) for item, score in zip(recommended_items, scores)])\n",
        "\n",
        "    return pd.DataFrame(recommendations, columns=['user_id', 'item_id', 'relevance'])"
      ]
    },
    {
      "cell_type": "code",
      "execution_count": 72,
      "metadata": {
        "ExecuteTime": {
          "end_time": "2024-11-10T23:27:47.788456Z",
          "start_time": "2024-11-10T23:27:47.780048Z"
        },
        "id": "OJGNLSrzQAMT"
      },
      "outputs": [],
      "source": [
        "def ndcg_user(row, k):\n",
        "    pred_list = row['pred_list'][:k]\n",
        "    gt_list = set(row['gt_list'])\n",
        "\n",
        "    dcg = sum((1 if pred in gt_list else 0) / np.log2(j + 2) for j, pred in enumerate(pred_list))\n",
        "    idcg = sum(1 / np.log2(j + 2) for j in range(min(k, len(gt_list))))\n",
        "\n",
        "    ndcg = dcg / idcg if idcg > 0 else 0\n",
        "    return ndcg"
      ]
    },
    {
      "cell_type": "code",
      "execution_count": 73,
      "metadata": {
        "ExecuteTime": {
          "end_time": "2024-11-10T23:27:47.798682Z",
          "start_time": "2024-11-10T23:27:47.791742Z"
        },
        "id": "dkFInnmIQAMT"
      },
      "outputs": [],
      "source": [
        "def average_ndcg(pred, valid, k):\n",
        "    score = 0\n",
        "    for uid in pred['user_id'].unique():\n",
        "        user_row = pd.Series({\n",
        "                'pred_list': pred[pred['user_id'] == uid]['item_id'],\n",
        "                'gt_list': valid[valid['user_id'] == uid]['item_id']\n",
        "            })\n",
        "        score += ndcg_user(user_row, k)\n",
        "    return score"
      ]
    },
    {
      "cell_type": "code",
      "execution_count": 74,
      "metadata": {
        "ExecuteTime": {
          "end_time": "2024-11-10T23:27:49.691476Z",
          "start_time": "2024-11-10T23:27:47.801702Z"
        },
        "id": "JYVeW8vaQAMT"
      },
      "outputs": [],
      "source": [
        "recomendation = cosine_recommender(train_data, k=20)"
      ]
    },
    {
      "cell_type": "code",
      "execution_count": 75,
      "metadata": {
        "ExecuteTime": {
          "end_time": "2024-11-10T23:27:49.843943Z",
          "start_time": "2024-11-10T23:27:49.693530Z"
        },
        "colab": {
          "base_uri": "https://localhost:8080/"
        },
        "id": "5U8thCimQAMT",
        "outputId": "0474a6f3-8838-48a9-976e-f49e41a1776d"
      },
      "outputs": [
        {
          "output_type": "stream",
          "name": "stdout",
          "text": [
            "NGCG@20: 6.45664416696819\n"
          ]
        }
      ],
      "source": [
        "ndcg_score = average_ndcg(recomendation, validation_data, k=20)\n",
        "\n",
        "print(f'NGCG@20: {ndcg_score}')"
      ]
    },
    {
      "cell_type": "code",
      "execution_count": 80,
      "metadata": {
        "ExecuteTime": {
          "end_time": "2024-11-10T23:33:45.086386Z",
          "start_time": "2024-11-10T23:27:49.845979Z"
        },
        "colab": {
          "base_uri": "https://localhost:8080/"
        },
        "id": "EQ6gHm-RQAMT",
        "outputId": "d5ba87a8-d859-426d-a129-e97610aa93c1"
      },
      "outputs": [
        {
          "output_type": "stream",
          "name": "stdout",
          "text": [
            "1|21 -> 4.76%\n",
            "2|21 -> 9.52%\n",
            "3|21 -> 14.29%\n",
            "4|21 -> 19.05%\n",
            "5|21 -> 23.81%\n",
            "6|21 -> 28.57%\n",
            "7|21 -> 33.33%\n",
            "8|21 -> 38.1%\n",
            "9|21 -> 42.86%\n",
            "10|21 -> 47.62%\n",
            "11|21 -> 52.38%\n",
            "12|21 -> 57.14%\n",
            "13|21 -> 61.9%\n",
            "14|21 -> 66.67%\n",
            "15|21 -> 71.43%\n",
            "16|21 -> 76.19%\n",
            "17|21 -> 80.95%\n",
            "18|21 -> 85.71%\n",
            "19|21 -> 90.48%\n",
            "20|21 -> 95.24%\n",
            "21|21 -> 100.0%\n"
          ]
        }
      ],
      "source": [
        "ndcg_20 = {}\n",
        "for k in range(1, amount := 22):\n",
        "  print(f\"{k}|{amount-1} -> {round(k/(amount-1) * 100, 2)}%\")\n",
        "  ndcg_20[k] = average_ndcg(cosine_recommender(train_data, k=k), validation_data, 20)"
      ]
    },
    {
      "cell_type": "code",
      "execution_count": 81,
      "metadata": {
        "ExecuteTime": {
          "end_time": "2024-11-10T23:33:45.722305Z",
          "start_time": "2024-11-10T23:33:45.090919Z"
        },
        "colab": {
          "base_uri": "https://localhost:8080/",
          "height": 410
        },
        "id": "DfHueSTRQAMT",
        "outputId": "e4ae882d-185c-47c6-b919-5e0e224446c5"
      },
      "outputs": [
        {
          "output_type": "display_data",
          "data": {
            "text/plain": [
              "<Figure size 1500x400 with 1 Axes>"
            ],
            "image/png": "[encoded data removed]"
          },
          "metadata": {}
        }
      ],
      "source": [
        "plt.figure(figsize=(15,4))\n",
        "plt.plot(ndcg_20.keys(), ndcg_20.values())\n",
        "plt.xlabel(\"Amount of Neighbors\")\n",
        "plt.ylabel(\"NDCG@20\")\n",
        "plt.title(\"Graph of NDCG@20 dependence on the number of neighbors\")\n",
        "\n",
        "plt.show()"
      ]
    },
    {
      "cell_type": "markdown",
      "metadata": {
        "id": "sGvjh0JhQAMT"
      },
      "source": [
        "## Ідея tfidf\n",
        "`tfidf (term frequency inverse document frequency)` є метрикою, що використовується для оцінки важливості терміна у документі в контексті колекції документів або корпусу. Вона обчислюється як добуток двох компонентів:\n",
        "\n",
        "`tf (term frequency)`: частота терміна в документі, що показує, наскільки часто термін зустрічається в даному документі.\n",
        "\n",
        "`idf (inverse document frequency)`: обернена частота документів, що містять термін, що відображає, наскільки термін рідкісний у всьому корпусі.\n",
        "\n",
        "Формула для `tfidf`:\n",
        "\n",
        "$$ tfidf(t, d) = tf(t, d) \\times idf(t, D)$$\n",
        "$$tf(t, d) = \\frac{слово\\,(t)}{документ\\,(d)}$$\n",
        "$$idf(t, D) = \\log\\frac{|D|}{|\\{d: d\\in D,\\,t\\in d\\}|}$$\n",
        "де:\n",
        "- $t$ — термін,\n",
        "- $d$ — документ,\n",
        "- $D$ — cукупність документів.\n",
        "Це дозволяє термінам, які часто зустрічаються в одному документі, але рідко — в інших, отримувати вищу вагу.\n",
        "\n",
        "## Ідея BM25\n",
        "`bm25` базується на покращеній моделі `tfidf`, яка враховує специфіку текстів різної довжини та загальну рідкість термінів. `bm25` також використовує параметри налаштування, що керують важливістю рідкісних термінів та коригують частоту взаємодій з кожним елементом (у нашому випадку – взаємодію користувача з певним товаром).\n",
        "\n",
        "`bm25` розраховує вагу за формулою, яка має додаткові параметри, що дозволяють регулювати вплив кожного з термінів:\n",
        "\n",
        "\n",
        "$$BM25(q,d) = \\sum_{t\\in q}\\log\\left(\\frac{N-n_t+0.5}{n_t+0.5}+1\\right)\\cdot\\frac{(k_1+1)\\cdot f_{t,\\,d}}{f_{t,\\,d}+k_1\\cdot\\left(1-b+b\\cdot\\frac{|d|}{avg(|d|)}\\right)}$$\n",
        "\n",
        "де:\n",
        "- $N$ - загальна кількість документів (користувачів),\n",
        "- $n_t$ - кількість документів, що містять термін $t$,\n",
        "- $f_{t,\\,d}$ - частота терміна $t$ в документі $d$,\n",
        "- $k_1, b$ - гіперпараметри, які потрібно підібрати для коректного застосування моделі."
      ]
    },
    {
      "cell_type": "code",
      "execution_count": 82,
      "metadata": {
        "ExecuteTime": {
          "end_time": "2024-11-10T23:33:48.046203Z",
          "start_time": "2024-11-10T23:33:45.727245Z"
        },
        "id": "4fiYiiFGQAMU"
      },
      "outputs": [],
      "source": [
        "from implicit.nearest_neighbours import BM25Recommender\n",
        "from sklearn.model_selection import train_test_split"
      ]
    },
    {
      "cell_type": "code",
      "execution_count": 83,
      "metadata": {
        "ExecuteTime": {
          "end_time": "2024-11-10T23:33:48.095593Z",
          "start_time": "2024-11-10T23:33:48.069632Z"
        },
        "id": "vL_ipIqRQAMU"
      },
      "outputs": [],
      "source": [
        "def bm25_recommender(train_data, k, k1=1.2, b=0.75):\n",
        "    df = train_data[:10000]\n",
        "    user_item_matrix = pd.pivot_table(df, values='relevance', index='user_id', columns='item_id').fillna(0)\n",
        "    user_item_matrix = csr_matrix(user_item_matrix.values)\n",
        "\n",
        "    user_ids = df['user_id'].unique()\n",
        "    recommendations = pd.DataFrame({'user_id': [], 'item_id': [], 'relevance': []})\n",
        "\n",
        "    for i, user_id in enumerate(user_ids):\n",
        "        model = BM25Recommender(K=k, K1=k1, B=b)\n",
        "        model.fit(user_item_matrix, show_progress=False)\n",
        "\n",
        "        recommended_items, scores = model.recommend(i, user_item_matrix[i], N=20)\n",
        "        recommendations_temp = pd.DataFrame({'user_id': user_id, 'item_id': recommended_items, 'relevance': scores})\n",
        "        recommendations = pd.concat([recommendations, recommendations_temp])\n",
        "\n",
        "    return recommendations"
      ]
    },
    {
      "cell_type": "code",
      "execution_count": 84,
      "metadata": {
        "ExecuteTime": {
          "end_time": "2024-11-10T23:33:48.253813Z",
          "start_time": "2024-11-10T23:33:48.101483Z"
        },
        "id": "Wv5q1GT_QAMU"
      },
      "outputs": [],
      "source": [
        "train_set, test_set = train_test_split(train_data, test_size=0.15, random_state=666)"
      ]
    },
    {
      "cell_type": "code",
      "execution_count": 85,
      "metadata": {
        "ExecuteTime": {
          "end_time": "2024-11-10T23:52:44.127258Z",
          "start_time": "2024-11-10T23:33:48.258847Z"
        },
        "colab": {
          "base_uri": "https://localhost:8080/"
        },
        "id": "JHl6i0z-QAMU",
        "outputId": "1de4e1a6-ef5a-4d66-8c3f-00681df81923"
      },
      "outputs": [
        {
          "output_type": "stream",
          "name": "stdout",
          "text": [
            "k1=1.0, b=0.5, NDCG@20: 27.373363436053097\n",
            "k1=1.0, b=0.75, NDCG@20: 27.01207854134322\n",
            "k1=1.0, b=1.0, NDCG@20: 26.711142808089445\n",
            "k1=1.2, b=0.5, NDCG@20: 27.159518554724738\n",
            "k1=1.2, b=0.75, NDCG@20: 26.715203093778644\n",
            "k1=1.2, b=1.0, NDCG@20: 26.701555641417528\n",
            "k1=1.5, b=0.5, NDCG@20: 27.204199559352308\n",
            "k1=1.5, b=0.75, NDCG@20: 26.991960588986668\n",
            "k1=1.5, b=1.0, NDCG@20: 26.783823937579367\n"
          ]
        }
      ],
      "source": [
        "param_scores = {}\n",
        "for k1 in [1.0, 1.2, 1.5]:\n",
        "    for b in [0.5, 0.75, 1.0]:\n",
        "        rec = bm25_recommender(train_set, k=20, k1=k1, b=b)\n",
        "        score = average_ndcg(rec, test_set, k=20)\n",
        "        param_scores[(k1, b)] = score\n",
        "        print(f\"k1={k1}, b={b}, NDCG@20: {score}\")"
      ]
    },
    {
      "cell_type": "code",
      "execution_count": 86,
      "metadata": {
        "ExecuteTime": {
          "end_time": "2024-11-10T23:52:44.172434Z",
          "start_time": "2024-11-10T23:52:44.137223Z"
        },
        "colab": {
          "base_uri": "https://localhost:8080/"
        },
        "id": "-BAoy19dQAMU",
        "outputId": "4ce7412b-d17d-4745-de5f-182b5cae6679"
      },
      "outputs": [
        {
          "output_type": "stream",
          "name": "stdout",
          "text": [
            "The best params: k1=1.0, b=0.5\n"
          ]
        }
      ],
      "source": [
        "best_params = max(param_scores, key=param_scores.get)\n",
        "print(f\"The best params: k1={best_params[0]}, b={best_params[1]}\")"
      ]
    },
    {
      "cell_type": "code",
      "execution_count": 87,
      "metadata": {
        "ExecuteTime": {
          "end_time": "2024-11-10T23:52:47.349156Z",
          "start_time": "2024-11-10T23:52:44.185166Z"
        },
        "colab": {
          "base_uri": "https://localhost:8080/"
        },
        "id": "oZeigfo5QAMU",
        "outputId": "67e6cc37-851b-4f16-8ccc-b380776e3098"
      },
      "outputs": [
        {
          "output_type": "stream",
          "name": "stdout",
          "text": [
            "NDCG@20: 0.10229526794987165\n"
          ]
        }
      ],
      "source": [
        "bm25_rec = bm25_recommender(train_data, k=20, k1=best_params[0], b=best_params[1])\n",
        "ndcg_score = average_ndcg(bm25_rec, validation_data, k=20)\n",
        "print(f\"NDCG@20: {ndcg_score}\")"
      ]
    },
    {
      "cell_type": "code",
      "execution_count": 89,
      "metadata": {
        "ExecuteTime": {
          "end_time": "2024-11-10T23:58:55.822087Z",
          "start_time": "2024-11-10T23:52:47.355841Z"
        },
        "colab": {
          "base_uri": "https://localhost:8080/"
        },
        "id": "Lyjwb0vqQAMU",
        "outputId": "7872546c-6812-4e63-b16f-63d655747f2e"
      },
      "outputs": [
        {
          "output_type": "stream",
          "name": "stdout",
          "text": [
            "1|21 -> 4.76%\n",
            "2|21 -> 9.52%\n",
            "3|21 -> 14.29%\n",
            "4|21 -> 19.05%\n",
            "5|21 -> 23.81%\n",
            "6|21 -> 28.57%\n",
            "7|21 -> 33.33%\n",
            "8|21 -> 38.1%\n",
            "9|21 -> 42.86%\n",
            "10|21 -> 47.62%\n",
            "11|21 -> 52.38%\n",
            "12|21 -> 57.14%\n",
            "13|21 -> 61.9%\n",
            "14|21 -> 66.67%\n",
            "15|21 -> 71.43%\n",
            "16|21 -> 76.19%\n",
            "17|21 -> 80.95%\n",
            "18|21 -> 85.71%\n",
            "19|21 -> 90.48%\n",
            "20|21 -> 95.24%\n",
            "21|21 -> 100.0%\n"
          ]
        }
      ],
      "source": [
        "ndcg_results = {}\n",
        "for k in range(1, amount := 22):\n",
        "  print(f\"{k}|{amount-1} -> {round(k/(amount-1) * 100, 2)}%\")\n",
        "  rec = bm25_recommender(train_data, k=k, k1=best_params[0], b=best_params[1])\n",
        "  ndcg_results[k] = average_ndcg(rec, validation_data, 20)"
      ]
    },
    {
      "cell_type": "code",
      "execution_count": 90,
      "metadata": {
        "ExecuteTime": {
          "end_time": "2024-11-10T23:58:57.040989Z",
          "start_time": "2024-11-10T23:58:55.828563Z"
        },
        "colab": {
          "base_uri": "https://localhost:8080/",
          "height": 410
        },
        "id": "G-PuGuk0QAMU",
        "outputId": "ea1530d2-7440-474e-8cb6-a59b65d2443a"
      },
      "outputs": [
        {
          "output_type": "display_data",
          "data": {
            "text/plain": [
              "<Figure size 1500x400 with 1 Axes>"
            ],
            "image/png": "[encoded data removed]"
          },
          "metadata": {}
        }
      ],
      "source": [
        "plt.figure(figsize=(15, 4))\n",
        "plt.plot(ndcg_results.keys(), ndcg_results.values())\n",
        "plt.xlabel(\"Amount of Neighbors\")\n",
        "plt.ylabel(\"NDCG@20\")\n",
        "plt.title(\"Graph of NDCG@20 dependence on the number of neighbors for BM25\")\n",
        "plt.show()"
      ]
    },
    {
      "cell_type": "markdown",
      "metadata": {
        "id": "dCJCFLDmqEna"
      },
      "source": [
        "## Завдання 6. ALS (4 бали)\n",
        "\n",
        "1) **(2 бали)** Застосуйте ALS із бібліотеки [implicit](https://github.com/benfred/implicit), використовуючи для навчання всі оцінки. Оцініть залежність якості рекомендацій (по 4 реалізованих метриках) кількості факторів (параметр factors). Побудуйте графік залежності NDCG@20 від сусідів.\n",
        "\n",
        "2) **(2 бали)** Повторіть експеримент із пункту 1, використовуючи для навчання лише позитивні оцінки (> 3). Не забудьте при фільтрації переглянутих врахувати всі взаємодії (не лише позитивні). Як це вплинуло на якість?\n",
        "\n",
        "Зверніть увагу на наявність регуляризації в параметрах моделі. Для досягнення хорошої якості моделі необхідно підбирати кількість факторів і рівень регулювання одночасно на відкладеній вибірці, наприклад, з використанням [optuna](https://optuna.org/)."
      ]
    },
    {
      "cell_type": "code",
      "execution_count": 91,
      "metadata": {
        "ExecuteTime": {
          "end_time": "2024-11-11T00:08:59.868648Z",
          "start_time": "2024-11-11T00:08:59.857127Z"
        },
        "id": "0TZkBziHQAMV"
      },
      "outputs": [],
      "source": [
        "from implicit.als import AlternatingLeastSquares"
      ]
    },
    {
      "cell_type": "code",
      "execution_count": 92,
      "metadata": {
        "ExecuteTime": {
          "end_time": "2024-11-11T00:08:59.954118Z",
          "start_time": "2024-11-11T00:08:59.873281Z"
        },
        "id": "gf6S3xyjQAMW"
      },
      "outputs": [],
      "source": [
        "def als_recommender(train_data, factors, regularization=0.1, iterations=15):\n",
        "    df = train_data[:10000]\n",
        "    user_item_matrix = pd.pivot_table(df, values='relevance', index='user_id', columns='item_id').fillna(0)\n",
        "    user_item_matrix = csr_matrix(user_item_matrix.values)\n",
        "\n",
        "    model = AlternatingLeastSquares(factors=factors, regularization=regularization, iterations=iterations)\n",
        "    model.fit(user_item_matrix, show_progress=False)\n",
        "\n",
        "    user_ids = df['user_id'].unique()\n",
        "    recommendations = pd.DataFrame({'user_id': [], 'item_id': [], 'relevance': []})\n",
        "\n",
        "    for i, user_id in enumerate(user_ids):\n",
        "        recommended_items, scores = model.recommend(i, user_item_matrix[i], N=20)\n",
        "        recommendations_temp = pd.DataFrame({'user_id': user_id, 'item_id': recommended_items, 'relevance': scores})\n",
        "        recommendations = pd.concat([recommendations, recommendations_temp])\n",
        "\n",
        "    return recommendations"
      ]
    },
    {
      "cell_type": "code",
      "execution_count": 95,
      "metadata": {
        "ExecuteTime": {
          "end_time": "2024-11-11T00:26:11.032297Z",
          "start_time": "2024-11-11T00:08:59.959755Z"
        },
        "colab": {
          "base_uri": "https://localhost:8080/"
        },
        "id": "4X9XWPHnQAMW",
        "outputId": "40010cb9-351c-45e6-ce32-f6986bc851dd"
      },
      "outputs": [
        {
          "output_type": "stream",
          "name": "stdout",
          "text": [
            "Factors 1|51 -> NDCG@20: 22.30576846685164\n",
            "Factors 5|51 -> NDCG@20: 31.676564510894742\n",
            "Factors 9|51 -> NDCG@20: 27.443214624594276\n",
            "Factors 13|51 -> NDCG@20: 27.42836312310993\n",
            "Factors 17|51 -> NDCG@20: 29.657309238362988\n",
            "Factors 21|51 -> NDCG@20: 29.38454878208957\n",
            "Factors 25|51 -> NDCG@20: 32.46077117679074\n",
            "Factors 29|51 -> NDCG@20: 28.290868645906308\n",
            "Factors 33|51 -> NDCG@20: 31.162549903837643\n",
            "Factors 37|51 -> NDCG@20: 31.00657846983475\n",
            "Factors 41|51 -> NDCG@20: 30.293848170784266\n",
            "Factors 45|51 -> NDCG@20: 29.195907158610247\n",
            "Factors 49|51 -> NDCG@20: 32.66054196177003\n"
          ]
        }
      ],
      "source": [
        "train_set, test_set = train_test_split(train_data, test_size=0.15, random_state=666)\n",
        "factor_scores = {}\n",
        "\n",
        "for factors in range(1, amount := 51, 4):\n",
        "    rec = als_recommender(train_set, factors=factors)\n",
        "    score = average_ndcg(rec, test_set, k=20)\n",
        "    factor_scores[factors] = score\n",
        "    print(f\"Factors {factors}|{amount} -> NDCG@20: {score}\")"
      ]
    },
    {
      "cell_type": "code",
      "execution_count": 96,
      "metadata": {
        "ExecuteTime": {
          "end_time": "2024-11-11T00:26:11.811749Z",
          "start_time": "2024-11-11T00:26:11.051122Z"
        },
        "colab": {
          "base_uri": "https://localhost:8080/",
          "height": 410
        },
        "id": "2B2wsmrlQAMW",
        "outputId": "86253788-2771-4aee-ca2c-9a7b4d6fd9c8"
      },
      "outputs": [
        {
          "output_type": "display_data",
          "data": {
            "text/plain": [
              "<Figure size 1500x400 with 1 Axes>"
            ],
            "image/png": "[encoded data removed]"
          },
          "metadata": {}
        }
      ],
      "source": [
        "plt.figure(figsize=(15, 4))\n",
        "plt.plot(factor_scores.keys(), factor_scores.values())\n",
        "plt.xlabel(\"Amount of factors\")\n",
        "plt.ylabel(\"NDCG@20\")\n",
        "plt.title(\"Dependence of NDCG@20 on the number of factors for ALS\")\n",
        "plt.show()"
      ]
    },
    {
      "cell_type": "markdown",
      "source": [],
      "metadata": {
        "id": "Rw3EhmV5djS6"
      }
    },
    {
      "cell_type": "markdown",
      "source": [
        "## Only positive ratings (> 3)"
      ],
      "metadata": {
        "id": "9teBn1n9dk2p"
      }
    },
    {
      "cell_type": "code",
      "execution_count": 98,
      "metadata": {
        "ExecuteTime": {
          "end_time": "2024-11-11T00:34:49.788160Z",
          "start_time": "2024-11-11T00:26:11.822958Z"
        },
        "colab": {
          "base_uri": "https://localhost:8080/"
        },
        "id": "qmZVNlMtQAMW",
        "outputId": "d5954b8e-4db7-4a9b-f881-e17ac5140482"
      },
      "outputs": [
        {
          "output_type": "stream",
          "name": "stdout",
          "text": [
            "Factors 1|51 -> NDCG@20: 0.9762722886066182\n",
            "Factors 5|51 -> NDCG@20: 0.65383326884166\n",
            "Factors 9|51 -> NDCG@20: 0.8239217000907754\n",
            "Factors 13|51 -> NDCG@20: 0.7399595783715178\n",
            "Factors 17|51 -> NDCG@20: 0.2199541253667577\n",
            "Factors 21|51 -> NDCG@20: 0.7268660144894178\n",
            "Factors 25|51 -> NDCG@20: 0.6422079911903896\n",
            "Factors 29|51 -> NDCG@20: 0.5896533408540279\n",
            "Factors 33|51 -> NDCG@20: 0.680102213991535\n",
            "Factors 37|51 -> NDCG@20: 0.501509708375109\n",
            "Factors 41|51 -> NDCG@20: 0.48229920135669824\n",
            "Factors 45|51 -> NDCG@20: 0.8023474302519751\n",
            "Factors 49|51 -> NDCG@20: 0.5185612938708735\n"
          ]
        }
      ],
      "source": [
        "train_data_positive = train_data[train_data['relevance'] > 3]\n",
        "user_item_matrix_positive = pd.pivot_table(train_data, values='relevance', index='user_id', columns='item_id').fillna(0)\n",
        "user_item_matrix_positive = csr_matrix(user_item_matrix_positive.values)\n",
        "\n",
        "factor_scores_positive = {}\n",
        "\n",
        "for factors in range(1, amount := 51, 4):\n",
        "    model = AlternatingLeastSquares(factors=factors, regularization=0.1, iterations=15)\n",
        "    model.fit(user_item_matrix_positive, show_progress=False)\n",
        "\n",
        "    rec = als_recommender(train_data_positive, factors=factors)\n",
        "    score = average_ndcg(rec, test_set, k=20)\n",
        "    factor_scores_positive[factors] = score\n",
        "    print(f\"Factors {factors}|{amount} -> NDCG@20: {score}\")"
      ]
    },
    {
      "cell_type": "code",
      "execution_count": 99,
      "metadata": {
        "ExecuteTime": {
          "end_time": "2024-11-11T00:34:50.855721Z",
          "start_time": "2024-11-11T00:34:49.792745Z"
        },
        "colab": {
          "base_uri": "https://localhost:8080/",
          "height": 410
        },
        "id": "nyxN2oIxQAMW",
        "outputId": "e7bf97bd-1d4e-45ac-e77a-b155805d1199"
      },
      "outputs": [
        {
          "output_type": "display_data",
          "data": {
            "text/plain": [
              "<Figure size 1500x400 with 1 Axes>"
            ],
            "image/png": "[encoded data removed]"
          },
          "metadata": {}
        }
      ],
      "source": [
        "plt.figure(figsize=(15, 4))\n",
        "plt.plot(factor_scores_positive.keys(), factor_scores_positive.values(), label='Позитивні оцінки (>3)')\n",
        "plt.xlabel(\"Number of factors\")\n",
        "plt.ylabel(\"NDCG@20\")\n",
        "plt.title(\"Dependence of NDCG@20 on the number of factors for ALS\")\n",
        "plt.legend()\n",
        "plt.show()"
      ]
    },
    {
      "cell_type": "code",
      "execution_count": 101,
      "metadata": {
        "ExecuteTime": {
          "end_time": "2024-11-11T00:34:52.130054Z",
          "start_time": "2024-11-11T00:34:50.864007Z"
        },
        "colab": {
          "base_uri": "https://localhost:8080/",
          "height": 410
        },
        "id": "t-0kXNLMQAMW",
        "outputId": "cadd7a43-710c-45aa-c762-6236f929599f"
      },
      "outputs": [
        {
          "output_type": "display_data",
          "data": {
            "text/plain": [
              "<Figure size 1500x400 with 1 Axes>"
            ],
            "image/png": "[encoded data removed]"
          },
          "metadata": {}
        }
      ],
      "source": [
        "plt.figure(figsize=(15, 4))\n",
        "plt.plot(factor_scores_positive.keys(), factor_scores_positive.values(), label='Positive scores (>3)')\n",
        "plt.plot(factor_scores.keys(), factor_scores.values(), label='All scores')\n",
        "plt.xlabel(\"Number of factors\")\n",
        "plt.ylabel(\"NDCG@20\")\n",
        "plt.title(\"NDCG@20 dependence on the number of factors for ALS\")\n",
        "plt.legend()\n",
        "plt.show()"
      ]
    },
    {
      "cell_type": "markdown",
      "metadata": {
        "id": "iHmoSrzV2QC0"
      },
      "source": [
        "# Підготуйте висновки по всьому ноутбуку\n",
        "Які моделі працювали краще? Які на це можуть бути причини? Які моделі найбільш чутливі до налаштування гіперпараметрів? Розкажіть про цікаві спостереження та труднощі."
      ]
    }
  ],
  "metadata": {
    "colab": {
      "provenance": []
    },
    "kernelspec": {
      "display_name": "Python 3 (ipykernel)",
      "language": "python",
      "name": "python3"
    },
    "language_info": {
      "codemirror_mode": {
        "name": "ipython",
        "version": 3
      },
      "file_extension": ".py",
      "mimetype": "text/x-python",
      "name": "python",
      "nbconvert_exporter": "python",
      "pygments_lexer": "ipython3",
      "version": "3.11.4"
    }
  },
  "nbformat": 4,
  "nbformat_minor": 0
}